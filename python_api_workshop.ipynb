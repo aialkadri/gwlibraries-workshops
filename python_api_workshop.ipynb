{
  "nbformat": 4,
  "nbformat_minor": 0,
  "metadata": {
    "colab": {
      "name": "python_api_workshop.ipynb",
      "version": "0.3.2",
      "provenance": [],
      "collapsed_sections": []
    },
    "kernelspec": {
      "name": "python3",
      "display_name": "Python 3"
    }
  },
  "cells": [
    {
      "metadata": {
        "id": "uYAGzO1NvOey",
        "colab_type": "text"
      },
      "cell_type": "markdown",
      "source": [
        "## Getting Data from API's with Python"
      ]
    },
    {
      "metadata": {
        "id": "8a6TyXl8u_5U",
        "colab_type": "text"
      },
      "cell_type": "markdown",
      "source": [
        "** GW Libraries and Academic Innovation**\n",
        "\n",
        "March 27, 2019\n",
        "\n",
        "Gelman 219\n"
      ]
    },
    {
      "metadata": {
        "id": "GsYYtH6Nu9w9",
        "colab_type": "text"
      },
      "cell_type": "markdown",
      "source": [
        "### Workshop goals\n",
        "\n",
        "This workshop will cover a couple of basic use cases for retrieving data from RESTful API's with Python. \n",
        "\n",
        "By the conclusion of this workshop, you will have worked through the following:\n",
        "\n",
        "* Understanding the REST framework for data retrieval\n",
        "* Obtaining and using an API key\n",
        "* Constructing a query with parameters in Python using the `requests` library\n",
        "* Writing a `for` loop to retrieve multiple pages of results\n",
        "* Parsing a JSON response\n",
        "* Exporting data in CSV format\n",
        "\n"
      ]
    },
    {
      "metadata": {
        "id": "dPd4C14Lwi8v",
        "colab_type": "text"
      },
      "cell_type": "markdown",
      "source": [
        "### Tips for using this Google Colab notebook\n",
        "\n",
        "When working in a Google Colaboratory notebook, Shift-Return (Shift-Enter) runs the cell you're on. You can also run the cell using the \"Play\" button at the left edge of the cell.\n",
        "\n",
        "There are many other keyboard shortcuts. You can access the list via the menu bar, at Tools-->Command palette. In fact, you can even customize your keyboard shortcuts using Tools-->Keyboard shortcuts.\n",
        "\n",
        "    (If you're working in an Anaconda/Jupyter notebook:\n",
        "\n",
        "        Shift-Return (Shift-Enter) runs the cell you're on. You can also run the cell using the \"Play\" button in the toolbar.\n",
        "\n",
        "> Indented block\n",
        "\n",
        "\n",
        "        Esc, then A inserts a cell above where you are.\n",
        "        Esc, then B inserts a cell below where you are.\n",
        "        More shortcuts under Help --> Keyboard Shortcuts)\n",
        "\n",
        "You will probably get some errors in working through this notebook. That's okay, you can just go back and change the cell and re-run it.\n",
        "\n",
        "The notebook auto-saves as you work, just like gmail and most Google apps."
      ]
    },
    {
      "metadata": {
        "id": "Z-b1a19vznby",
        "colab_type": "text"
      },
      "cell_type": "markdown",
      "source": [
        "### What is an API?\n",
        "\n",
        "An **A**pplication **P**rogramming **I**nterface is a generic term for functionality that allows one computer application to talk to another. In contrast to a graphical user interface (GUI), which allows an end user to interact with an application via visual symbols (*e.g.* icons) and manual operations (*e.g.* mouse clicks), an API allows a user to interact with the application by writing code. \n",
        "\n",
        "\n",
        "You can think of API's as the glue that holds together the various modules and libraries of code that make up a given system, whether we're talking about a single piece of software or the entire World Wide Web.\n",
        "\n",
        "-------------------------\n",
        "\n",
        "### What is REST?\n",
        "\n",
        "**R**epresentational **S**tate **T**ransfer refers to a common set of principles implemented by services that communicate via the web. Most RESTful API's use **HTTP** to provide access. Via HTTP and its core methods, you code can communicate with a web service jthe way your browser does when you visit a web site. We'll see how to write code to do just that in this workshop.   "
      ]
    },
    {
      "metadata": {
        "id": "_xFhpp8t-U5B",
        "colab_type": "text"
      },
      "cell_type": "markdown",
      "source": [
        "### Using an API to find and rerieve news headlines"
      ]
    },
    {
      "metadata": {
        "id": "pa21rcXp9QnQ",
        "colab_type": "text"
      },
      "cell_type": "markdown",
      "source": [
        "We're going to use a couple of libraries for making API calls and processing the data these calls return. They are not part of the standard Python distribution, but they're pre-installed for Google Colaboratory notebooks. If you're running a Jupyter notebook locally on your computer via the Anaconda distribution of Python, they are pre-installed there as well. If not, you can install them yourself by running these commands inline in your notebook:\n",
        "\n",
        "`!pip install pandas`\n",
        "\n",
        "`!pip intall requests`\n",
        "\n",
        "You can also install them at the command line by using the above commands *without* the prefixed exclamation point."
      ]
    },
    {
      "metadata": {
        "id": "kwgwE_f1_lyu",
        "colab_type": "text"
      },
      "cell_type": "markdown",
      "source": [
        "** Run the following cell by pressing _Shift_ plus _Enter_.**"
      ]
    },
    {
      "metadata": {
        "id": "y4EXmTSuvMeY",
        "colab_type": "code",
        "colab": {}
      },
      "cell_type": "code",
      "source": [
        "import pandas as pd\n",
        "import requests"
      ],
      "execution_count": 0,
      "outputs": []
    },
    {
      "metadata": {
        "id": "NbQta595MLrS",
        "colab_type": "text"
      },
      "cell_type": "markdown",
      "source": [
        "**News API** https://newsapi.org/docs/ provides content scraped from a variety of news organizations websites in single stream. Accounts for developers and non-commercial users are free and provide access to the metadata (though not the full article content) for news stories up to 1 month old. "
      ]
    },
    {
      "metadata": {
        "id": "Aq-7zGGf_Cy_",
        "colab_type": "text"
      },
      "cell_type": "markdown",
      "source": [
        "**Step 1**\n",
        "\n",
        "Register for an API key. Many, though not all, web API's require users to authenticate with some kind of credentials. An API key is a simple way to do this, by passing a unique identifier to the service along with each of your HTTP requests.\n",
        "\n",
        "To register for an API key with News API, visit this link and fill out and submit the form: https://newsapi.org/register"
      ]
    },
    {
      "metadata": {
        "id": "_CqFzDQq_eoh",
        "colab_type": "text"
      },
      "cell_type": "markdown",
      "source": [
        "Once you have your API key, let's **assign it to a variable.** You will use this variable in constructing your requests to this API.\n",
        "\n",
        "\n"
      ]
    },
    {
      "metadata": {
        "id": "AWkAKXOEu3_K",
        "colab_type": "code",
        "colab": {}
      },
      "cell_type": "code",
      "source": [
        "NEWS_API_KEY = ''\n"
      ],
      "execution_count": 0,
      "outputs": []
    },
    {
      "metadata": {
        "id": "MlZmSTJS__8O",
        "colab_type": "text"
      },
      "cell_type": "markdown",
      "source": [
        "**Step 2**\n",
        "\n",
        "We also need a URL to point our code to. Because we'll be using a GET request (more on that in a minute), our URL will include additional parameters that specify the data we're looking for. But the first part of the URL will remain the same for all our requests to this API.\n",
        "\n",
        "This part of the URL is described in the [News API documentation](https://newsapi.org/docs/endpoints). The part after the `.org` is called an **endpoint**. API's may provide multiple endpoints for different types of data. The News API endpoint we're using allows us to search all content collected by the service over the past 30 days.\n"
      ]
    },
    {
      "metadata": {
        "id": "j0Qeuy_eNhXM",
        "colab_type": "code",
        "colab": {}
      },
      "cell_type": "code",
      "source": [
        "NEWS_BASE_URL = 'https://newsapi.org/v2/everything'"
      ],
      "execution_count": 0,
      "outputs": []
    },
    {
      "metadata": {
        "id": "nF5iHahrBh-9",
        "colab_type": "text"
      },
      "cell_type": "markdown",
      "source": [
        "**Step 3**\n",
        "\n",
        "Now that we have our endpoint, we are ready to construct our query. Let's say we're looking for stories that cover a specific company. **Tesla** has been in the news a lot lately, so I'm going to use that. But you can feel free to substitute your own topic of interest.\n",
        "\n",
        "Let's take a moment to review the [API documentation](https://newsapi.org/docs/endpoints/everything) for the `/everything` endpoint.\n",
        "\n",
        "There are a couple of points to pay attention to:\n",
        "\n",
        "1. This endpoint accepts GET requests. GET is the simplest method defined by HTTP. GET requests have a couple of features:\n",
        "     \n",
        "     a. All of your data (as the requestor) must passed as part of the URL. Other HTTP methods, like POST, allow you to include a body of data with your request, like a form or a file, but we won't be using those here.\n",
        "    \n",
        "    b. GET requests are considered _safe_ because you can use them only to retreive data, not to make any changes to the data on the server from which you are making the request. \n",
        "    \n",
        "2. The documentation defines a set of **request parameters** and a **response object**. These are the meat of the API.  The request parameters specify fields that your application, _as the requestor_ can use to define your request. The response object is structured data that the API will return in response to your request.\n",
        "\n"
      ]
    },
    {
      "metadata": {
        "id": "mSXsr2KEEtVm",
        "colab_type": "text"
      },
      "cell_type": "markdown",
      "source": [
        "**Step 3.a**\n",
        "\n",
        "We'll start with a simple query: everything in the newsbank that matches the keyword \"tesla.\"\n",
        "\n",
        "As you saw in the documentation, our requests will pass our query parameters to the API as part of the URL. But since we're using the `requests` Python library to make our requests, we don't have to construct the whole URL ourselves; the library will do it for us, as long as we pass it a dictionary (a set of key-value pairs.)\n",
        "\n",
        "**Define a dictionary called `params` that has two items: **\n",
        "* Your query, which should be a string value assigned to the key `q`\n",
        "* Your API key, assigned to the key `apiKey`\n",
        "\n",
        "Since you already stored your API key in a variable, you can refer back to it inside your dictionary by that variable name."
      ]
    },
    {
      "metadata": {
        "id": "fU87D2f0Cs5t",
        "colab_type": "code",
        "colab": {}
      },
      "cell_type": "code",
      "source": [
        "params = {'q': 'tesla',\n",
        "         'apiKey': NEWS_API_KEY}"
      ],
      "execution_count": 0,
      "outputs": []
    },
    {
      "metadata": {
        "id": "fkNVp8NrINAD",
        "colab_type": "text"
      },
      "cell_type": "markdown",
      "source": [
        "**Step 3.b**\n",
        "We'll use the `get()` method, defined by the `requests` module, to make a GET request.\n",
        "\n",
        "**Call `requests.get`, passing it as arguments the following:**\n",
        "* the variable that holds your base URL\n",
        "* your dictionary of parameters as a keyword argument, _i.e._, `params=your_custom_params`.\n",
        "\n",
        "**Assign your call to `requests.get` to a new variable. This variable will hold the response object from the API.**\n",
        "\n",
        "Note: `requests` HTTP methods also support passing a custom HTTP request header as an argument to the `headers` keyword. Some API's require custom header values, but we're not covering that today."
      ]
    },
    {
      "metadata": {
        "id": "5bwffhi1DGrC",
        "colab_type": "code",
        "colab": {}
      },
      "cell_type": "code",
      "source": [
        "news_data_response = requests.get(NEWS_BASE_URL, params=params)"
      ],
      "execution_count": 0,
      "outputs": []
    },
    {
      "metadata": {
        "id": "ypaWfwbXJv2P",
        "colab_type": "text"
      },
      "cell_type": "markdown",
      "source": [
        "The response object that `requests` returns includes the data from our GET request. It also includes other useful information among its properties and methods. \n",
        "\n",
        "If we inspect the response itself, we can see the HTTP status. `200` = a successful request."
      ]
    },
    {
      "metadata": {
        "id": "ovGbzrDwDPzU",
        "colab_type": "code",
        "outputId": "534bafea-9ef5-4563-de10-8cce76bee19e",
        "colab": {
          "base_uri": "https://localhost:8080/",
          "height": 36
        }
      },
      "cell_type": "code",
      "source": [
        "news_data_response"
      ],
      "execution_count": 0,
      "outputs": [
        {
          "output_type": "execute_result",
          "data": {
            "text/plain": [
              "<Response [200]>"
            ]
          },
          "metadata": {
            "tags": []
          },
          "execution_count": 6
        }
      ]
    },
    {
      "metadata": {
        "id": "5WqhGINbKk80",
        "colab_type": "text"
      },
      "cell_type": "markdown",
      "source": [
        "We can see the actual URL of our request by accessing the `url` property of the `request` property of our response. This can be useful for troubleshooting."
      ]
    },
    {
      "metadata": {
        "id": "WqaLMosGDP_V",
        "colab_type": "code",
        "outputId": "c4d85b61-3650-4353-b3b6-daadc975e1b6",
        "colab": {
          "base_uri": "https://localhost:8080/",
          "height": 36
        }
      },
      "cell_type": "code",
      "source": [
        "news_data_response.request.url"
      ],
      "execution_count": 0,
      "outputs": [
        {
          "output_type": "execute_result",
          "data": {
            "text/plain": [
              "'https://newsapi.org/v2/everything?q=tesla&apiKey=378d209a7cf14c1e8d5376f223f06904'"
            ]
          },
          "metadata": {
            "tags": []
          },
          "execution_count": 7
        }
      ]
    },
    {
      "metadata": {
        "id": "Z8qyi2lSK-GN",
        "colab_type": "text"
      },
      "cell_type": "markdown",
      "source": [
        "**Step 3.c**\n",
        "\n",
        "**Access the JSON data in the response object by calling the latter's `json()` method. \n",
        "Store the data in a new variable.**\n",
        "\n",
        "Note that this method requires no arguments.  "
      ]
    },
    {
      "metadata": {
        "id": "nL7sY70ZDP8S",
        "colab_type": "code",
        "colab": {}
      },
      "cell_type": "code",
      "source": [
        "news_data = news_data_response.json()"
      ],
      "execution_count": 0,
      "outputs": []
    },
    {
      "metadata": {
        "id": "tXpzleT4Lnwb",
        "colab_type": "text"
      },
      "cell_type": "markdown",
      "source": [
        "Per the documentation, the API's response contains a field called `totalResults` that records how many results were found. Because the data is in JSON format, the `json()` method converts the data to a native Python object -- in this case, a dictionary.\n"
      ]
    },
    {
      "metadata": {
        "id": "AjPmdTBJEBea",
        "colab_type": "code",
        "outputId": "62b78e28-7429-4598-f1f4-b50b10216b7f",
        "colab": {
          "base_uri": "https://localhost:8080/",
          "height": 36
        }
      },
      "cell_type": "code",
      "source": [
        "news_data['totalResults']"
      ],
      "execution_count": 0,
      "outputs": [
        {
          "output_type": "execute_result",
          "data": {
            "text/plain": [
              "13241"
            ]
          },
          "metadata": {
            "tags": []
          },
          "execution_count": 9
        }
      ]
    },
    {
      "metadata": {
        "id": "-of4ID1wMdnQ",
        "colab_type": "text"
      },
      "cell_type": "markdown",
      "source": [
        "So let's look at some of these results. The article-level metadata for these news stories are stored in a field whose key is `articles`."
      ]
    },
    {
      "metadata": {
        "id": "Ak74lGfdMc1A",
        "colab_type": "code",
        "colab": {}
      },
      "cell_type": "code",
      "source": [
        "news_data['articles']"
      ],
      "execution_count": 0,
      "outputs": []
    },
    {
      "metadata": {
        "id": "u0XGGVgRM3dT",
        "colab_type": "text"
      },
      "cell_type": "markdown",
      "source": [
        "How would you describe the structure of the `articles` object that's nested within our response object?"
      ]
    },
    {
      "metadata": {
        "id": "T8NbaXegNBNM",
        "colab_type": "text"
      },
      "cell_type": "markdown",
      "source": [
        "How many articles are there in this list?"
      ]
    },
    {
      "metadata": {
        "id": "TGNh4xcvNGih",
        "colab_type": "code",
        "outputId": "40fd72b5-9b96-4120-9adf-19662e445e4a",
        "colab": {
          "base_uri": "https://localhost:8080/",
          "height": 36
        }
      },
      "cell_type": "code",
      "source": [
        "len(news_data['articles'])"
      ],
      "execution_count": 0,
      "outputs": [
        {
          "output_type": "execute_result",
          "data": {
            "text/plain": [
              "20"
            ]
          },
          "metadata": {
            "tags": []
          },
          "execution_count": 11
        }
      ]
    },
    {
      "metadata": {
        "id": "KYMvNDlMNEZX",
        "colab_type": "text"
      },
      "cell_type": "markdown",
      "source": [
        "So out of 15,000, we only retrieved the first handful. The maximum number this API will return per request is 100. Let's refactor our request code to take advantage of the `page` and `pageSize` parameters to get more results in sequence.\n",
        "\n",
        "\n",
        "**Step 4.a**\n",
        "\n",
        "**Calculate the total number of pages we'we should expect to have in this result set, given the total number of results and a page size of 100.**\n",
        "\n",
        "Note that we'll need an integer for the number of total pages, so we'll need to round up."
      ]
    },
    {
      "metadata": {
        "id": "UnxKmaCVNFSB",
        "colab_type": "code",
        "colab": {}
      },
      "cell_type": "code",
      "source": [
        "num_pages = news_data['totalResults'] // 100 + 1"
      ],
      "execution_count": 0,
      "outputs": []
    },
    {
      "metadata": {
        "id": "dFM3m_MGPCzd",
        "colab_type": "text"
      },
      "cell_type": "markdown",
      "source": [
        "**Step 4.b**\n",
        "\n",
        "**Modify your request parameters dictionary to include the `pageSize` parameter, setting it to the maximum allowed.**"
      ]
    },
    {
      "metadata": {
        "id": "hjZZQ5GnQA4C",
        "colab_type": "code",
        "colab": {}
      },
      "cell_type": "code",
      "source": [
        "params.update({'pageSize': 100})"
      ],
      "execution_count": 0,
      "outputs": []
    },
    {
      "metadata": {
        "id": "_HejQEqmQNXP",
        "colab_type": "text"
      },
      "cell_type": "markdown",
      "source": [
        "**Step 4.c**\n",
        "\n",
        "**Set up a `for` loop to make as many requests as we need, incrementing the `page` parameter of our request each time.**\n",
        "\n",
        "For the sake of this exercise, let's limit our number of queries to 5 so that it doesn't take too long. \n",
        "\n",
        "**Within the loop, we'll need to store our data within a list so that we can access it afterwards.**"
      ]
    },
    {
      "metadata": {
        "id": "0V4MynoQSMIH",
        "colab_type": "code",
        "colab": {}
      },
      "cell_type": "code",
      "source": [
        "# Make sure to define your list outside of the for loop, so that it doesn't get overwritten each time\n",
        "data_all_pages = []\n",
        "# We're using range to generate a list from 1 to 5\n",
        "for n in range(1, 6):\n",
        "  # Each time through, we update the page parameter\n",
        "  params['page'] = n\n",
        "  response = requests.get(NEWS_BASE_URL, params=params)\n",
        "  # Error checking: if for some reason our request returns a status other than 200, we print the status message and exit the loop\n",
        "  if response.status_code != 200:\n",
        "    print(response.text)\n",
        "    break\n",
        "  data_this_page = response.json()\n",
        "  # We are just saving the article-level metadata\n",
        "  # We're using the extend method of the list object to avoid creating a nested list\n",
        "  data_all_pages.extend(data_this_page['articles'])"
      ],
      "execution_count": 0,
      "outputs": []
    },
    {
      "metadata": {
        "id": "XTLlq_pxUfzc",
        "colab_type": "text"
      },
      "cell_type": "markdown",
      "source": [
        "We should have retrieved 500 results. Did the code above work as planned?"
      ]
    },
    {
      "metadata": {
        "id": "9HcKBDpbT8e-",
        "colab_type": "code",
        "outputId": "9a957c29-223c-46d2-93a1-67e7e4023c59",
        "colab": {
          "base_uri": "https://localhost:8080/",
          "height": 36
        }
      },
      "cell_type": "code",
      "source": [
        "len(data_all_pages)"
      ],
      "execution_count": 0,
      "outputs": [
        {
          "output_type": "execute_result",
          "data": {
            "text/plain": [
              "500"
            ]
          },
          "metadata": {
            "tags": []
          },
          "execution_count": 15
        }
      ]
    },
    {
      "metadata": {
        "id": "UFhwuqGVUl-V",
        "colab_type": "text"
      },
      "cell_type": "markdown",
      "source": [
        "**Step 5**\n",
        "\n",
        "**Convert the list of results to CSV format.**\n",
        "\n",
        "Lucky for us, the JSON object returned by the News API is not very complex. With one fairly minor adjustment, the list of articles can be flattened into a table structure for export to a spreadsheet. \n",
        "\n",
        "As a rule of thumb, a list of dictionaries in Python can be converted into a 2-D table provided the following are true:\n",
        "\n",
        "1. Each dictionary has the same keys. (The number of columns in the table will correspond to the number of unique keys in the data.)\n",
        "\n",
        "2. No dictionary entry is nested. In other words, the dictionary items have only scalar values. \n",
        "\n",
        "In our case, only one metadata item is nested at the article level. The `source` key has a dictionary for its value. \n",
        "\n"
      ]
    },
    {
      "metadata": {
        "id": "FoDl65YhW_Z8",
        "colab_type": "text"
      },
      "cell_type": "markdown",
      "source": [
        "**Step 5.a**\n",
        "\n",
        "**Flatten the `source` dictionary by creating key-value pairs at the article level.**\n"
      ]
    },
    {
      "metadata": {
        "id": "1e8jiYwmUlOX",
        "colab_type": "code",
        "colab": {}
      },
      "cell_type": "code",
      "source": [
        "# We iterate over the list, updating each article dictionary as we go\n",
        "for article in data_all_pages:\n",
        "  # Store the source dictionary in a temporary variable\n",
        "  source = article['source']\n",
        "  # Assign new key-value pairs to this article dictionary to hold the data from the source dictionary\n",
        "  article['source_name'] = source['name']\n",
        "  article['source_id'] = source['id']\n",
        "  # Remove the source dictionary from its parent article dictionary\n",
        "  del article['source']"
      ],
      "execution_count": 0,
      "outputs": []
    },
    {
      "metadata": {
        "id": "BmG8d8T_YiJC",
        "colab_type": "text"
      },
      "cell_type": "markdown",
      "source": [
        "**Step 5.b**\n",
        "\n",
        "**Use the `pandas` library to create a DataFrame out of this list of dictionaries.**\n",
        "\n",
        "There are other methods for creating tables for export, but pandas provides a particularly \n",
        "convenient way of doing that."
      ]
    },
    {
      "metadata": {
        "id": "C61m4KouZrm9",
        "colab_type": "code",
        "colab": {}
      },
      "cell_type": "code",
      "source": [
        "# The from_records method on the DataFrame class in pandas will create a table out of list of dicts, using the dictionary keys as the column headers.\n",
        "news_dataframe = pd.DataFrame.from_records(data_all_pages)"
      ],
      "execution_count": 0,
      "outputs": []
    },
    {
      "metadata": {
        "id": "w8AdFoSCZ-5q",
        "colab_type": "text"
      },
      "cell_type": "markdown",
      "source": [
        "**Step 5.c**\n",
        "\n",
        "**Use the `to_csv` method on your DataFrame to save it as a CSV file .**\n",
        "\n",
        "If you don't pass the `index=False` argument to the `to_csv` function, your CSV will have a numerical index as the first column. \n"
      ]
    },
    {
      "metadata": {
        "id": "3MvW6nkeZ5tR",
        "colab_type": "code",
        "colab": {}
      },
      "cell_type": "code",
      "source": [
        "news_dataframe.to_csv('news_api_results_first_500.csv', index=False)"
      ],
      "execution_count": 0,
      "outputs": []
    },
    {
      "metadata": {
        "id": "GNqKB3hob8th",
        "colab_type": "text"
      },
      "cell_type": "markdown",
      "source": [
        "If you're using Google Colab, you can download your file by expanding the panel to the left of your notebook. Then click on the **Files** tab. You should see you file listed there. Right click on it and select **Download**. \n"
      ]
    },
    {
      "metadata": {
        "id": "Pk3cmAc20EGR",
        "colab_type": "text"
      },
      "cell_type": "markdown",
      "source": [
        "### Using an API to get stock price data"
      ]
    },
    {
      "metadata": {
        "id": "D_fsrsr3Fb5S",
        "colab_type": "text"
      },
      "cell_type": "markdown",
      "source": [
        "**Alpha Vantage** https://www.alphavantage.co/documentation/ provides a free API for retrieving daily stock price data in either JSON or CSV format. \n",
        "\n",
        "We'll use this API to get some time-series data about the prices of Tesla stock. "
      ]
    },
    {
      "metadata": {
        "id": "meTlhhDd1dtw",
        "colab_type": "text"
      },
      "cell_type": "markdown",
      "source": [
        "**Step 1: Create an account at Alpha Vantage to get your API key.**\n",
        "\n",
        "You'll need to enter your name and email address at the following link: https://www.alphavantage.co/support/#api-key"
      ]
    },
    {
      "metadata": {
        "id": "UHEiki0012ov",
        "colab_type": "text"
      },
      "cell_type": "markdown",
      "source": [
        "**Step 2: Create variables to store your API key and the Alpha Vantage endpoint.**\n"
      ]
    },
    {
      "metadata": {
        "id": "2ti7Dcl1ANaj",
        "colab_type": "code",
        "colab": {}
      },
      "cell_type": "code",
      "source": [
        "ALPHA_VANTAGE_KEY = ''"
      ],
      "execution_count": 0,
      "outputs": []
    },
    {
      "metadata": {
        "id": "LheeNqpbFgMc",
        "colab_type": "code",
        "colab": {}
      },
      "cell_type": "code",
      "source": [
        "AV_URL = 'https://www.alphavantage.co/query'"
      ],
      "execution_count": 0,
      "outputs": []
    },
    {
      "metadata": {
        "id": "gC8ZRUOQ2FYd",
        "colab_type": "text"
      },
      "cell_type": "markdown",
      "source": [
        "**Step 3: Create your dict of parameters.**\n",
        "\n",
        "As we did with the News API, we'll be making a GET request. Alpha Vantage has only one endpoint, and you specify the kind of data you want by using the `function` parameter in your request. \n",
        "\n",
        "We want the intraday stock price data, so we should that parameter to `TIME_SERIES_INTRADAY`. We also need to pass it the ticker symbol for our commodity as a value on the parameter `symbol`. There are a few additional parameters we can set to make sure we get a decent amount of data back. \n"
      ]
    },
    {
      "metadata": {
        "id": "zYGmvX4mHFZh",
        "colab_type": "code",
        "colab": {}
      },
      "cell_type": "code",
      "source": [
        "params = {'function': 'TIME_SERIES_INTRADAY',\n",
        "         'symbol': 'TSLA',\n",
        "         'interval': '60min',\n",
        "         'outputsize': 'full',\n",
        "         'apikey': ALPHA_VANTAGE_KEY}"
      ],
      "execution_count": 0,
      "outputs": []
    },
    {
      "metadata": {
        "id": "B-Nx76CH3RF5",
        "colab_type": "text"
      },
      "cell_type": "markdown",
      "source": [
        "**Step 4: Make your request and store the response in a variable.**"
      ]
    },
    {
      "metadata": {
        "id": "GSzyVKYrB7J9",
        "colab_type": "code",
        "colab": {}
      },
      "cell_type": "code",
      "source": [
        "av_response = requests.get(AV_URL, params=params)\n",
        "tesla_time_series = av_response.json()"
      ],
      "execution_count": 0,
      "outputs": []
    },
    {
      "metadata": {
        "id": "PYg8cKAh3szc",
        "colab_type": "text"
      },
      "cell_type": "markdown",
      "source": [
        "The Alpha Vantage API, like News API, returns JSON by default. But let's make sure that we got back something useable.\n",
        "\n",
        "What do you notice about the structure of the data from this API? \n",
        "\n",
        "How does it differ from what we go from News API?"
      ]
    },
    {
      "metadata": {
        "id": "cR-1rkmyB918",
        "colab_type": "code",
        "colab": {}
      },
      "cell_type": "code",
      "source": [
        "tesla_time_series"
      ],
      "execution_count": 0,
      "outputs": []
    },
    {
      "metadata": {
        "id": "WkO6uiWC4Wln",
        "colab_type": "text"
      },
      "cell_type": "markdown",
      "source": [
        "**Step 5.a**\n",
        "\n",
        "Since this data is quantitative, it would be especially helpful to have it in tabular form. Once again, we can use the `DataFrame` class within the `pandas` library to flatten a nested native Python data structure into a table. \n",
        "\n",
        "The command this time is a little different, because we're not dealing with a list as the outermost Python element."
      ]
    },
    {
      "metadata": {
        "id": "uPzB7npfH2vn",
        "colab_type": "code",
        "colab": {}
      },
      "cell_type": "code",
      "source": [
        "# The orient='index' keyword argument is necessary to tell pandas that the keys of our outermost dictionary should be the index values of the table\n",
        "tesla_table = pd.DataFrame.from_dict(tesla_time_series['Time Series (60min)'], orient='index')"
      ],
      "execution_count": 0,
      "outputs": []
    },
    {
      "metadata": {
        "id": "zjxmENT8-UJ0",
        "colab_type": "text"
      },
      "cell_type": "markdown",
      "source": [
        "At this point, we could can export our table as a CSV file, just as we did with the News API data. \n",
        "\n",
        "Or we might want to use pandas to do some analysis, since pandas has a lot of powerful functions for data visualization and analysis. \n",
        "\n",
        "But first we need to do a little cleanup."
      ]
    },
    {
      "metadata": {
        "id": "JekudBg_6U__",
        "colab_type": "text"
      },
      "cell_type": "markdown",
      "source": [
        "**Step 5.b**\n",
        "\n",
        "The index of our table is a time series. But pandas doesn't necessarily know that yet, since the data we retrieved from the API were purely strings.\n",
        "\n",
        "**Convert the DataFrame's index values to datetime objects.**"
      ]
    },
    {
      "metadata": {
        "id": "dt7yj4gGJxZ4",
        "colab_type": "code",
        "colab": {}
      },
      "cell_type": "code",
      "source": [
        "tesla_table.index = pd.to_datetime(tesla_table.index) "
      ],
      "execution_count": 0,
      "outputs": []
    },
    {
      "metadata": {
        "id": "Cix9CjOm_CDi",
        "colab_type": "text"
      },
      "cell_type": "markdown",
      "source": [
        "**Step 5.b**\n",
        "\n",
        "**Convert the values in the rest of the table to a numeric type (float).**"
      ]
    },
    {
      "metadata": {
        "id": "zuSjEgcS_NcZ",
        "colab_type": "code",
        "colab": {}
      },
      "cell_type": "code",
      "source": [
        "tesla_table_numeric = tesla_table.astype('float')"
      ],
      "execution_count": 0,
      "outputs": []
    },
    {
      "metadata": {
        "id": "02_LcVfp_Q3w",
        "colab_type": "text"
      },
      "cell_type": "markdown",
      "source": [
        "**Step 5.c**\n",
        "\n",
        "**Finally, clean up the column names to remove the initial number.**\n",
        "\n",
        "We can do this using the Python string function `split`. And we can access the column labels of a DataFrame by using the `columns` property. By passing a new list to `DataFrame.columns`, we can replace the existing labels with new ones."
      ]
    },
    {
      "metadata": {
        "id": "jVVg_RmxKzua",
        "colab_type": "code",
        "colab": {}
      },
      "cell_type": "code",
      "source": [
        "def clean_column(column_name):\n",
        "  column_name = column_name.split()\n",
        "  return column_name[1]\n",
        "tesla_table_numeric.columns = [clean_column(c) for c in tesla_table_numeric.columns]"
      ],
      "execution_count": 0,
      "outputs": []
    },
    {
      "metadata": {
        "id": "8mzXldDK_5I1",
        "colab_type": "text"
      },
      "cell_type": "markdown",
      "source": [
        "**Step 6**\n",
        "\n",
        "**Use `pandas` built-in plotting functions to visualize the data.**\n",
        "\n",
        "`pandas` uses the `pyplot` module from the `matplotlib` library to produce charts and graphs. If you want to customize your charts and graphs, you can run `from matplotlib import pyplot`, which will give you many more options."
      ]
    },
    {
      "metadata": {
        "id": "QMb0ONXc7ZKU",
        "colab_type": "code",
        "outputId": "2c5f82e8-cffb-4ae0-e5ec-bb8527655cba",
        "colab": {
          "base_uri": "https://localhost:8080/",
          "height": 361
        }
      },
      "cell_type": "code",
      "source": [
        "# Here we produce a simple line chart of the highest stock price for each period measured. Because our index is a time series, pandas automatically makes that the X axis.\n",
        "tesla_table_numeric.plot(y='high')\n"
      ],
      "execution_count": 0,
      "outputs": [
        {
          "output_type": "execute_result",
          "data": {
            "text/plain": [
              "<matplotlib.axes._subplots.AxesSubplot at 0x7fbff19a96d8>"
            ]
          },
          "metadata": {
            "tags": []
          },
          "execution_count": 28
        },
        {
          "output_type": "display_data",
          "data": {
            "image/png": "[encoded data removed]",
            "text/plain": [
              "<Figure size 576x396 with 1 Axes>"
            ]
          },
          "metadata": {
            "tags": []
          }
        }
      ]
    },
    {
      "metadata": {
        "id": "_9nbmG3MA7Ev",
        "colab_type": "text"
      },
      "cell_type": "markdown",
      "source": [
        "**Step 7**\n",
        "\n",
        "**Export your data as a CSV file.**"
      ]
    },
    {
      "metadata": {
        "id": "KSbnF3BJ7a5d",
        "colab_type": "code",
        "colab": {}
      },
      "cell_type": "code",
      "source": [
        "tesla_table_numeric.to_csv('tesla_time_series.csv')"
      ],
      "execution_count": 0,
      "outputs": []
    },
    {
      "metadata": {
        "id": "WRHxQu8oBJM_",
        "colab_type": "text"
      },
      "cell_type": "markdown",
      "source": [
        "### Tips for working with API's in Python \n",
        "\n",
        "In this workshop, we covered the basics of using Python to retrieve data from API's. This approach may cover many of your uses cases. But here are a few tips for further exploration:\n",
        "\n",
        "\n",
        "\n",
        "*   If you need to make many requests in tandem -- _e.g._, you want to request stock price data for a long list of commodities -- you can sometimes speed up your code dramatically by using the asynchronous functionality available in the most recent releases of Python. \n",
        "    * The [`aiohttp` library](https://aiohttp.readthedocs.io/en/stable/) provides functions that, in conjunction with the `asyncio` library that ships with Python 3.7+, allow you to make asynchronous HTTP requests. For an introduction to asynchronous programming in Python that covers the latest developments, see \"[Async IO in Python: A Complete Walkthrough](https://realpython.com/async-io-python/).\"\n",
        "*   Though many API's return data in JSON, some use XML instead. Unlike JSON, XML can't be converted to Python data types in one step; it's necessary to parse the XML first and extract the elements you want. The [lxml](https://lxml.de/) library provides robust functionality for doing that.\n",
        "\n",
        "*  Before using any API, make sure you read the documentation and the terms of service. \n",
        "    * Many API's require you to limit your requests to a certain number per specified time period (_e.g._, per second, per hour, per day.) Violating these limits can sometimes cause the provider to shut off access to your account/IP address.\n",
        "    * Some API's place restrictions on what you can do with the data. For instance, they may make it available only for research purposes, or only non-commercial uses, etc. \n",
        "    \n"
      ]
    },
    {
      "metadata": {
        "id": "ll3aIwOpHs4L",
        "colab_type": "code",
        "colab": {}
      },
      "cell_type": "code",
      "source": [
        ""
      ],
      "execution_count": 0,
      "outputs": []
    }
  ]
}