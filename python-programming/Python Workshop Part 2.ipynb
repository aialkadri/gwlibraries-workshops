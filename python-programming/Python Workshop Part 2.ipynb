{
  "nbformat": 4,
  "nbformat_minor": 0,
  "metadata": {
    "colab": {
      "name": "Python Workshop Part 2.ipynb",
      "version": "0.3.2",
      "provenance": []
    },
    "kernelspec": {
      "display_name": "Python 3",
      "language": "python",
      "name": "python3"
    }
  },
  "cells": [
    {
      "metadata": {
        "id": "Vj5SqpLNMZG_",
        "colab_type": "text"
      },
      "cell_type": "markdown",
      "source": [
        "# Data with Pandas\n",
        "\n",
        "Since Pandas is a third-party Python library (not part of the standard Python libraries), we need to **import** it.\n",
        "\n",
        "\n",
        "### <font color='red'>***You must run this next cell in order for any of the pandas steps to work!***</font>"
      ]
    },
    {
      "metadata": {
        "id": "GEakil-yMZHC",
        "colab_type": "code",
        "colab": {}
      },
      "cell_type": "code",
      "source": [
        "import pandas as pd"
      ],
      "execution_count": 0,
      "outputs": []
    },
    {
      "metadata": {
        "id": "UJxx1ftHMZHG",
        "colab_type": "text"
      },
      "cell_type": "markdown",
      "source": [
        "### The data we're using today\n",
        "\n",
        "For this lesson, we will be using the Portal Teaching data (https://figshare.com/articles/Portal_Project_Teaching_Database/1314459), a subset of the data from Ernst et al Long-term monitoring and experimental manipulation of a Chihuahuan Desert ecosystem near Portal, Arizona, USA (http://onlinelibrary.wiley.com/doi/10.1890/15-2115.1/abstract)"
      ]
    },
    {
      "metadata": {
        "id": "llb7-sb8MZHH",
        "colab_type": "text"
      },
      "cell_type": "markdown",
      "source": [
        "This section will use the **surveys.csv** file that you downloaded along with this notebook (in the **python-intro-workshop** folder), so it should be ready to go.\n",
        "\n",
        "(If needed, it can also be downloaded from here:  https://ndownloader.figshare.com/files/2292172)"
      ]
    },
    {
      "metadata": {
        "id": "-B4bX5sfMZHH",
        "colab_type": "text"
      },
      "cell_type": "markdown",
      "source": [
        "Each row records the species and weight of each animal caught in plots in the study area.\n",
        "\n",
        "The columns represent:\n",
        "\n",
        "| Column \t| Description |\n",
        "| --- | --- |\n",
        "| record_id |\tUnique id for the observation|\n",
        "| month |\tmonth of observation |\n",
        "|day \t|day of observation|\n",
        "|year |\tyear of observation|\n",
        "|plot_id \t|ID of a particular plot|\n",
        "|species_id |\t2-letter code|\n",
        "|sex |\tsex of animal (\"M\", \"F\")|\n",
        "|hindfoot_length |\tlength of the hindfoot in mm|\n",
        "|weight |\tweight of the animal in grams|"
      ]
    },
    {
      "metadata": {
        "id": "3_fvuNrSMZHJ",
        "colab_type": "text"
      },
      "cell_type": "markdown",
      "source": [
        "Each time we call a function that's in a library, we use the syntax *LibraryName.FunctionName*. Adding the library name with a `.` before the function name tells Python where to find the function. In the example above, we have imported Pandas as `pd`. This means we don't have to type out `pandas` each time we call a Pandas function."
      ]
    },
    {
      "metadata": {
        "id": "YfBcWiqGMZHK",
        "colab_type": "text"
      },
      "cell_type": "markdown",
      "source": [
        "Let's use panda's built-in function that reads in a CSV file:"
      ]
    },
    {
      "metadata": {
        "id": "3aCXFAfoMZHK",
        "colab_type": "code",
        "colab": {}
      },
      "cell_type": "code",
      "source": [
        "# To download the file from the internet:\n",
        "pd.read_csv(\"https://raw.githubusercontent.com/gwu-libraries/gwlibraries-workshops/master/python-programming/surveys.csv\")\n",
        "\n",
        "# Or if you're able to download the file locally:\n",
        "# pd.read_csv(\"surveys.csv\")"
      ],
      "execution_count": 0,
      "outputs": []
    },
    {
      "metadata": {
        "id": "BPdGGX4RNuPD",
        "colab_type": "text"
      },
      "cell_type": "markdown",
      "source": [
        "(Often, though, you'll have your data file either on your computer or perhaps on your Google Drive.  You can borrow some code from https://colab.research.google.com/notebooks/io.ipynb to upload files from (or download files to) your computer or your Google Drive.)"
      ]
    },
    {
      "metadata": {
        "id": "q5yaK9fPMZHQ",
        "colab_type": "text"
      },
      "cell_type": "markdown",
      "source": [
        "So, ***pd.read_csv*** read our CSV file, but we'd like to store it as an **object**.  So we'll create a variable for it, called `surveys_df`.  This is just like how we used a variable above to store an integer, or a string, or a list, or a dictionary.  We're just storing a Pandas DataFrame object instead.\n",
        "\n",
        "Make sure to run the cell below:"
      ]
    },
    {
      "metadata": {
        "id": "i0MRrTHCMZHR",
        "colab_type": "code",
        "colab": {}
      },
      "cell_type": "code",
      "source": [
        "# To download the file from the internet:\n",
        "surveys_df = pd.read_csv(\"https://raw.githubusercontent.com/gwu-libraries/gwlibraries-workshops/master/python-programming/surveys.csv\")\n",
        "\n",
        "# Or if you're able to download the file locally:\n",
        "# surveys_df = pd.read_csv(\"surveys.csv\")"
      ],
      "execution_count": 0,
      "outputs": []
    },
    {
      "metadata": {
        "id": "_5ARzbkUMZHT",
        "colab_type": "text"
      },
      "cell_type": "markdown",
      "source": [
        "Try evaluating `surveys_df`:"
      ]
    },
    {
      "metadata": {
        "id": "bG09UTiEMZHU",
        "colab_type": "code",
        "colab": {}
      },
      "cell_type": "code",
      "source": [
        "surveys_df "
      ],
      "execution_count": 0,
      "outputs": []
    },
    {
      "metadata": {
        "id": "qcTZ0wa2MZHV",
        "colab_type": "text"
      },
      "cell_type": "markdown",
      "source": [
        "How would you now check what **class** (type) of object `surveys_df` is?"
      ]
    },
    {
      "metadata": {
        "id": "YKfayabRMZHX",
        "colab_type": "code",
        "colab": {}
      },
      "cell_type": "code",
      "source": [
        ""
      ],
      "execution_count": 0,
      "outputs": []
    },
    {
      "metadata": {
        "id": "eDxtGmnLMZHZ",
        "colab_type": "text"
      },
      "cell_type": "markdown",
      "source": [
        "`surveys_df` is a Pandas **DataFrame**.   A DataFrame is a 2-dimensional structure that can store data in rows and columns - similar to a spreadsheet or a table, but with some other nice features.  (Yes, it's very similar to a `data.frame` in R.)"
      ]
    },
    {
      "metadata": {
        "id": "E7zkkElcMZHZ",
        "colab_type": "text"
      },
      "cell_type": "markdown",
      "source": [
        "Just like the Pandas *library* has functions, *objects* can have **functions** (which may take arguments) and **attributes** (which don't).\n",
        "\n",
        "A Pandas DataFrame object has an attribute called `dtypes` which lists out the type of each column:"
      ]
    },
    {
      "metadata": {
        "id": "D_YSB6GQMZHb",
        "colab_type": "code",
        "colab": {}
      },
      "cell_type": "code",
      "source": [
        "surveys_df.dtypes"
      ],
      "execution_count": 0,
      "outputs": []
    },
    {
      "metadata": {
        "id": "-lPcdSG0MZHe",
        "colab_type": "text"
      },
      "cell_type": "markdown",
      "source": [
        "Try these to see what they do:\n",
        "\n",
        "    surveys_df.columns\n",
        "    surveys_df.head()\n",
        "Also, what does `surveys_df.head(15)` do, versus `surveys_df.head(4)`?\n",
        "\n",
        "    surveys_df.tail()\n",
        "    surveys_df.shape\n",
        "    \n",
        "Take note of the output of the shape method. What format does it return the shape of the DataFrame in?\n"
      ]
    },
    {
      "metadata": {
        "id": "MG6kWGJ_MZHf",
        "colab_type": "code",
        "colab": {}
      },
      "cell_type": "code",
      "source": [
        "surveys_df.shape"
      ],
      "execution_count": 0,
      "outputs": []
    },
    {
      "metadata": {
        "id": "zZGLl6hPMZHg",
        "colab_type": "text"
      },
      "cell_type": "markdown",
      "source": [
        "What if we want to isolate just one column?  There are two ways we can do this:"
      ]
    },
    {
      "metadata": {
        "id": "-n-_BvfmMZHh",
        "colab_type": "code",
        "colab": {}
      },
      "cell_type": "code",
      "source": [
        "surveys_df['species_id']"
      ],
      "execution_count": 0,
      "outputs": []
    },
    {
      "metadata": {
        "id": "JIznhfkPMZHj",
        "colab_type": "text"
      },
      "cell_type": "markdown",
      "source": [
        "or"
      ]
    },
    {
      "metadata": {
        "id": "DWkqyr_5MZHj",
        "colab_type": "code",
        "colab": {}
      },
      "cell_type": "code",
      "source": [
        "surveys_df.species_id"
      ],
      "execution_count": 0,
      "outputs": []
    },
    {
      "metadata": {
        "id": "pupqmEX2MZHl",
        "colab_type": "text"
      },
      "cell_type": "markdown",
      "source": [
        "Let's see what type `surveys_df['species_id']` is.  Try it."
      ]
    },
    {
      "metadata": {
        "id": "5fYj1KbgMZHm",
        "colab_type": "code",
        "colab": {}
      },
      "cell_type": "code",
      "source": [
        "type(surveys_df['species_id'])"
      ],
      "execution_count": 0,
      "outputs": []
    },
    {
      "metadata": {
        "id": "oeTVQ7m9MZHn",
        "colab_type": "text"
      },
      "cell_type": "markdown",
      "source": [
        "You can think of a Pandas **Series** as a series of observations of one variable.  It behaves like a Python list."
      ]
    },
    {
      "metadata": {
        "id": "huki1stRMZHo",
        "colab_type": "text"
      },
      "cell_type": "markdown",
      "source": [
        "We can also slice and dice -- similar to how we selected parts of list objects above.  What does the next line do?"
      ]
    },
    {
      "metadata": {
        "scrolled": true,
        "id": "pjaMTlkxMZHp",
        "colab_type": "code",
        "colab": {}
      },
      "cell_type": "code",
      "source": [
        "surveys_df[3:10]"
      ],
      "execution_count": 0,
      "outputs": []
    },
    {
      "metadata": {
        "id": "qXCVtAamMZHr",
        "colab_type": "text"
      },
      "cell_type": "markdown",
      "source": [
        "Another way to select is with `.loc`, which selects based on *labels* (as opposed to `.iloc` which selects using *numerical indices*).  Try this:"
      ]
    },
    {
      "metadata": {
        "id": "LzYqqJ_jMZHs",
        "colab_type": "code",
        "colab": {}
      },
      "cell_type": "code",
      "source": [
        "surveys_df.loc[[3, 10, 12], ['day', 'year', 'species_id']]"
      ],
      "execution_count": 0,
      "outputs": []
    },
    {
      "metadata": {
        "id": "TGZvCTi2MZHu",
        "colab_type": "text"
      },
      "cell_type": "markdown",
      "source": [
        "We can also use `.query` to select only rows matching certain conditions.  Note that the query expression is in single quotes."
      ]
    },
    {
      "metadata": {
        "id": "9aY8q4fcMZHw",
        "colab_type": "code",
        "colab": {}
      },
      "cell_type": "code",
      "source": [
        "surveys_df.query('hindfoot_length < 10')"
      ],
      "execution_count": 0,
      "outputs": []
    },
    {
      "metadata": {
        "id": "reUKd6C7MZHz",
        "colab_type": "text"
      },
      "cell_type": "markdown",
      "source": [
        "There are other ways to do this.  Try this expression:"
      ]
    },
    {
      "metadata": {
        "id": "sNs24Ve-MZH0",
        "colab_type": "code",
        "colab": {}
      },
      "cell_type": "code",
      "source": [
        "surveys_df['hindfoot_length'] < 10"
      ],
      "execution_count": 0,
      "outputs": []
    },
    {
      "metadata": {
        "id": "uDVI7TkuMZH2",
        "colab_type": "text"
      },
      "cell_type": "markdown",
      "source": [
        "How can you use this to get back a data frame with only the rows in `surveys_df` where `hindfoot_length < 10`?"
      ]
    },
    {
      "metadata": {
        "id": "tqVxi6lSMZH2",
        "colab_type": "code",
        "colab": {}
      },
      "cell_type": "code",
      "source": [
        ""
      ],
      "execution_count": 0,
      "outputs": []
    },
    {
      "metadata": {
        "id": "2EXR-nViMZH4",
        "colab_type": "text"
      },
      "cell_type": "markdown",
      "source": [
        "**Challenge**:  How might you query to get back only rows with `hindfoot_length < 10` **and** `weight > 10` in ONE expression?  (There is more than one way to accomplish this!)"
      ]
    },
    {
      "metadata": {
        "id": "8ZjiFEcgMZH5",
        "colab_type": "text"
      },
      "cell_type": "markdown",
      "source": [
        "Pandas has a handy function (well, it has many handy functions!) to get all the unique elements in the column:"
      ]
    },
    {
      "metadata": {
        "id": "jkFbIzE1MZH6",
        "colab_type": "code",
        "colab": {}
      },
      "cell_type": "code",
      "source": [
        "unique_species = pd.unique(surveys_df['species_id'])"
      ],
      "execution_count": 0,
      "outputs": []
    },
    {
      "metadata": {
        "id": "1RrbeMNkMZH8",
        "colab_type": "text"
      },
      "cell_type": "markdown",
      "source": [
        "Try evaluting the **`.size`** attribute on the above result to see how many unique species there are in the data set."
      ]
    },
    {
      "metadata": {
        "id": "U4GSjXb6MZH8",
        "colab_type": "code",
        "colab": {}
      },
      "cell_type": "code",
      "source": [
        "unique_species.size"
      ],
      "execution_count": 0,
      "outputs": []
    },
    {
      "metadata": {
        "id": "sSM9OGcHMZH-",
        "colab_type": "text"
      },
      "cell_type": "markdown",
      "source": [
        "We see from above that we can also isolate just the data in one column.  Let's try isolating the `weight` column, and calling the **`describe()`** function to get some statistics on it."
      ]
    },
    {
      "metadata": {
        "id": "rt0I0KcjMZH_",
        "colab_type": "code",
        "colab": {}
      },
      "cell_type": "code",
      "source": [
        "surveys_df['weight'].describe()"
      ],
      "execution_count": 0,
      "outputs": []
    },
    {
      "metadata": {
        "id": "yXgRtwtPMZIA",
        "colab_type": "text"
      },
      "cell_type": "markdown",
      "source": [
        "We can also get a quick pairwise correlation between every pair of numerical variables:"
      ]
    },
    {
      "metadata": {
        "id": "NUTByOTVMZIB",
        "colab_type": "code",
        "colab": {}
      },
      "cell_type": "code",
      "source": [
        "surveys_df.corr()"
      ],
      "execution_count": 0,
      "outputs": []
    },
    {
      "metadata": {
        "id": "VN92CYokMZIG",
        "colab_type": "text"
      },
      "cell_type": "markdown",
      "source": [
        "Pandas can also sort and group data based on the values in a column:"
      ]
    },
    {
      "metadata": {
        "id": "K5XuwBMcMZIH",
        "colab_type": "code",
        "colab": {}
      },
      "cell_type": "code",
      "source": [
        "grouped_by_species = surveys_df.groupby('species_id')"
      ],
      "execution_count": 0,
      "outputs": []
    },
    {
      "metadata": {
        "id": "yi4WJ8jkMZIJ",
        "colab_type": "text"
      },
      "cell_type": "markdown",
      "source": [
        "Try running **`describe()`** on `grouped_by_species`:"
      ]
    },
    {
      "metadata": {
        "id": "uTCC_47FMZIK",
        "colab_type": "code",
        "colab": {}
      },
      "cell_type": "code",
      "source": [
        "grouped_by_species.describe()"
      ],
      "execution_count": 0,
      "outputs": []
    },
    {
      "metadata": {
        "id": "HaMG2qzUMZIK",
        "colab_type": "text"
      },
      "cell_type": "markdown",
      "source": [
        "Now we're going to create some series with:\n",
        "\n",
        "* The number of animals observed per species\n",
        "* The mean weight of all animals observed in each species"
      ]
    },
    {
      "metadata": {
        "id": "omjZmySSMZIL",
        "colab_type": "code",
        "colab": {}
      },
      "cell_type": "code",
      "source": [
        "# a series with the number of samples by species\n",
        "species_counts = grouped_by_species.size()\n",
        "# a series with the mean weight by species\n",
        "species_mean_weights = grouped_by_species['weight'].mean()"
      ],
      "execution_count": 0,
      "outputs": []
    },
    {
      "metadata": {
        "id": "E-9YhMA1MZIM",
        "colab_type": "text"
      },
      "cell_type": "markdown",
      "source": [
        "Let's look at each - notice that each is a Series:"
      ]
    },
    {
      "metadata": {
        "id": "rADDdjXUMZIN",
        "colab_type": "code",
        "colab": {}
      },
      "cell_type": "code",
      "source": [
        ""
      ],
      "execution_count": 0,
      "outputs": []
    },
    {
      "metadata": {
        "id": "lgbC-vBMMZIP",
        "colab_type": "code",
        "colab": {}
      },
      "cell_type": "code",
      "source": [
        ""
      ],
      "execution_count": 0,
      "outputs": []
    },
    {
      "metadata": {
        "id": "RCkQ0BiSMZIQ",
        "colab_type": "text"
      },
      "cell_type": "markdown",
      "source": [
        "Let's try creating some quick bar charts.  First we need to make sure figures appear inline in the notebook:"
      ]
    },
    {
      "metadata": {
        "id": "_IpyIPFEMZIR",
        "colab_type": "code",
        "colab": {}
      },
      "cell_type": "code",
      "source": [
        "import matplotlib.pyplot as plt\n",
        "\n",
        "%matplotlib inline"
      ],
      "execution_count": 0,
      "outputs": []
    },
    {
      "metadata": {
        "id": "5zcoOxPUMZIS",
        "colab_type": "text"
      },
      "cell_type": "markdown",
      "source": [
        "And now we'll create some quick charts:"
      ]
    },
    {
      "metadata": {
        "scrolled": true,
        "id": "L_nWUMJCMZIT",
        "colab_type": "code",
        "colab": {}
      },
      "cell_type": "code",
      "source": [
        "plt.scatter(x = surveys_df.weight, y=surveys_df.hindfoot_length)\n",
        "\n",
        "plt.show()"
      ],
      "execution_count": 0,
      "outputs": []
    },
    {
      "metadata": {
        "id": "Tbkz2wsEMZIU",
        "colab_type": "code",
        "colab": {}
      },
      "cell_type": "code",
      "source": [
        "plt.hist(surveys_df.hindfoot_length[surveys_df.hindfoot_length.notnull()])\n",
        "plt.title('Distribution of hindfoot length values')\n",
        "plt.show()"
      ],
      "execution_count": 0,
      "outputs": []
    },
    {
      "metadata": {
        "id": "y5gw20buMZIX",
        "colab_type": "text"
      },
      "cell_type": "markdown",
      "source": [
        "We can also call `.plot()` on a Series:"
      ]
    },
    {
      "metadata": {
        "id": "l9wjPaw4MZIY",
        "colab_type": "code",
        "colab": {}
      },
      "cell_type": "code",
      "source": [
        "species_counts.plot(kind='bar')"
      ],
      "execution_count": 0,
      "outputs": []
    },
    {
      "metadata": {
        "id": "er9NkCAaMZIa",
        "colab_type": "code",
        "colab": {}
      },
      "cell_type": "code",
      "source": [
        "species_mean_weights.plot(kind='bar')"
      ],
      "execution_count": 0,
      "outputs": []
    },
    {
      "metadata": {
        "id": "1KYEO8SNMZIe",
        "colab_type": "text"
      },
      "cell_type": "markdown",
      "source": [
        "And now for a scatter plot, where we specify which variables are the x and y:"
      ]
    },
    {
      "metadata": {
        "id": "uNRASU7zMZIf",
        "colab_type": "code",
        "colab": {}
      },
      "cell_type": "code",
      "source": [
        "surveys_df.plot(kind='scatter', y='hindfoot_length', x='weight')"
      ],
      "execution_count": 0,
      "outputs": []
    },
    {
      "metadata": {
        "id": "5Sl23suKMZIg",
        "colab_type": "text"
      },
      "cell_type": "markdown",
      "source": [
        "See if you can look up another plot type and get it to work!"
      ]
    },
    {
      "metadata": {
        "id": "YlxW0g5TMZIh",
        "colab_type": "code",
        "colab": {}
      },
      "cell_type": "code",
      "source": [
        ""
      ],
      "execution_count": 0,
      "outputs": []
    },
    {
      "metadata": {
        "id": "kHN8krTCMZIk",
        "colab_type": "text"
      },
      "cell_type": "markdown",
      "source": [
        "## Nicer plotting, with `ggplot`\n",
        "\n",
        "Let's try a different plotting library, called `ggplot` (from the `plotnine` package), that thinks about plotting data in a different way, in terms of \"adding\" *data* plus *aesthetics* (colors, shapes, etc.) plus *layers* (which add to or modify the plot)\n",
        "\n",
        "First we need to import the ggplot library, from the `plotline` package:"
      ]
    },
    {
      "metadata": {
        "id": "_FJ1EiyxMZIk",
        "colab_type": "code",
        "colab": {}
      },
      "cell_type": "code",
      "source": [
        "# This step seemes to be needed to run in Google Colaboratory -- it might not be needed in Anaconda\n",
        "# Install the plotnine Python library\n",
        "!pip install plotnine"
      ],
      "execution_count": 0,
      "outputs": []
    },
    {
      "metadata": {
        "id": "B6ui9VXvMZIm",
        "colab_type": "code",
        "colab": {}
      },
      "cell_type": "code",
      "source": [
        "from plotnine import *"
      ],
      "execution_count": 0,
      "outputs": []
    },
    {
      "metadata": {
        "id": "_OCo5I9iMZIn",
        "colab_type": "text"
      },
      "cell_type": "markdown",
      "source": [
        "The first thing we'll do is create a ggplot object and give it:\n",
        "- Our data frame (`surveys_df`)\n",
        "- Aesthetics information, such as which variables in our data frame will be used as the independent (x) and dependent (y) variables"
      ]
    },
    {
      "metadata": {
        "id": "60ISkDiHMZIn",
        "colab_type": "code",
        "colab": {}
      },
      "cell_type": "code",
      "source": [
        "ggplot(surveys_df) + aes(x = 'weight', y = 'hindfoot_length')"
      ],
      "execution_count": 0,
      "outputs": []
    },
    {
      "metadata": {
        "id": "xOKAe3-6MZIp",
        "colab_type": "text"
      },
      "cell_type": "markdown",
      "source": [
        "Hmmm, we get a canvas but it's mysteriously empty!   We need to add a ***layer***, using `+`.  We'll add a layer with points:"
      ]
    },
    {
      "metadata": {
        "id": "uUC4dF3TMZIq",
        "colab_type": "code",
        "colab": {}
      },
      "cell_type": "code",
      "source": [
        "ggplot(surveys_df) + aes(x = 'weight', y = 'hindfoot_length') + geom_point()"
      ],
      "execution_count": 0,
      "outputs": []
    },
    {
      "metadata": {
        "id": "Bm2ESsfwMZIs",
        "colab_type": "text"
      },
      "cell_type": "markdown",
      "source": [
        "Not bad!  Let's see if we can perhaps color-code the points based on the species_id."
      ]
    },
    {
      "metadata": {
        "id": "GnhaBlAhMZIs",
        "colab_type": "code",
        "colab": {}
      },
      "cell_type": "code",
      "source": [
        "ggplot(surveys_df) + aes(x = 'weight', y = 'hindfoot_length', color='species_id') + geom_point()"
      ],
      "execution_count": 0,
      "outputs": []
    },
    {
      "metadata": {
        "id": "HIobl5xaMZIv",
        "colab_type": "text"
      },
      "cell_type": "markdown",
      "source": [
        "Notice that we get an error.  I'll help you out.  The problem is that we have too many species_id values for a meaningful color layer.   Let's create a subset using just the top 10 species.\n",
        "\n",
        "Remember earlier we created `species_counts`?  We'll use it and do a bit of sorting to get just the top ten species as as a list:"
      ]
    },
    {
      "metadata": {
        "id": "tFzWEUQUMZIw",
        "colab_type": "code",
        "colab": {}
      },
      "cell_type": "code",
      "source": [
        "species_counts.sort_values(ascending=False)"
      ],
      "execution_count": 0,
      "outputs": []
    },
    {
      "metadata": {
        "id": "-Z1_aTvYMZIx",
        "colab_type": "text"
      },
      "cell_type": "markdown",
      "source": [
        "Now let's chop it down to just the first 10:"
      ]
    },
    {
      "metadata": {
        "id": "KT4dsl8yMZIy",
        "colab_type": "code",
        "colab": {}
      },
      "cell_type": "code",
      "source": [
        "species_counts.sort_values(ascending=False)[:10]"
      ],
      "execution_count": 0,
      "outputs": []
    },
    {
      "metadata": {
        "id": "Gb4dZO2LMZI1",
        "colab_type": "text"
      },
      "cell_type": "markdown",
      "source": [
        "But we simply want the species ids, not any of the other stuff.  Similar to a Python dictionary, we can use `.keys()` to get that:"
      ]
    },
    {
      "metadata": {
        "id": "6T8qXAM2MZI1",
        "colab_type": "code",
        "colab": {}
      },
      "cell_type": "code",
      "source": [
        "species_counts.sort_values(ascending=False)[:10].keys()"
      ],
      "execution_count": 0,
      "outputs": []
    },
    {
      "metadata": {
        "id": "N1qwO01HMZI2",
        "colab_type": "text"
      },
      "cell_type": "markdown",
      "source": [
        "And let's use a variable to store our index of top species so we can reuse it:"
      ]
    },
    {
      "metadata": {
        "id": "KCR4jLtDMZI2",
        "colab_type": "code",
        "colab": {}
      },
      "cell_type": "code",
      "source": [
        "top_species = species_counts.sort_values(ascending=False)[:10].keys()"
      ],
      "execution_count": 0,
      "outputs": []
    },
    {
      "metadata": {
        "id": "6KSTgI-hMZI5",
        "colab_type": "text"
      },
      "cell_type": "markdown",
      "source": [
        "Now that we have a simple list of the top 10 species IDs, we can use `.isin()` to create a subset data frame containing just the rows with those species_id values:"
      ]
    },
    {
      "metadata": {
        "id": "efTojV8mMZI5",
        "colab_type": "text"
      },
      "cell_type": "markdown",
      "source": [
        "Now that our new data frame has a smaller variety of species, let's try it again with species_id as the key for the color:"
      ]
    },
    {
      "metadata": {
        "id": "8LaHKzFwMZI6",
        "colab_type": "code",
        "colab": {}
      },
      "cell_type": "code",
      "source": [
        "subset_df = surveys_df[surveys_df.species_id.isin(top_species)]"
      ],
      "execution_count": 0,
      "outputs": []
    },
    {
      "metadata": {
        "id": "YSgR6Ut2MZI7",
        "colab_type": "code",
        "colab": {}
      },
      "cell_type": "code",
      "source": [
        "surveys_plot = ggplot(subset_df) + aes(x = 'weight', y = 'hindfoot_length', color='species_id') + geom_point()"
      ],
      "execution_count": 0,
      "outputs": []
    },
    {
      "metadata": {
        "id": "v3KQHbavMZI9",
        "colab_type": "text"
      },
      "cell_type": "markdown",
      "source": [
        "And now to render the plot:"
      ]
    },
    {
      "metadata": {
        "id": "_v1MUpEuMZI9",
        "colab_type": "code",
        "colab": {}
      },
      "cell_type": "code",
      "source": [
        "surveys_plot"
      ],
      "execution_count": 0,
      "outputs": []
    },
    {
      "metadata": {
        "id": "y_EfDnTrMZI-",
        "colab_type": "text"
      },
      "cell_type": "markdown",
      "source": [
        ""
      ]
    },
    {
      "metadata": {
        "id": "uJkl8YqhMZI_",
        "colab_type": "text"
      },
      "cell_type": "markdown",
      "source": [
        "Here are some other layers we can try adding.  See what they do:"
      ]
    },
    {
      "metadata": {
        "id": "cdMJlecYMZI_",
        "colab_type": "code",
        "colab": {}
      },
      "cell_type": "code",
      "source": [
        "surveys_plot + stat_smooth() + theme_xkcd()"
      ],
      "execution_count": 0,
      "outputs": []
    },
    {
      "metadata": {
        "id": "Ox46UlDLMZJC",
        "colab_type": "code",
        "colab": {}
      },
      "cell_type": "code",
      "source": [
        "surveys_plot + facet_wrap('~species_id')"
      ],
      "execution_count": 0,
      "outputs": []
    },
    {
      "metadata": {
        "id": "cwq2ohcHMjVe",
        "colab_type": "text"
      },
      "cell_type": "markdown",
      "source": [
        "# Challenge\n",
        "\n",
        "* Download the species.csv data from https://ndownloader.figshare.com/files/3299483 as a Pandas DataFrame.\n",
        "* ***Join*** the species data onto the surveys data, and recreate the visualizations so that the key shows each species by its scientific name (genus + species), rather than by its two-letter code.  Hint:  Use [DataFrame.join](https://pandas.pydata.org/pandas-docs/stable/generated/pandas.DataFrame.join.html)\n",
        "\n"
      ]
    },
    {
      "metadata": {
        "id": "_mshh0I6MnVD",
        "colab_type": "code",
        "colab": {}
      },
      "cell_type": "code",
      "source": [
        ""
      ],
      "execution_count": 0,
      "outputs": []
    }
  ]
}