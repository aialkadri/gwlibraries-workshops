{
  "nbformat": 4,
  "nbformat_minor": 0,
  "metadata": {
    "colab": {
      "name": "matplotlib-test.ipynb",
      "provenance": []
    },
    "kernelspec": {
      "name": "python3",
      "display_name": "Python 3"
    }
  },
  "cells": [
    {
      "cell_type": "markdown",
      "metadata": {
        "id": "mL1j7JRQ8QIl",
        "colab_type": "text"
      },
      "source": [
        "# Data with Pandas\n",
        "\n",
        "Since Pandas is a third-party Python library (not part of the standard Python libraries), we need to **import** it.\n",
        "\n",
        "\n",
        "### <font color='red'>***You must run this next cell in order for any of the pandas steps to work!***</font>"
      ]
    },
    {
      "cell_type": "code",
      "metadata": {
        "id": "CsGPWHvr3dIt",
        "colab_type": "code",
        "colab": {}
      },
      "source": [
        "import pandas as pd"
      ],
      "execution_count": 0,
      "outputs": []
    },
    {
      "cell_type": "markdown",
      "metadata": {
        "id": "6v8bO2IpGmdh",
        "colab_type": "text"
      },
      "source": [
        "### The data we're using today\n",
        "\n",
        "For this lesson, we will be using the Portal Teaching data (https://figshare.com/articles/Portal_Project_Teaching_Database/1314459), a subset of the data from Ernst et al Long-term monitoring and experimental manipulation of a Chihuahuan Desert ecosystem near Portal, Arizona, USA (http://onlinelibrary.wiley.com/doi/10.1890/15-2115.1/abstract)"
      ]
    },
    {
      "cell_type": "markdown",
      "metadata": {
        "id": "IV_iUpyqGpTk",
        "colab_type": "text"
      },
      "source": [
        "This section will use the surveys.csv file that you downloaded along with this notebook (in the python-intro-workshop folder), so it should be ready to go.\n",
        "\n",
        "(If needed, it can also be downloaded from here: https://ndownloader.figshare.com/files/2292172)"
      ]
    },
    {
      "cell_type": "markdown",
      "metadata": {
        "id": "nN8sYb0CGrqk",
        "colab_type": "text"
      },
      "source": [
        "Each row records the species and weight of each animal caught in plots in the study area.\n",
        "\n",
        "The columns represent:\n",
        "\n",
        "| Column \t| Description |\n",
        "| --- | --- |\n",
        "| record_id |\tUnique id for the observation|\n",
        "| month |\tmonth of observation |\n",
        "|day \t|day of observation|\n",
        "|year |\tyear of observation|\n",
        "|plot_id \t|ID of a particular plot|\n",
        "|species_id |\t2-letter code|\n",
        "|sex |\tsex of animal (\"M\", \"F\")|\n",
        "|hindfoot_length |\tlength of the hindfoot in mm|\n",
        "|weight |\tweight of the animal in grams|"
      ]
    },
    {
      "cell_type": "markdown",
      "metadata": {
        "id": "Jh-i6I-2Gvds",
        "colab_type": "text"
      },
      "source": [
        "Each time we call a function that's in a library, we use the syntax LibraryName.FunctionName. Adding the library name with a . before the function name tells Python where to find the function. In the example above, we have imported Pandas as pd. This means we don't have to type out pandas each time we call a Pandas function."
      ]
    },
    {
      "cell_type": "markdown",
      "metadata": {
        "id": "q60HfD49Gxps",
        "colab_type": "text"
      },
      "source": [
        "Let's use panda's built-in function that reads in a CSV file:"
      ]
    },
    {
      "cell_type": "code",
      "metadata": {
        "id": "sND0aBbk3kTN",
        "colab_type": "code",
        "colab": {}
      },
      "source": [
        "surveys_df = pd.read_csv(\"https://raw.githubusercontent.com/gwu-libraries/gwlibraries-workshops/master/python-programming/surveys.csv\")"
      ],
      "execution_count": 0,
      "outputs": []
    },
    {
      "cell_type": "code",
      "metadata": {
        "id": "GLzatOokG06p",
        "colab_type": "code",
        "colab": {}
      },
      "source": [
        "# To download the file from the internet:\n",
        "pd.read_csv(\"https://raw.githubusercontent.com/gwu-libraries/gwlibraries-workshops/master/python-programming/surveys.csv\")\n",
        "\n",
        "# Or if you're able to download the file locally:\n",
        "# pd.read_csv(\"surveys.csv\")\n",
        "\n",
        "# If you're inside Google Colaboratory, you can borrow code from\n",
        "# https://colab.research.google.com/notebooks/io.ipynb?authuser=1 to load files from your computer\n",
        "# (Just paste in the code under \"Uploading files from your local file system\")"
      ],
      "execution_count": 0,
      "outputs": []
    },
    {
      "cell_type": "markdown",
      "metadata": {
        "id": "0uyt3VbMG0NE",
        "colab_type": "text"
      },
      "source": [
        "That read our CSV file, but we'd like to store it as an object. So we'll create a variable for it, called surveys_df. This is just like how we used a variable above to store an integer, or a string, or a list, or a dictionary. We're just storing a Pandas DataFrame object instead.\n",
        "\n",
        "Make sure to run the cell below:"
      ]
    },
    {
      "cell_type": "code",
      "metadata": {
        "id": "zkJe4KzgG9xk",
        "colab_type": "code",
        "colab": {}
      },
      "source": [
        "# To download the file from the internet:\n",
        "surveys_df = pd.read_csv(\"https://raw.githubusercontent.com/gwu-libraries/gwlibraries-workshops/master/python-programming/surveys.csv\")\n",
        "\n",
        "# Or if you're able to download the file locally:\n",
        "#surveys_df = pd.read_csv(\"surveys.csv\")"
      ],
      "execution_count": 0,
      "outputs": []
    },
    {
      "cell_type": "markdown",
      "metadata": {
        "id": "zpBaMNTEHFE9",
        "colab_type": "text"
      },
      "source": [
        "Try evaluating surveys_df:"
      ]
    },
    {
      "cell_type": "code",
      "metadata": {
        "id": "7MxlDzfTHBN0",
        "colab_type": "code",
        "colab": {}
      },
      "source": [
        ""
      ],
      "execution_count": 0,
      "outputs": []
    },
    {
      "cell_type": "markdown",
      "metadata": {
        "id": "5OXD_AH-HCmd",
        "colab_type": "text"
      },
      "source": [
        "How would you now check what class (type) of object surveys_df is?"
      ]
    },
    {
      "cell_type": "code",
      "metadata": {
        "id": "4bBLZNbNHMc-",
        "colab_type": "code",
        "colab": {}
      },
      "source": [
        ""
      ],
      "execution_count": 0,
      "outputs": []
    },
    {
      "cell_type": "markdown",
      "metadata": {
        "id": "Fr7aVJEuHPL-",
        "colab_type": "text"
      },
      "source": [
        "surveys_df is a Pandas DataFrame. A DataFrame is a 2-dimensional structure that can store data in rows and columns - similar to a spreadsheet or a table, but with some other nice features. (Yes, it's very similar to a data.frame in R.)\n",
        "\n",
        "Just like the Pandas library has functions, objects can have functions (which may take arguments) and attributes (which don't).\n",
        "\n",
        "A Pandas DataFrame object has an attribute called **`dtypes`** which lists out the type of each column:\n",
        "\n"
      ]
    },
    {
      "cell_type": "code",
      "metadata": {
        "id": "HrpPo7CF34gq",
        "colab_type": "code",
        "colab": {}
      },
      "source": [
        "surveys_df.dtypes"
      ],
      "execution_count": 0,
      "outputs": []
    },
    {
      "cell_type": "markdown",
      "metadata": {
        "id": "k74uB8ghHbqj",
        "colab_type": "text"
      },
      "source": [
        "Try these to see what they do:\n",
        "\n",
        "    surveys_df.columns\n",
        "    surveys_df.head()\n",
        "Also, what does `surveys_df.head(15)` do, versus `surveys_df.head(4)`?\n",
        "\n",
        "    surveys_df.tail()\n",
        "    surveys_df.shape\n",
        "    \n",
        "Take note of the output of the shape method. What format does it return the shape of the DataFrame in?"
      ]
    },
    {
      "cell_type": "code",
      "metadata": {
        "id": "yCny0I8pHKb1",
        "colab_type": "code",
        "colab": {}
      },
      "source": [
        ""
      ],
      "execution_count": 0,
      "outputs": []
    },
    {
      "cell_type": "markdown",
      "metadata": {
        "id": "2SzaadSxHlxa",
        "colab_type": "text"
      },
      "source": [
        "What if we want to isolate just one column?  There are (at least) two ways we can do this:\n",
        "\n",
        "- We can use bracket notation, like this:\n",
        "\n",
        "    `mydataframe['myvariable']`\n",
        "\n",
        "- We can treat the variable like an attribute, like this:\n",
        "\n",
        "    `mydataframe.myvariable`\n",
        "\n",
        "\n",
        "Try it for `surveys_df` and the `species_id` variable:"
      ]
    },
    {
      "cell_type": "code",
      "metadata": {
        "id": "S02zVMRWHpxX",
        "colab_type": "code",
        "colab": {}
      },
      "source": [
        ""
      ],
      "execution_count": 0,
      "outputs": []
    },
    {
      "cell_type": "markdown",
      "metadata": {
        "id": "DHdyrpaxHgZt",
        "colab_type": "text"
      },
      "source": [
        "or"
      ]
    },
    {
      "cell_type": "code",
      "metadata": {
        "id": "PR4UPu6rHspE",
        "colab_type": "code",
        "colab": {}
      },
      "source": [
        ""
      ],
      "execution_count": 0,
      "outputs": []
    },
    {
      "cell_type": "markdown",
      "metadata": {
        "id": "bHkqUirGHtSU",
        "colab_type": "text"
      },
      "source": [
        "Let's see what type `surveys_df['species_id']` is, using the `type()` function that we used this morning.  Try it."
      ]
    },
    {
      "cell_type": "code",
      "metadata": {
        "id": "5tkHH9UtHwYZ",
        "colab_type": "code",
        "colab": {}
      },
      "source": [
        ""
      ],
      "execution_count": 0,
      "outputs": []
    },
    {
      "cell_type": "markdown",
      "metadata": {
        "id": "yNnTbwZ_HzQ-",
        "colab_type": "text"
      },
      "source": [
        "You can think of a Pandas **`Series`** as a series of observations of one variable.  It behaves much like a Python list."
      ]
    },
    {
      "cell_type": "markdown",
      "metadata": {
        "id": "NfpGtk-eH46O",
        "colab_type": "text"
      },
      "source": [
        "We can also slice and dice -- similar to how we selected parts of list objects above. What does the next line do?"
      ]
    },
    {
      "cell_type": "code",
      "metadata": {
        "id": "VbCscHi9H6OF",
        "colab_type": "code",
        "colab": {}
      },
      "source": [
        "surveys_df[3:10]"
      ],
      "execution_count": 0,
      "outputs": []
    },
    {
      "cell_type": "markdown",
      "metadata": {
        "id": "vVPOdvIPH7rw",
        "colab_type": "text"
      },
      "source": [
        "Another way to select is with `.loc`, which selects based on *labels* (as opposed to `.iloc` which selects using *numerical indices*).  Try this:"
      ]
    },
    {
      "cell_type": "code",
      "metadata": {
        "id": "pLc_B5G7H-PH",
        "colab_type": "code",
        "colab": {}
      },
      "source": [
        "surveys_df.loc[[3, 10, 12], ['day', 'year', 'species_id']]"
      ],
      "execution_count": 0,
      "outputs": []
    },
    {
      "cell_type": "markdown",
      "metadata": {
        "id": "1E6R4QQ3IAz3",
        "colab_type": "text"
      },
      "source": [
        "We can also use `.query` to select only rows matching certain conditions.  Note that the query expression is in single quotes."
      ]
    },
    {
      "cell_type": "code",
      "metadata": {
        "id": "rHoEpVXNIC_f",
        "colab_type": "code",
        "colab": {}
      },
      "source": [
        "surveys_df.query('hindfoot_length < 10')"
      ],
      "execution_count": 0,
      "outputs": []
    },
    {
      "cell_type": "markdown",
      "metadata": {
        "id": "md7QVrBMIFHR",
        "colab_type": "text"
      },
      "source": [
        "There are other ways to do this.  Try this expression:"
      ]
    },
    {
      "cell_type": "code",
      "metadata": {
        "id": "qcWLqJX4IIUP",
        "colab_type": "code",
        "colab": {}
      },
      "source": [
        "surveys_df['hindfoot_length'] < 10"
      ],
      "execution_count": 0,
      "outputs": []
    },
    {
      "cell_type": "markdown",
      "metadata": {
        "id": "5KVeLcRxIJ0n",
        "colab_type": "text"
      },
      "source": [
        "How can you use this to get back a data frame with only the rows in `surveys_df` where `hindfoot_length < 10`?"
      ]
    },
    {
      "cell_type": "code",
      "metadata": {
        "id": "RT0QZ18QIMxP",
        "colab_type": "code",
        "colab": {}
      },
      "source": [
        ""
      ],
      "execution_count": 0,
      "outputs": []
    },
    {
      "cell_type": "markdown",
      "metadata": {
        "id": "fMDiLnsQIPag",
        "colab_type": "text"
      },
      "source": [
        "**Challenge**:  How might you query to get back only rows with `hindfoot_length < 10` **and** `weight > 10` in ONE expression?  (There is more than one way to accomplish this!)"
      ]
    },
    {
      "cell_type": "code",
      "metadata": {
        "id": "Oj0HOmdOISaT",
        "colab_type": "code",
        "colab": {}
      },
      "source": [
        ""
      ],
      "execution_count": 0,
      "outputs": []
    },
    {
      "cell_type": "markdown",
      "metadata": {
        "id": "JUzLDs3_ITIP",
        "colab_type": "text"
      },
      "source": [
        "Pandas has a handy **`unique()`** function (well, it has many handy functions!) to get all the unique elements in the column:"
      ]
    },
    {
      "cell_type": "code",
      "metadata": {
        "id": "iGNVKbvcIXn4",
        "colab_type": "code",
        "colab": {}
      },
      "source": [
        "unique_species = pd.unique(surveys_df['species_id'])"
      ],
      "execution_count": 0,
      "outputs": []
    },
    {
      "cell_type": "markdown",
      "metadata": {
        "id": "K_B_V0HZIZwL",
        "colab_type": "text"
      },
      "source": [
        "Try evaluting the **`.size`** attribute on the above result to see how many unique species there are in the data set."
      ]
    },
    {
      "cell_type": "code",
      "metadata": {
        "id": "a1K5WfeRIeuw",
        "colab_type": "code",
        "colab": {}
      },
      "source": [
        ""
      ],
      "execution_count": 0,
      "outputs": []
    },
    {
      "cell_type": "markdown",
      "metadata": {
        "id": "SgWwHBsRIgf4",
        "colab_type": "text"
      },
      "source": [
        "We see from above that we can also isolate just the data in one column. Let's try isolating the weight column, and calling the describe() function to get some statistics on it."
      ]
    },
    {
      "cell_type": "code",
      "metadata": {
        "id": "d-jOhx2kIhRo",
        "colab_type": "code",
        "colab": {}
      },
      "source": [
        ""
      ],
      "execution_count": 0,
      "outputs": []
    },
    {
      "cell_type": "markdown",
      "metadata": {
        "id": "Fqc-dH8GIihF",
        "colab_type": "text"
      },
      "source": [
        "Using corr(), We can also get a quick pairwise correlation between every pair of numerical variables:"
      ]
    },
    {
      "cell_type": "code",
      "metadata": {
        "id": "SZVH411WIjbQ",
        "colab_type": "code",
        "colab": {}
      },
      "source": [
        ""
      ],
      "execution_count": 0,
      "outputs": []
    },
    {
      "cell_type": "markdown",
      "metadata": {
        "id": "Wepl3nM7IlOr",
        "colab_type": "text"
      },
      "source": [
        "Pandas can also sort and group data based on the values in a column:"
      ]
    },
    {
      "cell_type": "code",
      "metadata": {
        "id": "oDw05wFgImnp",
        "colab_type": "code",
        "colab": {}
      },
      "source": [
        "grouped_by_species = surveys_df.groupby('species_id')"
      ],
      "execution_count": 0,
      "outputs": []
    },
    {
      "cell_type": "markdown",
      "metadata": {
        "id": "t4ijCjACIoNx",
        "colab_type": "text"
      },
      "source": [
        "Another handy operator is `~` (tilde), which gives us the \"opposite\" of a result.  Let's say we want to get all of the `AB` species observations, but only where the `hindfoot_length` variable has a value: "
      ]
    },
    {
      "cell_type": "code",
      "metadata": {
        "id": "m1RFV9FvIp4W",
        "colab_type": "code",
        "colab": {}
      },
      "source": [
        "surveys_df.loc[(surveys_df.species_id == 'AB') & ~surveys_df.hindfoot_length.isnull()]"
      ],
      "execution_count": 0,
      "outputs": []
    },
    {
      "cell_type": "markdown",
      "metadata": {
        "id": "tUAfq0dvIsLk",
        "colab_type": "text"
      },
      "source": [
        "Try running **`describe()`** on `grouped_by_species`:"
      ]
    },
    {
      "cell_type": "code",
      "metadata": {
        "id": "jhLJkjmJIt6C",
        "colab_type": "code",
        "colab": {}
      },
      "source": [
        ""
      ],
      "execution_count": 0,
      "outputs": []
    },
    {
      "cell_type": "markdown",
      "metadata": {
        "id": "EA10hWnjIurU",
        "colab_type": "text"
      },
      "source": [
        "Now we're going to create some series with:\n",
        "\n",
        "* The number of animals observed per species\n",
        "* The mean weight of all animals observed in each species"
      ]
    },
    {
      "cell_type": "code",
      "metadata": {
        "id": "UzVIDSEwIySC",
        "colab_type": "code",
        "colab": {}
      },
      "source": [
        "# a series with the number of samples by species\n",
        "species_counts = grouped_by_species.size()\n",
        "# a series with the mean weight by species\n",
        "species_mean_weights = grouped_by_species['weight'].mean()"
      ],
      "execution_count": 0,
      "outputs": []
    },
    {
      "cell_type": "markdown",
      "metadata": {
        "id": "ggggMb_WI0tD",
        "colab_type": "text"
      },
      "source": [
        "(For future reference:  `.agg()` or `.aggregate()` can be a useful way to work with \"groupby\" objects)\n",
        "\n",
        "\n",
        "Let's look at each - notice that each is a Series:"
      ]
    },
    {
      "cell_type": "code",
      "metadata": {
        "id": "smoPk7wJI2kB",
        "colab_type": "code",
        "colab": {}
      },
      "source": [
        ""
      ],
      "execution_count": 0,
      "outputs": []
    },
    {
      "cell_type": "code",
      "metadata": {
        "id": "esszLDrUI2yw",
        "colab_type": "code",
        "colab": {}
      },
      "source": [
        ""
      ],
      "execution_count": 0,
      "outputs": []
    },
    {
      "cell_type": "markdown",
      "metadata": {
        "id": "H-zTg6tAI475",
        "colab_type": "text"
      },
      "source": [
        "Let's try creating some quick bar charts. First we need to make sure figures appear inline in the notebook:"
      ]
    },
    {
      "cell_type": "code",
      "metadata": {
        "id": "H9VdIwoII5qi",
        "colab_type": "code",
        "colab": {}
      },
      "source": [
        "import matplotlib.pyplot as plt\n",
        "\n",
        "%matplotlib inline"
      ],
      "execution_count": 0,
      "outputs": []
    },
    {
      "cell_type": "markdown",
      "metadata": {
        "id": "kbt-YshvJBUi",
        "colab_type": "text"
      },
      "source": [
        "And now we'll create some quick charts:"
      ]
    },
    {
      "cell_type": "code",
      "metadata": {
        "id": "3pytbQbzJH5u",
        "colab_type": "code",
        "colab": {}
      },
      "source": [
        "plt.scatter(x = surveys_df.weight, y=surveys_df.hindfoot_length)\n",
        "\n",
        "plt.show()"
      ],
      "execution_count": 0,
      "outputs": []
    },
    {
      "cell_type": "markdown",
      "metadata": {
        "id": "lyuBEmX_JRQB",
        "colab_type": "text"
      },
      "source": [
        "How would you reverse the X and Y axes?"
      ]
    },
    {
      "cell_type": "code",
      "metadata": {
        "id": "VBYlapQSJUw_",
        "colab_type": "code",
        "colab": {}
      },
      "source": [
        ""
      ],
      "execution_count": 0,
      "outputs": []
    },
    {
      "cell_type": "markdown",
      "metadata": {
        "id": "tzMzssIkJXTi",
        "colab_type": "text"
      },
      "source": [
        "Let's try a histogram:"
      ]
    },
    {
      "cell_type": "code",
      "metadata": {
        "id": "gkDkUuERJVHs",
        "colab_type": "code",
        "colab": {}
      },
      "source": [
        "plt.hist(surveys_df.hindfoot_length[surveys_df.hindfoot_length.notnull()])\n",
        "plt.title('Distribution of hindfoot length values')\n",
        "plt.show()"
      ],
      "execution_count": 0,
      "outputs": []
    },
    {
      "cell_type": "markdown",
      "metadata": {
        "id": "OUGhWdTSJh__",
        "colab_type": "text"
      },
      "source": [
        "How would you add X and Y axis labels?"
      ]
    },
    {
      "cell_type": "code",
      "metadata": {
        "id": "3Q4G_bqAJmFr",
        "colab_type": "code",
        "colab": {}
      },
      "source": [
        ""
      ],
      "execution_count": 0,
      "outputs": []
    },
    {
      "cell_type": "markdown",
      "metadata": {
        "id": "MilGFKttJfHP",
        "colab_type": "text"
      },
      "source": [
        "We can also call `.plot()` on a Series:"
      ]
    },
    {
      "cell_type": "code",
      "metadata": {
        "id": "MDTbtflb3-Iu",
        "colab_type": "code",
        "colab": {}
      },
      "source": [
        "species_counts.plot(kind='bar')"
      ],
      "execution_count": 0,
      "outputs": []
    },
    {
      "cell_type": "code",
      "metadata": {
        "id": "5x_ah8zF4v1_",
        "colab_type": "code",
        "colab": {}
      },
      "source": [
        "species_mean_weights.plot(kind='bar')"
      ],
      "execution_count": 0,
      "outputs": []
    },
    {
      "cell_type": "markdown",
      "metadata": {
        "id": "8XQ9xTHkJsKN",
        "colab_type": "text"
      },
      "source": [
        "And now for a scatter plot, where we specify which variables are the x and y:\n"
      ]
    },
    {
      "cell_type": "code",
      "metadata": {
        "id": "-BHu65mRJ0-3",
        "colab_type": "code",
        "colab": {}
      },
      "source": [
        "surveys_df.plot(kind='scatter', y='hindfoot_length', x='weight')"
      ],
      "execution_count": 0,
      "outputs": []
    },
    {
      "cell_type": "markdown",
      "metadata": {
        "id": "y8kN1njyJ3s-",
        "colab_type": "text"
      },
      "source": [
        "See if you can look up another plot type and get it to work!"
      ]
    },
    {
      "cell_type": "code",
      "metadata": {
        "id": "JvRW0UBFJ5_x",
        "colab_type": "code",
        "colab": {}
      },
      "source": [
        ""
      ],
      "execution_count": 0,
      "outputs": []
    },
    {
      "cell_type": "markdown",
      "metadata": {
        "id": "7Fmq7gPiJ8xr",
        "colab_type": "text"
      },
      "source": [
        "## Nicer plotting, with `ggplot`\n",
        "\n",
        "Let's try a different plotting library, called `ggplot` (from the `plotnine` package), that thinks about plotting data in a different way, in terms of \"adding\" *data* plus *aesthetics* (colors, shapes, etc.) plus *layers* (which add to or modify the plot)\n",
        "\n",
        "First we need to import the ggplot library, from the `plotline` package:"
      ]
    },
    {
      "cell_type": "code",
      "metadata": {
        "id": "07DEXvMZJ-G9",
        "colab_type": "code",
        "colab": {}
      },
      "source": [
        "# This step seemes to be needed to run in Google Colaboratory -- it might not be needed in Anaconda\n",
        "# Install the plotnine Python library\n",
        "!pip install plotnine==0.5.0"
      ],
      "execution_count": 0,
      "outputs": []
    },
    {
      "cell_type": "code",
      "metadata": {
        "id": "SDWkEtwdKAUX",
        "colab_type": "code",
        "colab": {}
      },
      "source": [
        "from plotnine import *"
      ],
      "execution_count": 0,
      "outputs": []
    },
    {
      "cell_type": "markdown",
      "metadata": {
        "id": "YLfCwQfSKBt1",
        "colab_type": "text"
      },
      "source": [
        "The first thing we'll do is create a ggplot object and give it:\n",
        "\n",
        "- Our data frame (surveys_df)\n",
        "- Aesthetics information, such as which variables in our data frame will be used as the independent (x) and dependent (y) variables\n"
      ]
    },
    {
      "cell_type": "code",
      "metadata": {
        "id": "nU5XbFvUKM2P",
        "colab_type": "code",
        "colab": {}
      },
      "source": [
        "ggplot(surveys_df) + aes(x = 'weight', y = 'hindfoot_length')"
      ],
      "execution_count": 0,
      "outputs": []
    },
    {
      "cell_type": "markdown",
      "metadata": {
        "id": "qDZvk_DVKFFo",
        "colab_type": "text"
      },
      "source": [
        "Why is the canvas mysteriously empty?  We need to add a ***layer***, using `+`.  We'll add a layer with points:"
      ]
    },
    {
      "cell_type": "code",
      "metadata": {
        "id": "h8rGkEovKVhX",
        "colab_type": "code",
        "colab": {}
      },
      "source": [
        "ggplot(surveys_df) + aes(x = 'weight', y = 'hindfoot_length') + geom_point()"
      ],
      "execution_count": 0,
      "outputs": []
    },
    {
      "cell_type": "markdown",
      "metadata": {
        "id": "xuVMRhHvKX34",
        "colab_type": "text"
      },
      "source": [
        "Not bad!  Let's see if we can perhaps color-code the points based on the species_id."
      ]
    },
    {
      "cell_type": "code",
      "metadata": {
        "id": "HNfCZYiwKaDp",
        "colab_type": "code",
        "colab": {}
      },
      "source": [
        "ggplot(surveys_df) + aes(x = 'weight', y = 'hindfoot_length', color='species_id') + geom_point()"
      ],
      "execution_count": 0,
      "outputs": []
    },
    {
      "cell_type": "markdown",
      "metadata": {
        "id": "FaY6V1qfKdog",
        "colab_type": "text"
      },
      "source": [
        "This is great, but, perhaps with so many species_id values, it becomes hard to distinguish between the colors to have a meaningful color layer.   Let's create a subset using just the top 10 species.\n",
        "\n",
        "Remember earlier we created `species_counts`?  We'll use it and do a bit of sorting to get just the top ten species as as a list:"
      ]
    },
    {
      "cell_type": "code",
      "metadata": {
        "id": "JtX-8LCTKfZX",
        "colab_type": "code",
        "colab": {}
      },
      "source": [
        "species_counts.sort_values(ascending=False)"
      ],
      "execution_count": 0,
      "outputs": []
    },
    {
      "cell_type": "markdown",
      "metadata": {
        "id": "0pLp_oxFKiAv",
        "colab_type": "text"
      },
      "source": [
        "How would you get just the first 10 values?"
      ]
    },
    {
      "cell_type": "code",
      "metadata": {
        "id": "F--P5X5JKjlm",
        "colab_type": "code",
        "colab": {}
      },
      "source": [
        ""
      ],
      "execution_count": 0,
      "outputs": []
    },
    {
      "cell_type": "markdown",
      "metadata": {
        "id": "KijLNHNHKkGH",
        "colab_type": "text"
      },
      "source": [
        "But we simply want the species ids, not any of the other stuff.  Similar to a Python dictionary, we can use `.keys()` to get that:"
      ]
    },
    {
      "cell_type": "code",
      "metadata": {
        "id": "1RWJfPPvKl87",
        "colab_type": "code",
        "colab": {}
      },
      "source": [
        "species_counts.sort_values(ascending=False)[:10].keys()"
      ],
      "execution_count": 0,
      "outputs": []
    },
    {
      "cell_type": "markdown",
      "metadata": {
        "id": "PzYEH9OwKoCd",
        "colab_type": "text"
      },
      "source": [
        "And let's use a variable to **store** our index of top species so we can reuse it:"
      ]
    },
    {
      "cell_type": "code",
      "metadata": {
        "id": "DloghIApKrEP",
        "colab_type": "code",
        "colab": {}
      },
      "source": [
        "top_species = species_counts.sort_values(ascending=False)[:10].keys()"
      ],
      "execution_count": 0,
      "outputs": []
    },
    {
      "cell_type": "markdown",
      "metadata": {
        "id": "8pBfnjMsKtbB",
        "colab_type": "text"
      },
      "source": [
        "Now that we have a simple list of the top 10 species IDs, we can use **`.isin()`** to create a subset data frame containing just the rows with those species_id values:"
      ]
    },
    {
      "cell_type": "code",
      "metadata": {
        "id": "BG7aT9lkKyq9",
        "colab_type": "code",
        "colab": {}
      },
      "source": [
        "subset_df = surveys_df[surveys_df.species_id.isin(top_species)]"
      ],
      "execution_count": 0,
      "outputs": []
    },
    {
      "cell_type": "markdown",
      "metadata": {
        "id": "17RmHbGLK1qf",
        "colab_type": "text"
      },
      "source": [
        "With our smaller variety of species, let's try it again with species_id as the key for the color:"
      ]
    },
    {
      "cell_type": "code",
      "metadata": {
        "id": "CHXa3v5eK4ut",
        "colab_type": "code",
        "colab": {}
      },
      "source": [
        "subset_df = surveys_df[surveys_df.species_id.isin(top_species)]"
      ],
      "execution_count": 0,
      "outputs": []
    },
    {
      "cell_type": "markdown",
      "metadata": {
        "id": "llZsd-OZK87q",
        "colab_type": "text"
      },
      "source": [
        "How would you recreate the plot with just the subset?"
      ]
    },
    {
      "cell_type": "code",
      "metadata": {
        "id": "HWbtW_nIK72p",
        "colab_type": "code",
        "colab": {}
      },
      "source": [
        ""
      ],
      "execution_count": 0,
      "outputs": []
    },
    {
      "cell_type": "markdown",
      "metadata": {
        "id": "m4y9nnZDK6xc",
        "colab_type": "text"
      },
      "source": [
        "Try adding the following layers and see what they do:\n",
        "- `stat_smooth()`\n",
        "- `theme_xkcd()`\n",
        "- `facet_wrap(~species_id)`\n",
        "\n",
        "Were you also able to look up the documentation on these to understand what they're doing?"
      ]
    },
    {
      "cell_type": "code",
      "metadata": {
        "id": "PqDyg3039tUU",
        "colab_type": "code",
        "colab": {}
      },
      "source": [
        ""
      ],
      "execution_count": 0,
      "outputs": []
    },
    {
      "cell_type": "markdown",
      "metadata": {
        "id": "KGHK_MYDLlRe",
        "colab_type": "text"
      },
      "source": [
        "If you still have time, try some of the examples here that use other plotting libraries:  https://colab.research.google.com/notebooks/charts.ipynb"
      ]
    },
    {
      "cell_type": "code",
      "metadata": {
        "id": "VueMct8xL5HH",
        "colab_type": "code",
        "colab": {}
      },
      "source": [
        ""
      ],
      "execution_count": 0,
      "outputs": []
    }
  ]
}