{
 "cells": [
  {
   "cell_type": "markdown",
   "metadata": {
    "cell_id": "00000-58e8cede-ccaf-408a-83c4-865258a53f67",
    "output_cleared": false,
    "tags": []
   },
   "source": [
    "# Software Carpentry with Python: Part 1\n",
    "\n",
    "## Intro to Python Concepts\n",
    "\n",
    "For October 14, 2020. \n",
    "\n",
    "Starts with overview of Python and Anaconda as in: [Data Carpentry: Python Ecology Lesson](https://datacarpentry.org/python-ecology-lesson/00-before-we-start/index.html)"
   ]
  },
  {
   "cell_type": "markdown",
   "metadata": {
    "cell_id": "00001-d9827759-06ca-4c02-8f6a-dd05235262f0",
    "output_cleared": false,
    "tags": []
   },
   "source": [
    "## What is Python \n",
    "\n",
    "Python is a general purpose programming language that supports rapid development of data analytics applications. \n",
    "\n",
    "Its main advantages are:\n",
    "\n",
    "* Free\n",
    "* Open-source\n",
    "* Available on all major platforms (macOS, Linux, Windows)\n",
    "* Supported by Python Software Foundation, has large community\n",
    "* Supports multiple programming paradigms: data analysis, application development, machine learning\n",
    "* Rich ecosystem of third-party packages\n",
    "\n",
    "So, why use Python for data analysis?\n",
    "* As a language, accessible for new members of the community to get up to speed.\n",
    "* Supports reproducibility: Reproducibility is the ability to obtain the same results using the same dataset(s) and analysis.\n",
    "* Data analysis written as a Python script can be reproduced on any platform. Moreover, if you collect more or correct existing data, you can quickly and easily re-run your analysis! An increasing number of journals and funding agencies expect analyses to be reproducible, so knowing Python will give you an edge with these requirements.\n",
    "* Versatility: Python can read text files, connect to databases, and many other data formats, on your computer or on the web.\n",
    "* Interdisciplinary and extensible: Python provides a framework that allows anyone to combine approaches from different research (but not only) disciplines to best suit your analysis needs."
   ]
  },
  {
   "cell_type": "markdown",
   "metadata": {
    "cell_id": "00002-ce818851-a9f8-4b5b-bce9-90af60864a1a",
    "output_cleared": false,
    "tags": []
   },
   "source": [
    "## Knowing your way around Anaconda\n",
    "**Everyone open Anaconda Navigator**\n",
    "\n",
    "Anaconda distribution of Python includes a lot of its popular packages, such as the Jupyter Notebook, Jupyter Lab, and Spyder IDE. Have a quick look around the Anaconda Navigator. You can launch programs from the Navigator or use the command line.\n",
    "ments that\n",
    "The Jupyter Notebook is an open-source web application that allows you to create documents that combine code, graphs, and narrative text. \n",
    "\n",
    "Anaconda also comes with a package manager called conda, which makes it easy to install and update additional packages from the command line. \n",
    "\n",
    "### Opening up a notebook:\n",
    "1. Click on the Launch button under Jupyter Notebook (not Jupyter Lab). \n",
    "2. Navigate to your Desktop folder\n",
    "3. Create a new folder called python-lesson\n",
    "4. Click into that. \n",
    "5. Click the New > Notebook button\n"
   ]
  },
  {
   "cell_type": "markdown",
   "metadata": {
    "cell_id": "00003-90236d6f-e330-4693-b99b-a78abfb57f53",
    "tags": []
   },
   "source": [
    "## Introduction to Jupyter"
   ]
  },
  {
   "cell_type": "markdown",
   "metadata": {
    "cell_id": "00003-57e30232-daba-4cc1-9321-0887c926215d",
    "tags": []
   },
   "source": [
    "Jupyter is a browser-based interface to a Python kernel. The kernel is essentially a process that runs the Python code. We have Python installed as part of the Anaconda software. \n",
    "\n",
    "In the notebook, we can use code cells and text cells which explain our code or add documentation. We can even put plots and images in this notebook, making it a great tool for sharing code. \n",
    "\n",
    "Let's update the title on thie notebook. The title will become the new filename, and as you learned in the Bash lesson, there are good reasons to not use spaces in your filenames.  \n",
    "\n",
    "Title: data-carpentry-python-day1\n",
    "\n",
    "1. Add header using Markdown \n",
    "2. Add a code cell. \n",
    " \n",
    " "
   ]
  },
  {
   "cell_type": "markdown",
   "metadata": {
    "cell_id": "00003-9303d0ab-1ce4-4f78-a90d-2804a2247f83",
    "output_cleared": false,
    "tags": []
   },
   "source": [
    "## Introduction to the dataset\n",
    "\n",
    "For our Python lessons, we're using a dataset from the [Gapminder project](https://www.gapminder.org/). \n",
    "The Gapminder Foundation promotes understanding of statistics in order to support sustainable global development.\n",
    "They've gathered a number of datasets that are useful in learning about statistical analysis and how to explore data with code.  \n",
    "\n",
    "Throughout today's lesson and tomorrow's, we'll be working with a dataset that includes GDP and population figures for countries over time. \n",
    "\n",
    "\n",
    "### In preparation:\n",
    "Return to the home tab in your browser for the Jupyter Home page that shows your files. Remember, we're in the python-lesson directory. \n",
    "\n",
    "1. Let's create a New > Folder. Click the checkbox and Rename it: data. \n",
    "2. Then click to go into it. \n",
    "2. We need to put our gapminder data here. The file is at: https://go.gwu.edu/gapminderdata. Once you get to that page, got to File > Save Page As to download it. Be sure to save it as a comma separated values file, not a text or html file. \n",
    " Download it now. Make sure to note where you downloaded it to!\n",
    "3. Back in Jupyter Hun, click the Upload button and upload the data file. \n",
    "\n",
    "We're setting things up this way so that we all have the same file structure and can follow along. Also, this is generally a good practice, to create a data folder and put your original data files in there. \n",
    "\n",
    "A quick aside that there are Python libraries like `os` library that can work with our directory structure, however, that is not our focus today.\n",
    "\n",
    "### Looking at the data\n",
    "\n",
    "We'll look at different ways of working with this data in Python. \n",
    "As we proceed, we'll introduce various levels of abstraction that will allow us to work with the data in increasingly efficient ways.\n",
    "\n",
    "Let's take a moment to get acquainted with the dataset. You can view the data in tabular form [on GitHub](https://github.com/gwu-libraries/gwlibraries-workshops/blob/master/python-datacarpentry/data/gapminder_all_cleaned.csv).\n",
    "\n",
    "### Exercise:\n",
    "I'll be putting you into small groups in breakout rooms. Please introduce yourselves to each other and share something about why you're interested in learning Python. Once you've done that, as a group, take a look at the gapminder data file together and discuss these questions: \n",
    "\n",
    "1. What does each row represent?\n",
    "2. What does each column represent? \n",
    "3. What kinds of analytical questions does this dataset let us pose?\n"
   ]
  },
  {
   "cell_type": "markdown",
   "metadata": {
    "cell_id": "00004-97d787d9-db52-4fe8-a29a-f76dd42cc9ee",
    "output_cleared": false,
    "tags": []
   },
   "source": [
    "## Variables and Assignment \n",
    "(from [SWC Plotting and Programming with Python](https://swcarpentry.github.io/python-novice-gapminder/02-variables/index.html))"
   ]
  },
  {
   "cell_type": "markdown",
   "metadata": {
    "cell_id": "00003-5c58f9b4-e131-4bf1-bfca-7b47e30e0d76",
    "output_cleared": false,
    "tags": []
   },
   "source": [
    "### Use variables to store values.\n",
    "* Variables are names for values.\n",
    "* In Python the `=` symbol assigns the value on the right to the name on the left.\n",
    "* The variable is created when a value is assigned to it.\n",
    "* It's difficult to work with complex data in Python **without** using variables. Variables represent a key element of **abstraction**, whereby we can represent something potentially complex and changeable by a more concise and persistent expression.\n",
    "\n",
    "One approach to representing our gapminder data would be to assign individual values to variables."
   ]
  },
  {
   "cell_type": "code",
   "execution_count": null,
   "metadata": {
    "cell_id": "00000-7cc61c7c-f23f-4510-9ae1-4abfb039bb9a",
    "output_cleared": false,
    "tags": []
   },
   "outputs": [],
   "source": [
    "country = 'Algeria'\n",
    "gdpPercap_1952 = 2449.008185"
   ]
  },
  {
   "cell_type": "markdown",
   "metadata": {
    "cell_id": "00007-5630485a-5995-4211-9f56-55b4293e32a3",
    "output_cleared": false,
    "tags": []
   },
   "source": [
    "### Use print to display values.\n",
    "* Python has a built-in function called `print` that prints things as text.\n",
    "* Call the function (i.e., tell Python to run it) by using its name.\n",
    "* Function calls require **parentheses** after the name of the function. \n",
    "* If the function accepts **arguments**, these go inside the parens. \n",
    "* The `print` function takes one or more arguments. If the arguments are variables, it outputs the values they represent to the screen."
   ]
  },
  {
   "cell_type": "code",
   "execution_count": null,
   "metadata": {
    "cell_id": "00008-d88718ea-0193-49b5-81d9-8fa4c357f905",
    "output_cleared": false,
    "tags": []
   },
   "outputs": [],
   "source": [
    "print(country, gdpPercap_1952)"
   ]
  },
  {
   "cell_type": "markdown",
   "metadata": {
    "cell_id": "00007-b28a66ad-05a6-482f-a7e9-b40aca6ce7ec",
    "output_cleared": false,
    "tags": []
   },
   "source": [
    "### Naming and assigning variables\n",
    "* Variable names can contain only letters, digits, and the underscore `_` character (typically used to separate words in long variable names).\n",
    "* Variable names cannot start with a digit.\n",
    "* Python treats upper- and lower-case letters as different, so `gdpPercap` and `gdppercap` are different variables.\n",
    "* Variables must be created before they can be used. In Python, in most cases, we cannot create a variable without explicitly assigning it a value.\n",
    "* If you refer to a variable that doesn't yet exist, Python reports an error."
   ]
  },
  {
   "cell_type": "code",
   "execution_count": null,
   "metadata": {
    "cell_id": "00010-81d00d53-005c-4833-a5dc-a2051aa62fb3",
    "output_cleared": false,
    "tags": []
   },
   "outputs": [],
   "source": [
    "print(gdpPercap_1987)"
   ]
  },
  {
   "cell_type": "markdown",
   "metadata": {
    "cell_id": "00011-6b63df8c-0875-4fdf-a65e-73456dd7b821",
    "output_cleared": false,
    "tags": []
   },
   "source": [
    "### Variables persist.\n",
    "* Having created (by assignment) the variables `country` and `gdpPercap_1952` above, we can continue to use them throughout this notebook session.\n",
    "* We can change the value to which a variable refers by re-assigning it. \n",
    "* Below, we do this explicitly. Later on, we'll see how other Python structures -- namely, `for` loops -- reassign variables implicitly. \n",
    "* Be aware that it is the order of execution of cells that is important in a Jupyter notebook, **not the order in which they appear**. Python will remember all the code that was run previously, including any variables you have defined, irrespective of the order in the notebook. If you define variables lower down the notebook and then (re)run cells further up, those defined lower down will still exist.\n",
    "\n"
   ]
  },
  {
   "cell_type": "code",
   "execution_count": null,
   "metadata": {
    "cell_id": "00008-8555f880-f394-4839-8223-1659eb843172",
    "output_cleared": false,
    "tags": []
   },
   "outputs": [],
   "source": [
    "country = 'Angola'\n",
    "gdpPercap_1952 = 3520.610273\n",
    "gdpPercap_2007 = 4797.231267"
   ]
  },
  {
   "cell_type": "markdown",
   "metadata": {
    "cell_id": "00013-cf9dce20-f661-426f-a1b6-309062c17cb9",
    "output_cleared": false,
    "tags": []
   },
   "source": [
    "### Variables can be used in expressions.\n",
    "* An **expression** is a series of Python instructions that results in a new value.\n",
    "* A mathematical calculation is an example of an expression.\n",
    "* We can use variables in expressions just as if they were values.\n",
    "* We can mix variables and **literals** (values not assigned to a variable).\n",
    "* We can assign the result of an expression to a new variable."
   ]
  },
  {
   "cell_type": "code",
   "execution_count": null,
   "metadata": {
    "cell_id": "00014-74d846d9-a1a8-4fc8-a8ab-5eac23bddc57",
    "output_cleared": false,
    "tags": []
   },
   "outputs": [],
   "source": [
    "percent_change = (gdpPercap_2007 - gdpPercap_1952) / gdpPercap_1952 * 100\n",
    "print('Percent change from 1952 to 2007 =', percent_change)"
   ]
  },
  {
   "cell_type": "markdown",
   "metadata": {
    "cell_id": "00015-0385fedb-d547-40cf-be0f-65f08326b482",
    "output_cleared": false,
    "tags": []
   },
   "source": [
    "### Boolean expressions\n",
    "* A special subset of Python expressions result in a binary value, called a Boolean, that is either `True` or `False`. \n",
    "* `True` and `False` (note the capitalization) are reserved words in Python, so they should not be used as the names for variables.\n",
    "* A useful kind of Boolean expression is to test for equality. To distinguish it from variable assignment, which uses a single equals sign (`=`), the test for equality uses a double equals sign (`==`)."
   ]
  },
  {
   "cell_type": "code",
   "execution_count": null,
   "metadata": {
    "cell_id": "00017-b73fd454-bead-4ffb-a752-7f5283a923a8",
    "output_cleared": false,
    "tags": []
   },
   "outputs": [],
   "source": [
    "print(country == 'Algeria')"
   ]
  },
  {
   "cell_type": "code",
   "execution_count": null,
   "metadata": {
    "cell_id": "00016-5039a339-4388-4fbe-b1e4-82b51e79d74e",
    "output_cleared": false,
    "tags": []
   },
   "outputs": [],
   "source": [
    "print(gdpPercap_1952 == 3520.610273)"
   ]
  },
  {
   "cell_type": "markdown",
   "metadata": {
    "cell_id": "00015-836203a3-b22a-4878-850c-92eaebaff3ba",
    "output_cleared": false,
    "tags": []
   },
   "source": [
    "## Types and Conversion\n",
    "\n",
    "### Every value has a type.\n",
    "* Every value in a program has a specific type.\n",
    "* Python has a few different types for representing single values. These include:\n",
    "  * Integer (`int`): represents positive or negative whole numbers like 3 or -512.\n",
    "  * Floating point number (`float`): represents real numbers like 3.14159 or -2.5.\n",
    "  * Character string (`str`): text of any length, enclosed in either single quotes or double quotes (as long as they match)."
   ]
  },
  {
   "cell_type": "markdown",
   "metadata": {
    "cell_id": "00016-a2fb8ba0-e6eb-4390-a1d8-debf97334819",
    "output_cleared": false,
    "tags": []
   },
   "source": [
    "### Use the built-in function type to find the type of a value.\n",
    "* Use the built-in function `type` to find out what type a value has.\n",
    "* Works on variables as well.\n",
    "* But remember: the value has the type — the variable is just a label."
   ]
  },
  {
   "cell_type": "code",
   "execution_count": null,
   "metadata": {
    "cell_id": "00017-ead53398-a9ce-45d5-8e47-13b9507cf760",
    "output_cleared": false,
    "tags": []
   },
   "outputs": [],
   "source": [
    "type(country)"
   ]
  },
  {
   "cell_type": "code",
   "execution_count": null,
   "metadata": {
    "cell_id": "00018-bc7ee8df-c912-4cc7-b5e3-97f3281755d0",
    "output_cleared": false,
    "tags": []
   },
   "outputs": [],
   "source": [
    "type(gdpPercap_1952)"
   ]
  },
  {
   "cell_type": "markdown",
   "metadata": {
    "cell_id": "00019-5a446663-68ad-46d2-93ce-cf99f81587dc",
    "output_cleared": false,
    "tags": []
   },
   "source": [
    "### Certain kinds of expressions work only for certain types.\n",
    "In other words, a value’s type determines what the program can do with it.\n",
    "\n",
    "* `int` and `float` values can be used in mathematical expressions.\n",
    "* You can't automatically combine a `str` with either an `int` or a `float`.\n",
    "* The `print` function, like the `type` function, works for any Python type. That is not true of all Python functions."
   ]
  },
  {
   "cell_type": "code",
   "execution_count": null,
   "metadata": {
    "cell_id": "00020-e1bf4884-a336-4b68-b969-f9dbde3ff1c4",
    "output_cleared": false,
    "tags": []
   },
   "outputs": [],
   "source": [
    "print(gdpPercap_2007 - gdpPercap_1952)"
   ]
  },
  {
   "cell_type": "code",
   "execution_count": null,
   "metadata": {
    "cell_id": "00021-25f200ad-29c8-44a3-a7ea-e0fcaaada0c4",
    "output_cleared": false,
    "tags": []
   },
   "outputs": [],
   "source": [
    "newValue = country + gdpPercap_1952"
   ]
  },
  {
   "cell_type": "markdown",
   "metadata": {
    "cell_id": "00027-4d45f06d-7f7c-4571-aa29-7038b965b4fc",
    "tags": []
   },
   "source": [
    "Strings have a length, and we can use another built-in method called `len()` to see how many characters are in it."
   ]
  },
  {
   "cell_type": "code",
   "execution_count": null,
   "metadata": {
    "cell_id": "00028-a3ced7e9-b3f8-4edf-9a8d-c2a0c068256a",
    "output_cleared": false,
    "tags": []
   },
   "outputs": [],
   "source": [
    "len(country)"
   ]
  },
  {
   "cell_type": "markdown",
   "metadata": {
    "cell_id": "00029-03adc3b7-6d8c-4886-b482-265599e79227",
    "tags": []
   },
   "source": [
    "We can't take the `len()` of a float."
   ]
  },
  {
   "cell_type": "code",
   "execution_count": null,
   "metadata": {
    "cell_id": "00030-7f626b0d-e3d6-4e76-9d1a-64885f7f39b9",
    "output_cleared": false,
    "tags": []
   },
   "outputs": [],
   "source": [
    "len(gdpPercap_1952)"
   ]
  },
  {
   "cell_type": "markdown",
   "metadata": {
    "cell_id": "00022-ace14e06-9a1e-42d4-a502-ccba81359168",
    "output_cleared": false,
    "tags": []
   },
   "source": [
    "### Type conversion allows us to combine different types in a single expression.\n",
    "* Use the `+` operator to combine strings. \n",
    "* Use the `str` function to convert a float or an integer to a string. "
   ]
  },
  {
   "cell_type": "code",
   "execution_count": null,
   "metadata": {
    "cell_id": "00023-0f62a1d9-b5ad-4165-bcb7-d93f89321ebd",
    "output_cleared": false,
    "tags": []
   },
   "outputs": [],
   "source": [
    "label = 'GDP per capita for ' + country + ' in 2007: ' + str(gdpPercap_1952) \n",
    "print(label)"
   ]
  },
  {
   "cell_type": "markdown",
   "metadata": {
    "cell_id": "00024-5b1f4870-7e2e-4f48-9571-aebc6f25faa3",
    "output_cleared": false,
    "tags": []
   },
   "source": [
    "Note that the code `str(gdpPercap_1952)` does not change the value to which the variable `gdpPercap_1952` refers. Rather, it returns a **new** value of the `str` type, which is then added to the end of the previous string in our expression."
   ]
  },
  {
   "cell_type": "code",
   "execution_count": null,
   "metadata": {
    "cell_id": "00025-1df61e7d-80c8-4fa3-b5ec-ce8df5771ec9",
    "output_cleared": false,
    "tags": []
   },
   "outputs": [],
   "source": [
    "type(gdpPercap_1952)"
   ]
  },
  {
   "cell_type": "markdown",
   "metadata": {
    "cell_id": "00026-86c3bad4-6d00-423a-aa23-d5c8756a2cc7",
    "output_cleared": false,
    "tags": []
   },
   "source": [
    "### Exercise\n",
    "1. Using variables and expressions, calculate the percentage change in **life expectancy** between 1952 and 2007 for another country in the CSV file.\n",
    "2. Print a statement as above that summarizes your findings, including the name of the country.\n",
    "\n",
    "Percent change between quantities `x` and `y` is calculated as `(y - x) / x`."
   ]
  },
  {
   "cell_type": "code",
   "execution_count": null,
   "metadata": {
    "cell_id": "00036-3c96965e-7c37-4e1b-9e5f-faf8f56170c0",
    "output_cleared": false,
    "tags": []
   },
   "outputs": [],
   "source": [
    "country2 = 'New Zealand'\n",
    "lifeExp1952 = 69.39 \n",
    "lifeExp2007 = 80.204\n",
    "percent_change_le = (lifeExp2007 - lifeExp1952) /  lifeExp1952 * 100\n",
    "statement = 'Percent change in New Zealand life expectancy is ' + str(round(percent_change_le, 2)) + \".\"\n",
    "print(statement)"
   ]
  },
  {
   "cell_type": "markdown",
   "metadata": {
    "cell_id": "00027-5d37dd4b-d3d4-42f8-bd74-0cca0311005a",
    "output_cleared": false,
    "tags": []
   },
   "source": [
    "## Working with strings and lists\n",
    "\n",
    "We have seen how to create and manipulate variables that store single values. But that's not terribly helpful for working with data, where we usually want to perform operations on large amounts of values. Assigning a new variable to every country's GDP per capita in 1952, for instance, would be tiresome, to say the least.\n",
    "\n",
    "In what follows, we'll see how to use some additional Python types to work with **collections** of values.\n",
    "\n",
    "But first, we need to load our dataset into Python's memory space so that we can work with it."
   ]
  },
  {
   "cell_type": "markdown",
   "metadata": {
    "cell_id": "00039-8b71fddf-25ca-48a9-b323-3577a0dbd3e7",
    "output_cleared": false,
    "tags": []
   },
   "source": [
    "### Reading a file\n",
    "\n",
    "* One way to access the contents of a file in Python is to use the built-in `open` and `read` functions. \n",
    "\n",
    "(Type in code here rather than covering all of this first.)\n",
    "\n",
    "* Here we are opening the file called `gapminder_all_cleaned.csv`, which is in the `data` subdirectory within the directory that contains this notebook.\n",
    "* We are opening the file as read-only, using the `'r'` argument to `open`.\n",
    "* A reference to the open file is assigned to the variable `f`.\n",
    "* We assign a new variable, `gap_data`, to the contents of the file by calling `f.read()`.\n",
    "  * The dot between `f` and `read()` means that `read` is a function associated with anything that has the special **file-object type**. (We could have chosen any valid variable name; the choice of `f` is merely conventional).\n",
    "* The following code creates what's called a **code block**. \n",
    "  * Notice the colon (`:`) at the end of the first line.\n",
    "  * Notice that the second line is indented. \n",
    "  * To indent, you can use either the `tab` key or the spacebar, but whichever you choose, you should be consistent.\n",
    "  * The Jupyter notebook will automatically indent the next line after a colon.\n",
    "* Code blocks identify lines of code that must be run together. \n",
    "* In this case, the `with...as` keywords instruct Python to keep the file open only for the duration of the ensuing code block.\n",
    "* Since the code block contains only one more statement -- the call to `f.read()` -- the file will be closed automatically after its contents have been read into memory.\n"
   ]
  },
  {
   "cell_type": "code",
   "execution_count": null,
   "metadata": {
    "cell_id": "00032-062bf48d-ab62-4c8c-91f1-f3ff72b2f7d8",
    "output_cleared": false,
    "tags": []
   },
   "outputs": [],
   "source": [
    "with open('data/gapminder_all_cleaned.csv', 'r') as f:\n",
    "    gap_data = f.read()"
   ]
  },
  {
   "cell_type": "markdown",
   "metadata": {
    "cell_id": "00033-03210dd1-64b3-4593-93d3-6859cad7ffc7",
    "output_cleared": false,
    "tags": []
   },
   "source": [
    "Now our variable `f` isn't good for much anymore, but we should be able to access our dataset via the `gap_data` variable.\n"
   ]
  },
  {
   "cell_type": "code",
   "execution_count": null,
   "metadata": {
    "cell_id": "00033-978c0682-601c-4032-a364-8972101ecf49",
    "output_cleared": false,
    "tags": []
   },
   "outputs": [],
   "source": [
    "print(gap_data)"
   ]
  },
  {
   "cell_type": "markdown",
   "metadata": {
    "cell_id": "00035-afe82ac3-6336-4301-bae5-49c0932bb5d9",
    "output_cleared": false,
    "tags": []
   },
   "source": []
  },
  {
   "cell_type": "markdown",
   "metadata": {
    "cell_id": "00036-260d7386-622d-43f9-9f8b-0fcee7396bb8",
    "output_cleared": false,
    "tags": []
   },
   "source": [
    "Reading a file into Python converts the contents into a string.\n",
    "\n",
    "If you inspect the output of the `print` statement, you'll notice the commas between of the column values for each row of the original table. This is because the file is in CSV (comma-separated value) format.\n",
    "\n",
    "That's the **format** of the data, but its Python **type** is still just `str`.\n",
    "\n",
    "This is not many strings, but one long string with newline characters between rows. "
   ]
  },
  {
   "cell_type": "code",
   "execution_count": null,
   "metadata": {
    "cell_id": "00037-092484d4-8062-4762-b710-c5413de642d9",
    "output_cleared": false,
    "tags": []
   },
   "outputs": [],
   "source": [
    "type(gap_data)"
   ]
  },
  {
   "cell_type": "markdown",
   "metadata": {
    "cell_id": "00038-a0f053fb-bb28-4da2-857c-fd8857511fd6",
    "output_cleared": false,
    "tags": []
   },
   "source": [
    "### Use slices and indexing to inspect strings.\n",
    "* A Python string is basically an **ordered collection** of zero or more characters.\n",
    "* Anything between quotation marks is a string.\n",
    "  * An empty pair of quotation marks (`''`) is also a string.\n",
    "* Each **position** in the string (first, second, etc.) is given a number. This number is called an **index**.\n",
    "* Indices are numbered from 0.\n",
    "* Use the index in square brackets to get the character at that position.\n",
    "\n",
    "Here's how we see the first character in the file."
   ]
  },
  {
   "cell_type": "code",
   "execution_count": null,
   "metadata": {
    "cell_id": "00039-6f064542-e982-412c-99ac-67ec95683215",
    "output_cleared": false,
    "tags": []
   },
   "outputs": [],
   "source": [
    "print(gap_data[0])"
   ]
  },
  {
   "cell_type": "markdown",
   "metadata": {
    "cell_id": "00040-0587c2ef-c95b-46b4-b933-eace1b0398e1",
    "output_cleared": false,
    "tags": []
   },
   "source": [
    "* A **slice** is a part of a string (or, more generally, any list-like thing).\n",
    "* We take a slice by using `[start:stop]`, where start is replaced with the index of the first element we want and stop is replaced with the index of the element **just after** the last element we want.\n",
    "* We can omit either the `start` or `stop` index -- keeping the colon -- and Python will default to the start or end of the string itself, respectively.\n",
    "* Taking a slice does not change the contents of the original string. Instead, the slice is a copy of part of the original string.\n",
    "\n",
    "Returning to our country variable for a moment, here's what it looks like to take a slice starting with the character with index 2 and slicing up to but not including position 4. Our country variable is `Angola` so we get `go`."
   ]
  },
  {
   "cell_type": "code",
   "execution_count": null,
   "metadata": {
    "cell_id": "00043-f6abe168-6dd4-4256-bb33-66010864c3c2",
    "output_cleared": false,
    "tags": []
   },
   "outputs": [],
   "source": [
    "print(country[2:4])"
   ]
  },
  {
   "cell_type": "markdown",
   "metadata": {
    "cell_id": "00044-ae50633b-f04b-498a-a9fb-c7ba7db1682e",
    "tags": []
   },
   "source": [
    "Here's how to look at the first 100 characters of the file. We're starting at position 0, so can leave that out before the colon. "
   ]
  },
  {
   "cell_type": "code",
   "execution_count": null,
   "metadata": {
    "cell_id": "00041-b89b7552-f0d0-46db-8113-4e5de3ecafed",
    "output_cleared": false,
    "tags": []
   },
   "outputs": [],
   "source": [
    "print(gap_data[:100])"
   ]
  },
  {
   "cell_type": "markdown",
   "metadata": {
    "cell_id": "00042-516db896-e0e4-4e41-9802-a0f6cb514f3e",
    "output_cleared": false,
    "tags": []
   },
   "source": [
    "### Split a string to create a Python list.\n",
    "\n",
    "As a single string, our data isn't very useful. For one thing, we have no good way of knowing where the individual data elements begin and end in order to access them by position, since even the numbers are just collections of characters.\n",
    "(Remember: `6432.23` is not the same as `'6432.23'`, because one is a `float` and the other a `str`.)\n",
    "\n",
    "* Python strings have some built-in functions. These built-in functions for particular data types are usually called methods. (This means that from every value of type `str`, and every variable assigned to such a value, you can access the function using the dot-notation shown below.)\n",
    "* The `split` function will divide a string into multiple strings. \n",
    "* `split` accepts as an argument an additional string of one or more characters that represents a separator: at every occurrence of the separator, a new substring will be created. \n",
    "* `split` is a function that returns a new value. What it returns is a Python `list`.\n",
    "* In this case, we use the special **line-break** character, `\\n`, to split our dataset into rows. "
   ]
  },
  {
   "cell_type": "code",
   "execution_count": null,
   "metadata": {
    "cell_id": "00043-c9f155cf-df47-4861-a8dd-aa7dd9429a1f",
    "output_cleared": false,
    "tags": []
   },
   "outputs": [],
   "source": [
    "lines = gap_data.split('\\n')"
   ]
  },
  {
   "cell_type": "markdown",
   "metadata": {
    "cell_id": "00044-2bcce2eb-a4c8-451e-a6a0-032af30244d3",
    "output_cleared": false,
    "tags": []
   },
   "source": [
    "### Indexing and slicing works with lists, too.\n",
    "* Because a Python `list` is an ordered collection, we can access its values by position.\n",
    "* We can also create new lists by slicing the original into smaller parts.\n",
    "\n",
    "First, let's see how long our `lines` list is. Earlier, we found the length of a string using a Python built-in function, `len()`. Try using that method on the `lines` list. "
   ]
  },
  {
   "cell_type": "code",
   "execution_count": null,
   "metadata": {
    "cell_id": "00053-6d9d16da-71d1-422b-a72a-daa18634c3ad",
    "output_cleared": false,
    "tags": []
   },
   "outputs": [],
   "source": [
    "len(lines)"
   ]
  },
  {
   "cell_type": "code",
   "execution_count": null,
   "metadata": {
    "cell_id": "00045-ebe8fa21-a877-48f4-95fe-46f873f35c6a",
    "output_cleared": false,
    "tags": []
   },
   "outputs": [],
   "source": [
    "print('Header row:', lines[0])\n",
    "print('Next three rows:', lines[1:4])"
   ]
  },
  {
   "cell_type": "markdown",
   "metadata": {
    "cell_id": "00046-312c69bb-63e7-4bec-81c2-9fcfe8626db1",
    "output_cleared": false,
    "tags": []
   },
   "source": [
    "### Understanding lists\n",
    "* Note that `lines` refers to a value of type `list`, but `lines[0]` refers to a value of type `str`, because our list is actually a list of strings.\n",
    "* Lists, like other Python collection types, can themselves contain values of diverse types.\n",
    "* It's common to work with such **nested** structures in Python. \n",
    "* Indexing a string produces another string, but indexing a list might produce a value of any type (depending on the elements of the list.)"
   ]
  },
  {
   "cell_type": "markdown",
   "metadata": {
    "cell_id": "00047-8ddb8887-368f-4b5e-976d-3f92f6f332f6",
    "output_cleared": false,
    "tags": []
   },
   "source": [
    "### Exercise\n",
    "1. The first row of our dataset is a comma-separated string of column headers. Split this string on the commas to create a list of headers and assign it to a variable.\n",
    "2. Print just the column headers in the header row that contain the column names for GDP per capita (the ones starting with gdpPercap)."
   ]
  },
  {
   "cell_type": "code",
   "execution_count": null,
   "metadata": {
    "cell_id": "00048-3c3438f8-6f0a-4d9e-b1f5-7f5180856c03",
    "output_cleared": false,
    "tags": []
   },
   "outputs": [],
   "source": [
    "headers = lines[0].split(',')\n",
    "print(headers[2:12])"
   ]
  },
  {
   "cell_type": "markdown",
   "metadata": {
    "cell_id": "00049-c13d3ca6-77e4-405d-a9ab-20d007542300",
    "output_cleared": false,
    "tags": []
   },
   "source": [
    "### Use loops to work with lists.\n",
    "\n",
    "* Programming lets us automate repeated operations.\n",
    "* Python makes this straightforward by allowing us to loop over any collection type.\n",
    "* With a `for` loop, each element in the collection is assigned to the same variable in sequence.\n",
    "* Within the `for`-loop code block, we can use that variable in other Python expressions. \n",
    "* The code in the block will be executed for each element in the collection.\n",
    "* When the loop reaches the end of the collection, the code block is finished."
   ]
  },
  {
   "cell_type": "code",
   "execution_count": null,
   "metadata": {
    "cell_id": "00050-6f0d7b4d-6f51-4f06-8235-90bd639e1358",
    "output_cleared": false,
    "tags": []
   },
   "outputs": [],
   "source": [
    "for h in headers:\n",
    "    print(h)"
   ]
  },
  {
   "cell_type": "markdown",
   "metadata": {
    "cell_id": "00048-fb8f7c8d-af40-491a-a51a-c1aed1a334ed",
    "output_cleared": false,
    "tags": []
   },
   "source": [
    "The above loop simply prints each element in the first row on a new line. \n",
    "\n",
    "But we can use a `for` loop to create a new list out of an old one. \n",
    "\n",
    "The following code:\n",
    "\n",
    "1. Creates an empty list (the square brackets with nothing inside) and assigns it to a new variable (`gap_tbl`). **Remember, we can't use a variable in Python until we assign it.**\n",
    "2. Loops over each element of `lines`, which will be a comma-separated string.\n",
    "3. On each iteration, the next element in the list will be assigned to the `line` variable. (The name of the loop variable is arbitrary. We could have called it anything. Calling it `line` makes the code more legible, since it will store each value in the list `lines` in sequence.)\n",
    "3. Splits the string on the commas, creating a list, and assigns this list to a variable called `row`.\n",
    "4. Uses the built-in list function `append()` to add each row to `gap_tbl`.\n",
    "\n",
    "The result -- called `gap_tbl` -- is a list of lists."
   ]
  },
  {
   "cell_type": "code",
   "execution_count": null,
   "metadata": {
    "cell_id": "00052-00dbff1f-6d25-4979-9683-56cd973441dd",
    "output_cleared": false,
    "tags": []
   },
   "outputs": [],
   "source": [
    "gap_tbl = []\n",
    "for line in lines:\n",
    "    row = line.split(',')\n",
    "    gap_tbl.append(row)"
   ]
  },
  {
   "cell_type": "markdown",
   "metadata": {
    "cell_id": "00053-ac7308c7-fb02-4672-a88b-a733418fd6ac",
    "output_cleared": false,
    "tags": []
   },
   "source": [
    "Our `gap_tbl` variable now holds something that more closely resembles our original dataset, since each data point is its own element in a row, and each row is an element in the larger list (the table).\n",
    "\n",
    "Now we can access individual rows or even data elements by position. "
   ]
  },
  {
   "cell_type": "code",
   "execution_count": null,
   "metadata": {
    "cell_id": "00054-a222d93e-ee17-4da4-a67b-6e5d4255dd4e",
    "output_cleared": false,
    "tags": []
   },
   "outputs": [],
   "source": [
    "print('First row:', gap_tbl[0])\n",
    "print('Second row, third element:', gap_tbl[1][2])"
   ]
  },
  {
   "cell_type": "markdown",
   "metadata": {
    "cell_id": "00055-fa48fe54-1d7a-43ba-ab74-0751bbd33c49",
    "output_cleared": false,
    "tags": []
   },
   "source": [
    "To access a single element, we use two pairs of square brackets. \n",
    "* The first contains the index to the row.\n",
    "* The second contains the index to the element within that row."
   ]
  },
  {
   "cell_type": "markdown",
   "metadata": {
    "cell_id": "00056-cbbfb2a0-69bc-4570-9818-4a3b937b506b",
    "output_cleared": false,
    "tags": []
   },
   "source": [
    "### Exercise\n",
    "1. Create a new list of just the rows for the countries in Africa. (There are 52 countries in Africa in the file.)\n",
    "2. Using a `for` loop, create another list with just the GDP per capita values for African countries for the year 2007.\n",
    "\n",
    "**Hint**: Assigning a slice of a list to a variable creates a new list."
   ]
  },
  {
   "cell_type": "code",
   "execution_count": null,
   "metadata": {
    "cell_id": "00066-e14889fc-4fb1-441a-bdac-042c62c34ca5",
    "output_cleared": false,
    "tags": []
   },
   "outputs": [],
   "source": [
    "africa = gap_tbl[1:53]\n",
    "gdp_africa = []\n",
    "\n",
    "for line in africa:\n",
    "    gdp_africa.append(line[13])\n",
    "\n",
    "print(gdp_africa)"
   ]
  },
  {
   "cell_type": "markdown",
   "metadata": {
    "cell_id": "00068-3c8c8270-402c-4fed-84c5-750749a5a134",
    "tags": []
   },
   "source": [
    "## Switch instructors here"
   ]
  },
  {
   "cell_type": "markdown",
   "metadata": {
    "cell_id": "00056-581f84fb-5be0-476f-a59a-b8be98c758fa",
    "output_cleared": false,
    "tags": []
   },
   "source": [
    "## Lists vs. dictionaries\n",
    "\n",
    "Being able to isolate data points by positional indexing is a big improvement. \n",
    "\n",
    "But it would even better if we had a way to identify data points by column name. That's typically how we would work with such a dataset. For instance, we'll want to know about _the percentage change in GDP per capita between 1952 and 2007_, not the _percentage change between columns 3 and columns 12_.\n",
    "\n",
    "Python gives us another data structure we can use for this kind of case. It's called a **dictionary**."
   ]
  },
  {
   "cell_type": "code",
   "execution_count": null,
   "metadata": {
    "cell_id": "00057-1f5a748f-da56-4480-a062-6fb08f36adf8",
    "output_cleared": false,
    "tags": []
   },
   "outputs": [],
   "source": [
    "countries = {'country': 'Angola',\n",
    "            'gdpPercap_1952': 3520.610273}"
   ]
  },
  {
   "cell_type": "markdown",
   "metadata": {
    "cell_id": "00058-f3325e9b-f5d2-4209-8031-d7fdb6b68d91",
    "output_cleared": false,
    "tags": []
   },
   "source": [
    "### Access dictionary values by their keys.\n",
    "* Python dictionaries are enclosed in **curly braces**, not square brackets.\n",
    "* List Python lists, they can contain values of diverse types.\n",
    "* Unlike lists, dictionaries are not accessed by position but by **key**. \n",
    "* Each key must be **unique** (just like the entries in an ordinary dictionary). Strings and numeric types are common choices for keys."
   ]
  },
  {
   "cell_type": "code",
   "execution_count": null,
   "metadata": {
    "cell_id": "00059-62f5fd90-94af-4dca-bc29-9e2868e6e3ca",
    "output_cleared": false,
    "tags": []
   },
   "outputs": [],
   "source": [
    "countries['country']"
   ]
  },
  {
   "cell_type": "markdown",
   "metadata": {
    "cell_id": "00060-018a4b51-6b75-49a7-89ca-6dde81d7a513",
    "output_cleared": false,
    "tags": []
   },
   "source": [
    "* Note that we can't go the other way, from value to key."
   ]
  },
  {
   "cell_type": "code",
   "execution_count": null,
   "metadata": {
    "cell_id": "00061-36f3e950-97b6-44a3-b59a-66f51ffe7111",
    "output_cleared": false,
    "tags": []
   },
   "outputs": [],
   "source": [
    "countries['Angola']"
   ]
  },
  {
   "cell_type": "markdown",
   "metadata": {
    "cell_id": "00062-dda467eb-d4e8-4c22-93ff-b6a44b747b64",
    "output_cleared": false,
    "tags": []
   },
   "source": [
    "* We can also use variables for the keys and/or the values of a dictionary. This is useful for creating dictionaries dynamically."
   ]
  },
  {
   "cell_type": "code",
   "execution_count": null,
   "metadata": {
    "cell_id": "00064-6b8b5bfb-a2ae-43f2-8a3a-c4fac6d7e982",
    "output_cleared": false,
    "tags": []
   },
   "outputs": [],
   "source": [
    "countries['gdpPercap_2007'] = gdpPercap_2007\n",
    "print(countries)"
   ]
  },
  {
   "cell_type": "markdown",
   "metadata": {
    "cell_id": "00065-c3a90866-ad2c-4d1d-b38a-8dd26aee1d97",
    "output_cleared": false,
    "tags": []
   },
   "source": [
    "### Converting lists to dictionaries\n",
    "\n",
    "We saw how to convert a value of type float to a value of type string. We also saw how to split a string to create a list.\n",
    "\n",
    "How can we convert a list to a dictionary?\n",
    "* A dictionary is a collection where every element is actually a pair: a key and a value. \n",
    "* A dictionary can't have keys that have no values (although the keys can have `None` as a value, which is the Python null value.)\n",
    "* A list is a collection of single elements. \n",
    "* We can stitch two lists togeher, however, to create a dictionary, provided they are the same length, \n",
    "* The resulting dictionary will have for its **keys** the elements from the first list, and for its **values** the elements from the second."
   ]
  },
  {
   "cell_type": "code",
   "execution_count": null,
   "metadata": {
    "cell_id": "00066-688f01bf-d73a-4ff0-ae1e-51d3f39dda66",
    "output_cleared": false,
    "tags": []
   },
   "outputs": [],
   "source": [
    "print(gap_tbl[0])\n",
    "print(gap_tbl[1])"
   ]
  },
  {
   "cell_type": "markdown",
   "metadata": {
    "cell_id": "00079-7d56a742-a649-4e16-872e-ae606414e3d7",
    "tags": []
   },
   "source": [
    "First, let's assign the first element in our outer list (the first row in the table) to a new variable. \n",
    "\n",
    "The first row is the header row, so we'll call this `headers`."
   ]
  },
  {
   "cell_type": "code",
   "execution_count": null,
   "metadata": {
    "cell_id": "00080-9092dacf-1941-4ded-844b-7d8cfd84ddbb",
    "execution_millis": 10,
    "execution_start": 1602088545851,
    "output_cleared": false,
    "source_hash": "f01f57fe",
    "tags": []
   },
   "outputs": [],
   "source": [
    "headers = gap_tbl[0]"
   ]
  },
  {
   "cell_type": "markdown",
   "metadata": {
    "cell_id": "00067-2afe3090-0894-47c3-a369-99cd10d18780",
    "output_cleared": false,
    "tags": []
   },
   "source": [
    "* The built-in function `zip()` takes one or more Python collection types and aligns them, like the two halves of a zipper.\n",
    "* If we loop over the `zip`ped collections, each time through the loop, we get a new pair of elements."
   ]
  },
  {
   "cell_type": "code",
   "execution_count": null,
   "metadata": {
    "cell_id": "00067-895a85cf-9781-4796-9c88-f8e5e9d8836d",
    "execution_millis": 64,
    "execution_start": 1602088553823,
    "output_cleared": false,
    "source_hash": "35564b7d",
    "tags": []
   },
   "outputs": [],
   "source": [
    "for element in zip(headers, gap_tbl[1]):\n",
    "    print(element)"
   ]
  },
  {
   "cell_type": "markdown",
   "metadata": {
    "cell_id": "00069-508d98f1-2c7c-4151-b2f3-604f20de6f87",
    "output_cleared": false,
    "tags": []
   },
   "source": [
    "* But instead of looping over them, we can take our `zip`ped lists and pass them to the built-in function `dict()`.\n",
    "* `dict()` takes a list of **pairs** and creates a dictionary.\n",
    "* The first element in each pair becomes a new key.\n",
    "* The second element becomes the value for that key.\n",
    "\n",
    "Here, we `zip` the header row up with the first row of data in our nested list (table)."
   ]
  },
  {
   "cell_type": "code",
   "execution_count": null,
   "metadata": {
    "cell_id": "00069-1040ef9a-d364-4092-8e17-d60126155f64",
    "execution_millis": 25,
    "execution_start": 1602088574951,
    "output_cleared": false,
    "source_hash": "6a7b8b8b",
    "tags": []
   },
   "outputs": [],
   "source": [
    "dict(zip(headers, gap_tbl[1]))"
   ]
  },
  {
   "cell_type": "markdown",
   "metadata": {
    "cell_id": "00067-e0d588bf-3f94-4961-b31d-f3e66cd609f0",
    "output_cleared": false,
    "tags": []
   },
   "source": [
    "### Exercise\n",
    "\n",
    "Play around with using `zip` and `dict` to create dictionaries out of two lists.\n",
    "\n",
    "For example, zip together a list of state abbreviations with the states' full names. Or zip together a list of months and a list of average temperatures. \n",
    "\n",
    "Try the `zip()` procedure on two strings -- can you tell what happened?"
   ]
  },
  {
   "cell_type": "markdown",
   "metadata": {
    "cell_id": "00072-af2286b8-a6fb-4031-97ff-93fcbeea269e",
    "output_cleared": false,
    "tags": []
   },
   "source": [
    "### Creating a list of records\n",
    "\n",
    "You can think of a dictionary as a record in a database. Provided each dictionary has the same set of keys, a list of dictionaries would then be like a database, where each row is another record.\n",
    "\n",
    "Using the tools we've encountered so far, we can create this structure out of our dataset. \n",
    "\n",
    "Once we've done that, we can begin to do some analysis!\n",
    "\n",
    "The following code\n",
    "\n",
    "1. Creates a new empty list (`gap_records`)\n",
    "2. Assigns the first row of `gap_tbl` to a variable (`headers`)\n",
    "3. Loops through the rest of our `gap_tbl` list to work with each row\n",
    "4. Use the technique above to create a dictionary mapping the column headers to the data in each row\n",
    "5. Uses `append` to add each dictionary to our new list."
   ]
  },
  {
   "cell_type": "code",
   "execution_count": null,
   "metadata": {
    "cell_id": "00073-1c96b62f-9a72-4422-acb1-3486a6a042cb",
    "output_cleared": false,
    "tags": []
   },
   "outputs": [],
   "source": [
    "gap_records = []\n",
    "headers = gap_tbl[0]\n",
    "for row in gap_tbl[1:]:\n",
    "    record = zip(headers, row)\n",
    "    record = dict(record)\n",
    "    gap_records.append(record)"
   ]
  },
  {
   "cell_type": "markdown",
   "metadata": {
    "cell_id": "00084-34786217-a69d-45ee-9459-15ee7fb6ec8a",
    "tags": []
   },
   "source": [
    "Before you look at what gap_records contains, think about what you expect to see. Then `print()` it. "
   ]
  },
  {
   "cell_type": "code",
   "execution_count": null,
   "metadata": {
    "cell_id": "00084-d052ef1a-cd19-481a-86e9-fc1d3f369c34",
    "output_cleared": false,
    "tags": []
   },
   "outputs": [],
   "source": [
    "print(gap_records)"
   ]
  },
  {
   "cell_type": "markdown",
   "metadata": {
    "cell_id": "00074-e8146791-694d-42cf-ad97-19394a1d169d",
    "tags": []
   },
   "source": [
    "## Loops & conditionals\n",
    "\n",
    "When working with loops, it's useful to be able to control the flow of the code in the loop. We don't always want to take the same action for every item in a collection.\n",
    "\n",
    "That's where `if` statements come in. \n",
    "\n",
    "The structure of an `if` statement is similar to a `for` statement:\n",
    "* First line opens with `if` and ends with a colon\n",
    "* Body containing one or more statements is indented (creating a code block)\n",
    "* The code block will be executed **only** if the expression in the `if` statement evaluates to `True`."
   ]
  },
  {
   "cell_type": "code",
   "execution_count": null,
   "metadata": {
    "cell_id": "00075-5d5ecaa4-3e36-4e5a-80ac-0bf3e296e195",
    "output_cleared": false,
    "tags": []
   },
   "outputs": [],
   "source": [
    "record = gap_records[0]\n",
    "if record['continent'] == 'Africa':\n",
    "    print(record['country'], \"is in Africa.\")"
   ]
  },
  {
   "cell_type": "markdown",
   "metadata": {
    "cell_id": "00076-fcd3822c-4b17-484c-86c0-bf7d14604d85",
    "tags": []
   },
   "source": [
    "The above code tests whether a single record from our list of records is for a country in the continent of Africa. If the country is in Africa, it prints the country's name.\n",
    "\n",
    "### Exercise\n",
    "\n",
    "1. Try re-running this code with different indices of `gap_records`. \n",
    "2. See if you can re-do the exercise above: Using a `for` loop, create another list with just the GDP per capita values for African countries for the year 2007. But this time, try using an `if` statement instead of a slice to isolate the African countries.\n"
   ]
  },
  {
   "cell_type": "code",
   "execution_count": null,
   "metadata": {
    "cell_id": "00074-ce5af620-66d2-427e-8daf-f5822160dee9",
    "output_cleared": false,
    "tags": []
   },
   "outputs": [],
   "source": [
    "african_gdp = []\n",
    "for record in gap_records:\n",
    "    if record['continent'] == 'Africa':\n",
    "        african_gdp.append(record['gdpPercap_2007'])"
   ]
  },
  {
   "cell_type": "markdown",
   "metadata": {
    "cell_id": "00078-18149def-1d9e-4865-819d-db2cea9b7bca",
    "tags": []
   },
   "source": [
    "### Use dictionaries with loops to store results of calculations.\n",
    "\n",
    "Let's calculate the percentage change between the 1957 population and the 2007 population for each country in our dataset.\n",
    "\n",
    "With our list of records (dictionaries), it will be straightforward to access those values by key (column name).\n",
    "\n",
    "We can also use a dictionary, rather than a list, to store the results. Then we'll be able to look up the result for any given country by name.\n",
    "\n",
    "Finally, we're using the `int` function to convert the population values to integers. (We wouldn't expect a population count to be a decimal number.) If we don't do that, Python will complain when we try to calculate the percentage change."
   ]
  },
  {
   "cell_type": "code",
   "execution_count": null,
   "metadata": {
    "cell_id": "00079-8dfd3c5c-7bb9-4860-ada5-b21fb2cdc998",
    "output_cleared": false,
    "tags": []
   },
   "outputs": [],
   "source": [
    "pop_growth = {}\n",
    "for record in gap_records:\n",
    "    country = record['country']\n",
    "    pop_1952 = int(record['pop_1952'])\n",
    "    pop_2007 = int(record['pop_2007'])\n",
    "    pop_diff = pop_2007 - pop_1952\n",
    "    pct_change = pop_diff / pop_1952 * 100\n",
    "    pop_growth[country] = pct_change"
   ]
  },
  {
   "cell_type": "markdown",
   "metadata": {
    "cell_id": "00081-cd7e8c8b-23d6-4ac4-9006-cfdb7fd2e66f",
    "tags": []
   },
   "source": [
    "### Use conditionals to check for error conditions.\n",
    "\n",
    "If you ran the above code, you should have gotten a `KeyError`. This tells us that Python couldn't find the requested key in the dictionary.\n",
    "\n",
    "The key is `country`. We know that each row in our dataset should have a `country` value. So what happened?\n",
    "\n",
    "In a case like this, we can start troubleshooting by just visually inspecting the dataset.\n",
    "\n",
    "In a Jupyter notebook, this will actually be easier to do if we do **not** use the `print` statement."
   ]
  },
  {
   "cell_type": "code",
   "execution_count": null,
   "metadata": {
    "cell_id": "00080-aa079efa-e064-42f9-89a7-bdeb6bfa5744",
    "output_cleared": false,
    "tags": []
   },
   "outputs": [],
   "source": [
    "gap_records"
   ]
  },
  {
   "cell_type": "markdown",
   "metadata": {
    "cell_id": "00083-a6a7892e-56a7-4ce7-b07d-862755d5afab",
    "tags": []
   },
   "source": [
    "Scrolling to the very end of the list, we can see that the very last record is non-standard. It has only a single key: `continent`. And the value of that key is the Python null string (a set of empty quotation marks).\n",
    "\n",
    "One approach would be to remove that element from our list. But what if there happen to be others like that?\n",
    "\n",
    "An alternative is to re-write our loop with a conditional, to test for the presence of such empty records. \n",
    "\n",
    "The null string, in a Boolean expression, evaluates to `False`. So the code block in the following `if` statement will not be executed:"
   ]
  },
  {
   "cell_type": "code",
   "execution_count": null,
   "metadata": {
    "cell_id": "00084-e7c3f86b-599a-4063-a8eb-bec40316cc80",
    "output_cleared": false,
    "tags": []
   },
   "outputs": [],
   "source": [
    "if '':\n",
    "    print('Not an empty string.')"
   ]
  },
  {
   "cell_type": "markdown",
   "metadata": {
    "cell_id": "00085-495a57f1-106e-4042-8db6-da69a4735544",
    "tags": []
   },
   "source": [
    "Using that technique, we can re-write our loop as follows, checking each time to make sure the `continent` key has a non-null value. (We presume that if the `continent` key isn't null, then the rest of the row is valid. That may or may not be an accurate assumption, but for this dataset, it happens to be.)"
   ]
  },
  {
   "cell_type": "code",
   "execution_count": null,
   "metadata": {
    "cell_id": "00085-12ef1688-d271-49e0-9deb-c5a6b5e94a76",
    "output_cleared": false,
    "tags": []
   },
   "outputs": [],
   "source": [
    "pop_growth = {}\n",
    "for record in gap_records:\n",
    "    if record['continent']:\n",
    "        country = record['country']\n",
    "        pop_1952 = int(record['pop_1952'])\n",
    "        pop_2007 = int(record['pop_2007'])\n",
    "        pop_diff = pop_2007 - pop_1952\n",
    "        pct_change = pop_diff / pop_1952 * 100\n",
    "        pop_growth[country] = pct_change"
   ]
  },
  {
   "cell_type": "markdown",
   "metadata": {
    "cell_id": "00087-49b5c1b6-d82d-43cd-ab8d-fabe71395a3d",
    "tags": []
   },
   "source": [
    "Now as long as we know the name of the country, we can find its percentage change in population between 1952 and 2007."
   ]
  },
  {
   "cell_type": "code",
   "execution_count": null,
   "metadata": {
    "cell_id": "00088-e9e6d96f-913d-4b74-a0b7-78964fe45830",
    "output_cleared": false,
    "tags": []
   },
   "outputs": [],
   "source": [
    "pop_growth['India']"
   ]
  },
  {
   "cell_type": "markdown",
   "metadata": {
    "cell_id": "00089-407a0d34-8143-4e92-9f51-9af9c8c0dd39",
    "tags": []
   },
   "source": [
    "### Branching with conditionals\n",
    "\n",
    "What if we want our loop not just to ignore a certain kind of element in a collection, but to do something different with it?\n",
    "\n",
    "Python provides two other conditional statements that can accompany an `if` statement to create multi-pronged logic. Both are optional. The following code evaluates whether a number is greater than, less than, or equal to 10."
   ]
  },
  {
   "cell_type": "code",
   "execution_count": null,
   "metadata": {
    "cell_id": "00090-67e8bc90-0c5b-4b6c-9032-53d3b44d58ae",
    "output_cleared": false,
    "tags": []
   },
   "outputs": [],
   "source": [
    "number = 0\n",
    "if number == 10:\n",
    "    print('Number is 10.')\n",
    "elif number < 10:\n",
    "    print('Number is less than 10.')\n",
    "else:\n",
    "    print('Number is greater than 10.')"
   ]
  },
  {
   "cell_type": "markdown",
   "metadata": {
    "cell_id": "00091-b8aa0ec8-8165-421b-a526-e7a9bf9ea3ba",
    "tags": []
   },
   "source": [
    "We can also use `if` and `elif` without `else`. If we remove `else` and its code block from the cell above, the code would do nothing if `number` was set to a value greater than 10.\n",
    "\n",
    "### Exercise\n",
    "\n",
    "Use `if` and `elif` to write a loop that filters our dataset for two groups:\n",
    "\n",
    "1. Countries with a GDP per capita in 2007 **less than 1000**. \n",
    "2. Countries with a GDP per capita in 2007 **greater than 40,000**.\n",
    "\n",
    "Your code should create two new lists, one containing the records for the low-GDP countries, and the other containing the records for the high-GDP countries.\n",
    "\n",
    "**Hints**\n",
    "* You'll need an `if` statement to test for the empty records (as above).\n",
    "* You can use the `float` function (works like `int`) to convert the GDP values to numerics before you test them. Comparing strings to numbers in Python is not permitted.\n",
    "* You can nest one set of conditional statements inside another. For instance, in the code below, the inner `if`-`else` statements are only executed if `x` is greater than 0.\n",
    "\n",
    "```\n",
    "if x > 0:\n",
    "    if x < .5:\n",
    "        print('50th percentile or lower.')\n",
    "    else:\n",
    "        print('Above the 50th percentile')\n",
    "```\n",
    "\n"
   ]
  },
  {
   "cell_type": "code",
   "execution_count": null,
   "metadata": {
    "cell_id": "00092-712341c2-067e-4e9d-ac7e-3fc03c5f6b71",
    "output_cleared": false,
    "tags": []
   },
   "outputs": [],
   "source": [
    "low_gdp = []\n",
    "high_gdp = []\n",
    "for record in gap_records:\n",
    "    if record['continent']:\n",
    "        gdp_2007 = float(record['gdpPercap_2007'])\n",
    "        if gdp_2007 < 1000:\n",
    "            low_gdp.append(record)\n",
    "        elif gdp_2007 > 40000:\n",
    "            high_gdp.append(record)"
   ]
  },
  {
   "cell_type": "markdown",
   "metadata": {
    "cell_id": "00104-7e72e744-246b-4baa-96d4-c48747fac248",
    "tags": []
   },
   "source": [
    "How many countries are in each list? "
   ]
  },
  {
   "cell_type": "code",
   "execution_count": null,
   "metadata": {
    "cell_id": "00104-1a2ae278-efc8-40c6-9ae4-9cfa1b6057ab",
    "output_cleared": false,
    "tags": []
   },
   "outputs": [],
   "source": [
    "len(low_gdp)"
   ]
  },
  {
   "cell_type": "code",
   "execution_count": null,
   "metadata": {
    "cell_id": "00105-2c664e0c-27bf-4e17-a565-9c766b5c4cc9",
    "output_cleared": false,
    "tags": []
   },
   "outputs": [],
   "source": [
    "len(high_gdp)"
   ]
  },
  {
   "cell_type": "code",
   "execution_count": null,
   "metadata": {
    "cell_id": "00106-cb9bdce0-f745-4375-b32d-599c98562309",
    "output_cleared": false,
    "tags": []
   },
   "outputs": [],
   "source": [
    "high_gdp"
   ]
  }
 ],
 "metadata": {
  "deepnote_execution_queue": [],
  "deepnote_notebook_id": "407fe7c0-0dd7-42be-9fbd-f3c751c50ec3",
  "kernelspec": {
   "display_name": "Python 3",
   "language": "python",
   "name": "python3"
  },
  "language_info": {
   "codemirror_mode": {
    "name": "ipython",
    "version": 3
   },
   "file_extension": ".py",
   "mimetype": "text/x-python",
   "name": "python",
   "nbconvert_exporter": "python",
   "pygments_lexer": "ipython3",
   "version": "3.8.5"
  }
 },
 "nbformat": 4,
 "nbformat_minor": 2
}
