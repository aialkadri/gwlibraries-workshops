{
  "nbformat": 4,
  "nbformat_minor": 0,
  "metadata": {
    "colab": {
      "name": "Python Workshop Part 1 - 11 Feb 2019.ipynb",
      "version": "0.3.2",
      "provenance": []
    },
    "kernelspec": {
      "display_name": "Python 3",
      "language": "python",
      "name": "python3"
    }
  },
  "cells": [
    {
      "metadata": {
        "id": "vN54XSLG0Sf_",
        "colab_type": "code",
        "colab": {}
      },
      "cell_type": "code",
      "source": [
        ""
      ],
      "execution_count": 0,
      "outputs": []
    },
    {
      "metadata": {
        "collapsed": true,
        "id": "9Ox_QPvOgSNQ",
        "colab_type": "text"
      },
      "cell_type": "markdown",
      "source": [
        "# Welcome to the **GW Libraries Programming with Python workshop.**\n",
        "\n",
        "### Quick tips\n",
        "\n",
        "When working in a Google Colaboratory notebook, **Shift-Return (Shift-Enter)** runs the cell you're on.  You can also run the cell using the \"Play\" button at the left edge of the cell.\n",
        "\n",
        "There are many other keyboard shortcuts.  You can access the list via the menu bar, at **Tools-->Command palette**.  In fact, you can even customize your keyboard shortcuts using **Tools-->Keyboard shortcuts**.\n",
        "\n",
        "You will probably get some errors in working through this notebook.  That's okay, you can just go back and change the cell and re-run it.\n",
        "\n",
        "The notebook auto-saves as you work, just like gmail!\n",
        "\n",
        "# Variables\n",
        "\n",
        "The first thing we're going to do is to learn about **variables**.  Variables are a way to store values that can be numbers, text, lists, boolean (true/false), etc.\n",
        "\n",
        "Much like in algebra, you set the value of a variable using what looks like an equation.\n",
        "\n",
        "To run this next cell, click on it and either press Shift-Enter, or press the Play (\"run cell\") button in the toolbar."
      ]
    },
    {
      "metadata": {
        "id": "DnS-VBtMgSNS",
        "colab_type": "code",
        "colab": {}
      },
      "cell_type": "code",
      "source": [
        "price = 7.99"
      ],
      "execution_count": 0,
      "outputs": []
    },
    {
      "metadata": {
        "id": "xpprFp0GhLNi",
        "colab_type": "code",
        "colab": {}
      },
      "cell_type": "code",
      "source": [
        ""
      ],
      "execution_count": 0,
      "outputs": []
    },
    {
      "metadata": {
        "id": "dzP5GZCYgSNW",
        "colab_type": "text"
      },
      "cell_type": "markdown",
      "source": [
        "So let's see the effect of that, by having Python **evaluate** our variable called `price`.  Again, press Shift-Enter, or press the Play (\"run cell\") button in the toolbar."
      ]
    },
    {
      "metadata": {
        "id": "NJCMdRKkgSNW",
        "colab_type": "code",
        "colab": {}
      },
      "cell_type": "code",
      "source": [
        "price"
      ],
      "execution_count": 0,
      "outputs": []
    },
    {
      "metadata": {
        "id": "WHuBqPyDgSNZ",
        "colab_type": "text"
      },
      "cell_type": "markdown",
      "source": [
        "Next, set the value of a new variable to your name.   A couple of things you'll need to know:\n",
        "* Variable names can't contain spaces or special characters (except `_` )\n",
        "* String values (like words or text) must be contained in a pair of either matching single quotes or matching double quotes.  For example:  `'This is some text'` or `\"This is some text\"`"
      ]
    },
    {
      "metadata": {
        "id": "gOKZNgt9gSNZ",
        "colab_type": "code",
        "colab": {}
      },
      "cell_type": "code",
      "source": [
        "name = 'This is some text'"
      ],
      "execution_count": 0,
      "outputs": []
    },
    {
      "metadata": {
        "id": "GP_nKEsigSNc",
        "colab_type": "code",
        "colab": {}
      },
      "cell_type": "code",
      "source": [
        ""
      ],
      "execution_count": 0,
      "outputs": []
    },
    {
      "metadata": {
        "id": "N9IpVSEsgSNe",
        "colab_type": "text"
      },
      "cell_type": "markdown",
      "source": [
        "If you have another language installed on your computer (Chinese, Arabic, etc.), try using foreign characters in your string.  Python 3 handles these well."
      ]
    },
    {
      "metadata": {
        "id": "af_kLir1gSNg",
        "colab_type": "code",
        "colab": {}
      },
      "cell_type": "code",
      "source": [
        "someText = 'سلام'"
      ],
      "execution_count": 0,
      "outputs": []
    },
    {
      "metadata": {
        "id": "8iC5o0gdgSNj",
        "colab_type": "text"
      },
      "cell_type": "markdown",
      "source": [
        "What if we wanted to do some simple math using these variables?\n",
        "\n",
        "* Create a new variable called `quantity` and set it to a number.\n",
        "* Create another new variable called `extended_price` and set it to the product of price \\* quantity (use `*` for multiplying)\n"
      ]
    },
    {
      "metadata": {
        "id": "unlg8xq_gSNk",
        "colab_type": "code",
        "colab": {}
      },
      "cell_type": "code",
      "source": [
        "quantity = 7"
      ],
      "execution_count": 0,
      "outputs": []
    },
    {
      "metadata": {
        "id": "TW7poKjEihgA",
        "colab_type": "code",
        "colab": {}
      },
      "cell_type": "code",
      "source": [
        "extended_price = price * quantity"
      ],
      "execution_count": 0,
      "outputs": []
    },
    {
      "metadata": {
        "id": "Eu9_mPcLimdT",
        "colab_type": "code",
        "colab": {}
      },
      "cell_type": "code",
      "source": [
        "extended_price"
      ],
      "execution_count": 0,
      "outputs": []
    },
    {
      "metadata": {
        "id": "N6dvaXpmgSNm",
        "colab_type": "text"
      },
      "cell_type": "markdown",
      "source": [
        "What happens if you try multiplying the name variable by 4?"
      ]
    },
    {
      "metadata": {
        "id": "eoNOzZsugSNn",
        "colab_type": "code",
        "colab": {}
      },
      "cell_type": "code",
      "source": [
        "name = 'Laura'"
      ],
      "execution_count": 0,
      "outputs": []
    },
    {
      "metadata": {
        "id": "fZGRMZHUi1Oh",
        "colab_type": "code",
        "colab": {}
      },
      "cell_type": "code",
      "source": [
        "name * 4"
      ],
      "execution_count": 0,
      "outputs": []
    },
    {
      "metadata": {
        "id": "crR1fbQXgSNq",
        "colab_type": "text"
      },
      "cell_type": "markdown",
      "source": [
        "How about if you *divide* it by 2?  Add a number to it?  Add another name to it (using `+`)?"
      ]
    },
    {
      "metadata": {
        "id": "TCM-p6eBgSNq",
        "colab_type": "code",
        "colab": {}
      },
      "cell_type": "code",
      "source": [
        "name + ' Wrubel'"
      ],
      "execution_count": 0,
      "outputs": []
    },
    {
      "metadata": {
        "id": "z4enZAyGjJ0p",
        "colab_type": "code",
        "colab": {}
      },
      "cell_type": "code",
      "source": [
        "name + '5'"
      ],
      "execution_count": 0,
      "outputs": []
    },
    {
      "metadata": {
        "id": "tmtl0XLjgSNt",
        "colab_type": "text"
      },
      "cell_type": "markdown",
      "source": [
        "What we're starting to see here is that Python has different **types** for numbers, text, and more.  You can find out the type of a variable by using:\n",
        "\n",
        "**`type(`**put your variable here**`)`** \n",
        "\n",
        "Try it."
      ]
    },
    {
      "metadata": {
        "id": "_JE5y_NvgSNw",
        "colab_type": "code",
        "colab": {}
      },
      "cell_type": "code",
      "source": [
        "type(name)"
      ],
      "execution_count": 0,
      "outputs": []
    },
    {
      "metadata": {
        "id": "jokE5UJUgSNz",
        "colab_type": "text"
      },
      "cell_type": "markdown",
      "source": [
        "Numbers, by the way, aren't just numbers.  Look at the type of the `price` variable versus another variable set to `7`.\n",
        "\n",
        "You can even re-assign an existing variable to new type.  Try it!"
      ]
    },
    {
      "metadata": {
        "id": "Su_IpdcygSN0",
        "colab_type": "code",
        "colab": {}
      },
      "cell_type": "code",
      "source": [
        ""
      ],
      "execution_count": 0,
      "outputs": []
    },
    {
      "metadata": {
        "id": "eV4DY6_xgSN2",
        "colab_type": "text"
      },
      "cell_type": "markdown",
      "source": [
        "There's also another important basic variable type, called a **boolean** variable.  Booleans can have a value of **`True`** or **`False`** (capitalized, in Python)\n",
        "\n",
        "Create a variable called `gwstudent` and assign its value to `True`:"
      ]
    },
    {
      "metadata": {
        "id": "juiU8lI9gSN3",
        "colab_type": "code",
        "colab": {}
      },
      "cell_type": "code",
      "source": [
        "awesomeWorkshop = True"
      ],
      "execution_count": 0,
      "outputs": []
    },
    {
      "metadata": {
        "id": "rc-p4HJPgSN4",
        "colab_type": "text"
      },
      "cell_type": "markdown",
      "source": [
        "Now evaluate the `type()` of gwstudent."
      ]
    },
    {
      "metadata": {
        "id": "S96vtwjVgSN5",
        "colab_type": "code",
        "colab": {}
      },
      "cell_type": "code",
      "source": [
        "type(awesomeWorkshop)"
      ],
      "execution_count": 0,
      "outputs": []
    },
    {
      "metadata": {
        "id": "8Tr5A46Jj8Nx",
        "colab_type": "code",
        "colab": {}
      },
      "cell_type": "code",
      "source": [
        "c = 3j+5"
      ],
      "execution_count": 0,
      "outputs": []
    },
    {
      "metadata": {
        "id": "2wTYk0dGkEgB",
        "colab_type": "code",
        "colab": {}
      },
      "cell_type": "code",
      "source": [
        "type(c)"
      ],
      "execution_count": 0,
      "outputs": []
    },
    {
      "metadata": {
        "id": "nhPc1LO-gSN7",
        "colab_type": "text"
      },
      "cell_type": "markdown",
      "source": [
        "#### Comparison operators:  <, >, ==, !=, <=, >=, and, or, not, ...\n",
        "\n",
        "Try out some comparisons, for example, whether:\n",
        "* `price` is greater than 5.99\n",
        "* `name` is equal to \"Dan\""
      ]
    },
    {
      "metadata": {
        "id": "rIaO0aUxgSN8",
        "colab_type": "code",
        "colab": {}
      },
      "cell_type": "code",
      "source": [
        "x = None"
      ],
      "execution_count": 0,
      "outputs": []
    },
    {
      "metadata": {
        "id": "I-vleATxk3bi",
        "colab_type": "code",
        "colab": {}
      },
      "cell_type": "code",
      "source": [
        "x"
      ],
      "execution_count": 0,
      "outputs": []
    },
    {
      "metadata": {
        "id": "t36T78JGgSN-",
        "colab_type": "text"
      },
      "cell_type": "markdown",
      "source": [
        "# Lists and Tuples"
      ]
    },
    {
      "metadata": {
        "id": "RhbsOSisgSN_",
        "colab_type": "text"
      },
      "cell_type": "markdown",
      "source": [
        "**Lists** in Python hold an _ordered_ sequence of elements, like this:\n",
        "\n",
        "`states = ['Virginia', 'Maryland', 'New Jersey', 'Utah', 'Rhode Island']`\n",
        "\n",
        "Try creating a list of several countries."
      ]
    },
    {
      "metadata": {
        "id": "aG_1XPqdgSOB",
        "colab_type": "code",
        "colab": {}
      },
      "cell_type": "code",
      "source": [
        "countries = ['Nepal', 'Cambodia', 'India', 'Chile', 'Canada', 'Mexico']"
      ],
      "execution_count": 0,
      "outputs": []
    },
    {
      "metadata": {
        "id": "EYZEHa9LlWMC",
        "colab_type": "code",
        "colab": {}
      },
      "cell_type": "code",
      "source": [
        "countries[0]"
      ],
      "execution_count": 0,
      "outputs": []
    },
    {
      "metadata": {
        "id": "XPy4Xs9sgSOD",
        "colab_type": "text"
      },
      "cell_type": "markdown",
      "source": [
        "We can access the n'th element of a list using the `mylist[n]` notation.\n",
        "\n",
        "Try retrieving the first country in the list you created above."
      ]
    },
    {
      "metadata": {
        "id": "ImFop3m3gSOF",
        "colab_type": "code",
        "colab": {}
      },
      "cell_type": "code",
      "source": [
        "countries[:-2]"
      ],
      "execution_count": 0,
      "outputs": []
    },
    {
      "metadata": {
        "id": "bLMwDgLqgSOI",
        "colab_type": "text"
      },
      "cell_type": "markdown",
      "source": [
        "Notice that in Python, the first element of the list is really the \"0th\" element (this is not the case when programming in R!)\n",
        "\n",
        "You can also access parts of the list using syntax like: [0:2], [:2], [3:], [-2],[-2:].  See if you can figure out what these do."
      ]
    },
    {
      "metadata": {
        "id": "ajdxcZfSgSOJ",
        "colab_type": "code",
        "colab": {}
      },
      "cell_type": "code",
      "source": [
        ""
      ],
      "execution_count": 0,
      "outputs": []
    },
    {
      "metadata": {
        "id": "ghydy2ANgSOK",
        "colab_type": "code",
        "colab": {}
      },
      "cell_type": "code",
      "source": [
        ""
      ],
      "execution_count": 0,
      "outputs": []
    },
    {
      "metadata": {
        "id": "klXwcl7IgSOM",
        "colab_type": "text"
      },
      "cell_type": "markdown",
      "source": [
        "Lists come with useful functions, like `len(mylist)` which returns the length of the list.  Try using `len()`"
      ]
    },
    {
      "metadata": {
        "id": "10NIxDNZgSON",
        "colab_type": "code",
        "colab": {}
      },
      "cell_type": "code",
      "source": [
        "len(countries)"
      ],
      "execution_count": 0,
      "outputs": []
    },
    {
      "metadata": {
        "id": "oPUsQg32gSOQ",
        "colab_type": "text"
      },
      "cell_type": "markdown",
      "source": [
        "What if you wanted to add an element to a list?  Or remove an element from a list?  Try using:\n",
        "\n",
        "`mylist.append(<the new element>)`\n",
        "for example, `states.append('New York')`"
      ]
    },
    {
      "metadata": {
        "id": "phEq4d5YgSOR",
        "colab_type": "code",
        "colab": {}
      },
      "cell_type": "code",
      "source": [
        "countries.append('Lebanon')"
      ],
      "execution_count": 0,
      "outputs": []
    },
    {
      "metadata": {
        "id": "mkINhviSms-Z",
        "colab_type": "code",
        "colab": {}
      },
      "cell_type": "code",
      "source": [
        "countries"
      ],
      "execution_count": 0,
      "outputs": []
    },
    {
      "metadata": {
        "id": "lU8ZOAplmwWK",
        "colab_type": "code",
        "colab": {}
      },
      "cell_type": "code",
      "source": [
        "countries.insert(2, 'Canada')"
      ],
      "execution_count": 0,
      "outputs": []
    },
    {
      "metadata": {
        "id": "-qoaonQNm-Ka",
        "colab_type": "code",
        "colab": {}
      },
      "cell_type": "code",
      "source": [
        "countries"
      ],
      "execution_count": 0,
      "outputs": []
    },
    {
      "metadata": {
        "collapsed": true,
        "id": "u2Cbbq_7gSOT",
        "colab_type": "text"
      },
      "cell_type": "markdown",
      "source": [
        "There are also list functions to do things like insert, remove, sort, reverse.  You can also use the `+` operator to add lists together. You can even multiply a list by a number, similar to how earlier we multiplied a string by a number!\n",
        "\n",
        "Try adding a list of two new states to your list."
      ]
    },
    {
      "metadata": {
        "id": "aBGz4Kepm9o7",
        "colab_type": "code",
        "colab": {}
      },
      "cell_type": "code",
      "source": [
        "countries + ['Greece', 'Ireland']"
      ],
      "execution_count": 0,
      "outputs": []
    },
    {
      "metadata": {
        "id": "LtHTZ8C0gSOU",
        "colab_type": "code",
        "colab": {}
      },
      "cell_type": "code",
      "source": [
        "countries = countries + ['Greece', 'Ireland']"
      ],
      "execution_count": 0,
      "outputs": []
    },
    {
      "metadata": {
        "id": "hCYt0gWlnvuy",
        "colab_type": "code",
        "colab": {}
      },
      "cell_type": "code",
      "source": [
        "countries"
      ],
      "execution_count": 0,
      "outputs": []
    },
    {
      "metadata": {
        "id": "uzCFjtIqn6pE",
        "colab_type": "code",
        "colab": {}
      },
      "cell_type": "code",
      "source": [
        "prices = [4, 5, 6.50, 9, 11]\n",
        "prices2 = [11, 10, 100]"
      ],
      "execution_count": 0,
      "outputs": []
    },
    {
      "metadata": {
        "id": "fuT2C3opoJSz",
        "colab_type": "code",
        "colab": {}
      },
      "cell_type": "code",
      "source": [
        "prices = prices + prices2"
      ],
      "execution_count": 0,
      "outputs": []
    },
    {
      "metadata": {
        "id": "x0W9cGQPoLPI",
        "colab_type": "code",
        "colab": {}
      },
      "cell_type": "code",
      "source": [
        "prices"
      ],
      "execution_count": 0,
      "outputs": []
    },
    {
      "metadata": {
        "id": "WK0l-G9_gSOV",
        "colab_type": "text"
      },
      "cell_type": "markdown",
      "source": [
        "So far, we've only created lists of strings (text).  Do you think Python will let you have a list with a mix of different types in it (numbers, strings, other lists, etc.)?  Try it."
      ]
    },
    {
      "metadata": {
        "id": "_JWCKsAloI0S",
        "colab_type": "code",
        "colab": {}
      },
      "cell_type": "code",
      "source": [
        "mixed = ['abc', 123, True, None, 5.5]"
      ],
      "execution_count": 0,
      "outputs": []
    },
    {
      "metadata": {
        "id": "8m9DZjxzgSOW",
        "colab_type": "code",
        "colab": {}
      },
      "cell_type": "code",
      "source": [
        "mixed.sort()"
      ],
      "execution_count": 0,
      "outputs": []
    },
    {
      "metadata": {
        "id": "cFj64JnggSOY",
        "colab_type": "text"
      },
      "cell_type": "markdown",
      "source": [
        "Strings (like your name variable) also have some list-like behaviors, because they're lists of individual charactres.  How might you get the the n'th character from a string?"
      ]
    },
    {
      "metadata": {
        "id": "QtZYKIpRgSOb",
        "colab_type": "code",
        "colab": {}
      },
      "cell_type": "code",
      "source": [
        "name[0]"
      ],
      "execution_count": 0,
      "outputs": []
    },
    {
      "metadata": {
        "id": "Jy4W3LQeo1Nr",
        "colab_type": "code",
        "colab": {}
      },
      "cell_type": "code",
      "source": [
        "someText[0]"
      ],
      "execution_count": 0,
      "outputs": []
    },
    {
      "metadata": {
        "id": "NadTSTFhgSOd",
        "colab_type": "text"
      },
      "cell_type": "markdown",
      "source": [
        "### Tuples\n",
        "\n",
        "Notice that we created a list using [] square brackets.  If we use () parentheses, we create what's called a *tuple*.  A tuple might be something like this:"
      ]
    },
    {
      "metadata": {
        "id": "-B0xvmKZgSOe",
        "colab_type": "code",
        "colab": {}
      },
      "cell_type": "code",
      "source": [
        "colors = ('blue', 'green', 'red')"
      ],
      "execution_count": 0,
      "outputs": []
    },
    {
      "metadata": {
        "id": "u5tuDTXOgSOf",
        "colab_type": "text"
      },
      "cell_type": "markdown",
      "source": [
        "Notice that tuples are like lists: you can access elements, etc.  But what if you try to append to a tuple?"
      ]
    },
    {
      "metadata": {
        "id": "ukBxas-8pAay",
        "colab_type": "code",
        "colab": {}
      },
      "cell_type": "code",
      "source": [
        "colors."
      ],
      "execution_count": 0,
      "outputs": []
    },
    {
      "metadata": {
        "id": "aM1jjJFEgSOh",
        "colab_type": "text"
      },
      "cell_type": "markdown",
      "source": [
        "### The \"in\" operator\n",
        "\n",
        "We can use `in` to see whether an element is found in a list.  Try running this:"
      ]
    },
    {
      "metadata": {
        "id": "0R3u1c88gSOh",
        "colab_type": "code",
        "colab": {}
      },
      "cell_type": "code",
      "source": [
        "'yellow' in colors"
      ],
      "execution_count": 0,
      "outputs": []
    },
    {
      "metadata": {
        "collapsed": true,
        "id": "UAMcam9WgSOk",
        "colab_type": "text"
      },
      "cell_type": "markdown",
      "source": [
        "# Dictionaries\n",
        "\n",
        "A **Dictionary** is a container that holds pairs of objects - keys and values.  Keys may be strings or numbers.  A value may be any type, whether an integer, string, boolean, list, etc.  It can even be another dictionary!\n",
        "\n",
        "Here's an example of a dictionary:"
      ]
    },
    {
      "metadata": {
        "id": "vI0skeUlgSOm",
        "colab_type": "code",
        "colab": {}
      },
      "cell_type": "code",
      "source": [
        "workshop = {'name': 'Programming With Python',\n",
        "            'duration': 2,\n",
        "            'instructors': ['Dan', 'Laura', 'Justin', 'Dominique', 'Kean'],\n",
        "            'awesome': True}"
      ],
      "execution_count": 0,
      "outputs": []
    },
    {
      "metadata": {
        "collapsed": true,
        "id": "_U4uVLgdgSOo",
        "colab_type": "text"
      },
      "cell_type": "markdown",
      "source": [
        "So dictionaries are very similar to lists, except that they're indexed with keys.\n",
        "\n",
        "Dictionaries are actually data structures that can represent objects in **JSON** (JavaScript Object Notation) format, which today is a very common way of representing data!\n",
        "\n",
        "How do you think you would access the value of `'instructors'` key from the `workshop` dictionary?"
      ]
    },
    {
      "metadata": {
        "id": "v8VgaY4ngSOp",
        "colab_type": "code",
        "colab": {}
      },
      "cell_type": "code",
      "source": [
        "workshop['instructors']"
      ],
      "execution_count": 0,
      "outputs": []
    },
    {
      "metadata": {
        "id": "qruMgVNigSOq",
        "colab_type": "text"
      },
      "cell_type": "markdown",
      "source": [
        "How do you think you would ***add*** an item to the dictionary?  Try adding a 'location' item.  How about replacing an item?"
      ]
    },
    {
      "metadata": {
        "id": "rM_oM4mDgSOr",
        "colab_type": "code",
        "colab": {}
      },
      "cell_type": "code",
      "source": [
        "workshop['location'] = 'Gelman Library'"
      ],
      "execution_count": 0,
      "outputs": []
    },
    {
      "metadata": {
        "id": "sEucJkokrBfz",
        "colab_type": "code",
        "colab": {}
      },
      "cell_type": "code",
      "source": [
        "workshop"
      ],
      "execution_count": 0,
      "outputs": []
    },
    {
      "metadata": {
        "id": "LMRsCKzJrDZk",
        "colab_type": "code",
        "colab": {}
      },
      "cell_type": "code",
      "source": [
        "workshop['instructors'] = workshop['instructors'] + ['Dolsy', 'Ann']"
      ],
      "execution_count": 0,
      "outputs": []
    },
    {
      "metadata": {
        "id": "J7ZXDJgwrvdM",
        "colab_type": "code",
        "colab": {}
      },
      "cell_type": "code",
      "source": [
        "workshop"
      ],
      "execution_count": 0,
      "outputs": []
    },
    {
      "metadata": {
        "collapsed": true,
        "id": "Gw-M5WWEgSOt",
        "colab_type": "text"
      },
      "cell_type": "markdown",
      "source": [
        "### Challenge\n",
        "\n",
        "How might you add two more names to the list of instructors?  (Challenge:  Try to do this in one line, *without* just overriding the list of instructors)"
      ]
    },
    {
      "metadata": {
        "id": "MrolitOwgSOu",
        "colab_type": "code",
        "colab": {}
      },
      "cell_type": "code",
      "source": [
        "z = 5\n",
        "a = 3\n",
        "b = 4"
      ],
      "execution_count": 0,
      "outputs": []
    },
    {
      "metadata": {
        "id": "goScoztHsnSg",
        "colab_type": "code",
        "colab": {}
      },
      "cell_type": "code",
      "source": [
        "b"
      ],
      "execution_count": 0,
      "outputs": []
    },
    {
      "metadata": {
        "id": "kXWGBaIlgSOv",
        "colab_type": "text"
      },
      "cell_type": "markdown",
      "source": [
        "We can also look up whether a certain key exists in a dictionary.  How might you evaluate whether or not `workshop` contains a `location` key?"
      ]
    },
    {
      "metadata": {
        "id": "KUH92skIgSOw",
        "colab_type": "code",
        "colab": {}
      },
      "cell_type": "code",
      "source": [
        "workshop."
      ],
      "execution_count": 0,
      "outputs": []
    },
    {
      "metadata": {
        "id": "hSJVkc-0gSOy",
        "colab_type": "text"
      },
      "cell_type": "markdown",
      "source": [
        "# Comments\n",
        "\n",
        "Comment lines start with `#`.  They don't execute any code, but it's a very good idea to comment your code so that the reader (which might be your future self) can understand anything that's not already obvious from your clear and well-written code."
      ]
    },
    {
      "metadata": {
        "id": "vb8mJgsWgSOz",
        "colab_type": "code",
        "colab": {}
      },
      "cell_type": "code",
      "source": [
        "# This is a comment and is here for the reader's benefit"
      ],
      "execution_count": 0,
      "outputs": []
    },
    {
      "metadata": {
        "id": "QxDWYr8rgSO0",
        "colab_type": "text"
      },
      "cell_type": "markdown",
      "source": [
        "# Iteration (looping)\n",
        "\n",
        "Iteration allows us to repeat over a section of code, and iterate through a list (or other \"iterable\") at the same time.  **`for`** and **`while`** create iterations, like this:\n",
        "\n",
        "```\n",
        "numbers = [4, 6, 0, 5.5, 3]\n",
        "for n in numbers:\n",
        "    print(\"The next number in the list, squared is \", n**2)\n",
        "    \n",
        "print(\"We're done iterating -- notice that this line isn't indented, so it's outside the loop\")\n",
        "```    \n",
        "\n",
        "and this brings up the topic of **indentation**!  The block (i.e., lines) of code that you're iterating over needs to be indented.  In Python, you should indent by 4 spaces.\n",
        "\n",
        "Try creating a list of exam scores that we'd like to grade on a curve.  Use `max()` to find out the highest score.  Then create an iteration that prints out the score as well as the score graded on a curve (by dividing by the highest score).\n"
      ]
    },
    {
      "metadata": {
        "id": "BvhwzCEZgSO2",
        "colab_type": "code",
        "colab": {}
      },
      "cell_type": "code",
      "source": [
        "scores = [70, 81, 92.5, 93, 60, 65]"
      ],
      "execution_count": 0,
      "outputs": []
    },
    {
      "metadata": {
        "id": "_7-z3jBngSO9",
        "colab_type": "code",
        "colab": {}
      },
      "cell_type": "code",
      "source": [
        "max(scores)"
      ],
      "execution_count": 0,
      "outputs": []
    },
    {
      "metadata": {
        "id": "teRJl1cquVH-",
        "colab_type": "code",
        "colab": {}
      },
      "cell_type": "code",
      "source": [
        "for s in scores:\n",
        "  print(\"The score of \", s, \" is \", 100*s/93, \"when graded on a curve\")\n",
        " \n",
        "print('Done')"
      ],
      "execution_count": 0,
      "outputs": []
    },
    {
      "metadata": {
        "id": "WafxdYOYgSO_",
        "colab_type": "text"
      },
      "cell_type": "markdown",
      "source": [
        "Iterating over dictionaries is slightly different:\n"
      ]
    },
    {
      "metadata": {
        "id": "R0wHwAWrgSO_",
        "colab_type": "code",
        "colab": {}
      },
      "cell_type": "code",
      "source": [
        "for key, value in workshop.items():\n",
        "    print (\"The key is \", key, \" and the value is \", value)"
      ],
      "execution_count": 0,
      "outputs": []
    },
    {
      "metadata": {
        "id": "R-OaShzGgSPC",
        "colab_type": "text"
      },
      "cell_type": "markdown",
      "source": [
        "Notice that dictionaries are unordered.  There's no guarantee about what order the iterator will yield the dictionary items to you in."
      ]
    },
    {
      "metadata": {
        "id": "EgviuRjggSPD",
        "colab_type": "text"
      },
      "cell_type": "markdown",
      "source": [
        "### Another way to iterate: `while`"
      ]
    },
    {
      "metadata": {
        "id": "2ciTxmD9gSPE",
        "colab_type": "text"
      },
      "cell_type": "markdown",
      "source": [
        "What if we don't have a list or other \"iterable\" for our for loop to iterate over? In that case, you can also loop using **`while`**."
      ]
    },
    {
      "metadata": {
        "id": "piVZgB5AgSPE",
        "colab_type": "text"
      },
      "cell_type": "markdown",
      "source": [
        "Let's keep adding random numbers (between 1 and 10) until the sum hits at least 50.  We can use Python's `random` library, which we first need to import:"
      ]
    },
    {
      "metadata": {
        "id": "9Qqr1KlTgSPE",
        "colab_type": "code",
        "colab": {}
      },
      "cell_type": "code",
      "source": [
        "import random"
      ],
      "execution_count": 0,
      "outputs": []
    },
    {
      "metadata": {
        "id": "37DgKYJkv0MP",
        "colab_type": "code",
        "colab": {}
      },
      "cell_type": "code",
      "source": [
        ""
      ],
      "execution_count": 0,
      "outputs": []
    },
    {
      "metadata": {
        "id": "8JsUGq3lgSPH",
        "colab_type": "code",
        "colab": {}
      },
      "cell_type": "code",
      "source": [
        "random.randint(1,10)"
      ],
      "execution_count": 0,
      "outputs": []
    },
    {
      "metadata": {
        "id": "sqFo38BUgSPL",
        "colab_type": "text"
      },
      "cell_type": "markdown",
      "source": [
        "Now for the `while` loop:"
      ]
    },
    {
      "metadata": {
        "id": "K-hlryZXwEL3",
        "colab_type": "code",
        "colab": {}
      },
      "cell_type": "code",
      "source": [
        "sum_so_far = 0\n",
        "while sum_so_far < 50:\n",
        "  sum_so_far = sum_so_far + random.randint(1,10)\n",
        "  print(\"So far, we are up to \", sum_so_far)"
      ],
      "execution_count": 0,
      "outputs": []
    },
    {
      "metadata": {
        "id": "3-IewUuHgSPL",
        "colab_type": "raw"
      },
      "cell_type": "markdown",
      "source": [
        "sum_so_far = 0 \n",
        "while sum_so_far < 50:\n",
        "    # What would you put in here?"
      ]
    },
    {
      "metadata": {
        "id": "xnaDwgU0wC44",
        "colab_type": "code",
        "colab": {}
      },
      "cell_type": "code",
      "source": [
        ""
      ],
      "execution_count": 0,
      "outputs": []
    },
    {
      "metadata": {
        "id": "Sp1201q0gSPM",
        "colab_type": "text"
      },
      "cell_type": "markdown",
      "source": [
        "### A random side note:\n",
        "    \n",
        "Try running the cell above with `random.randint(1,10)` again and again.  In a scientific setting, how might you ensure that your random sequence is \"repeatable\"?"
      ]
    },
    {
      "metadata": {
        "id": "ckegIagfgSPM",
        "colab_type": "text"
      },
      "cell_type": "markdown",
      "source": [
        "### Another use of while:"
      ]
    },
    {
      "metadata": {
        "id": "ltPPqbhxgSPN",
        "colab_type": "text"
      },
      "cell_type": "markdown",
      "source": [
        "One way you might see `while` used is with **`while True`** which just continues indefinitely:"
      ]
    },
    {
      "metadata": {
        "id": "ahdmgSWsgSPO",
        "colab_type": "code",
        "colab": {}
      },
      "cell_type": "code",
      "source": [
        "lucky_number = 7\n",
        "\n",
        "while True:\n",
        "    a_number = random.randint(1,10)\n",
        "    if a_number != lucky_number:\n",
        "        print(\"Darn! Didn't get a\", lucky_number)\n",
        "    else:\n",
        "        print(\"Got a lucky\", lucky_number,\"-- Taking my winnings and quitting the while loop.\")\n",
        "        break"
      ],
      "execution_count": 0,
      "outputs": []
    },
    {
      "metadata": {
        "id": "-lMViBaTgSPS",
        "colab_type": "text"
      },
      "cell_type": "markdown",
      "source": [
        "What does the `break` statement do?"
      ]
    },
    {
      "metadata": {
        "id": "wtwh97I6gSPT",
        "colab_type": "text"
      },
      "cell_type": "markdown",
      "source": [
        "## Conditionals\n",
        "\n",
        "Notice that in the example above, we snuck in the use of **`if`** and **`else`**.  Conditional expressions, using `if`, `else`, and `elif` (a contraction of \"else if\") allow us to execute blocks of code only if the condition is true.\n",
        "\n",
        "Create some code that iterates through a list of exam scores.  If a score is 70 or above, it should print out \"Pass!\"  If it's below 70, it should print out \"Fail!\""
      ]
    },
    {
      "metadata": {
        "id": "5sRbVpBvgSPT",
        "colab_type": "code",
        "colab": {}
      },
      "cell_type": "code",
      "source": [
        "scores = [61, 95, 70, 80, 85, 99]\n",
        "\n",
        "# for s in scores:\n",
        "    # put your code here\n",
        "for s in scores:\n",
        "  if s >= 90:\n",
        "    print(\"A score of \", s, \"is great\")\n",
        "  elif s >= 75:\n",
        "    print(\"A score of \", s, \"is okay\")\n",
        "  else:\n",
        "    print(\"A score of \", s, \"is not so great\")"
      ],
      "execution_count": 0,
      "outputs": []
    },
    {
      "metadata": {
        "id": "K80dRRGxgSPU",
        "colab_type": "text"
      },
      "cell_type": "markdown",
      "source": [
        "## Functions\n",
        "\n",
        "We've already seen some built-in functions, such as `print()`, `max()`, and `len()`.  But Python is meant to be used with more than just its built-in functions.\n",
        "\n",
        "Let's try to take the square root of a number in Python, using `sqrt()`:"
      ]
    },
    {
      "metadata": {
        "id": "ok_c9Cd8gSPW",
        "colab_type": "code",
        "colab": {}
      },
      "cell_type": "code",
      "source": [
        "sqrt(7)"
      ],
      "execution_count": 0,
      "outputs": []
    },
    {
      "metadata": {
        "id": "3RVi6x1xgSPY",
        "colab_type": "text"
      },
      "cell_type": "markdown",
      "source": [
        "What happened?  But I googled and saw that the square root function in Python is called `sqrt()`!\n",
        "\n",
        "### Importing libraries and using their functions\n",
        "\n",
        "Libraries are sets of Python functions that you can \"import\" to make available and use with *your* code.\n",
        "\n",
        "There are libraries that are part of Python, such as `math`, and libraries that other people write, such as `numpy`.\n",
        "\n",
        "We can import the math library into our code with:\n",
        "\n",
        "```import math```\n",
        "\n",
        "Each time we call a function that's in a library, we use the syntax ***LibraryName.FunctionName***. Adding the library name with a . before the function name tells Python where to find the function.\n",
        "\n",
        "Let's try taking that square root again:"
      ]
    },
    {
      "metadata": {
        "id": "-VIGnKFVgSPY",
        "colab_type": "code",
        "colab": {}
      },
      "cell_type": "code",
      "source": [
        "from math import *"
      ],
      "execution_count": 0,
      "outputs": []
    },
    {
      "metadata": {
        "id": "Tf-gcLUhgSPb",
        "colab_type": "code",
        "colab": {}
      },
      "cell_type": "code",
      "source": [
        "cos(0)"
      ],
      "execution_count": 0,
      "outputs": []
    },
    {
      "metadata": {
        "id": "THUmg8AHyfhs",
        "colab_type": "code",
        "colab": {}
      },
      "cell_type": "code",
      "source": [
        "sqrt(60)"
      ],
      "execution_count": 0,
      "outputs": []
    },
    {
      "metadata": {
        "id": "tFbhdVdsgSPd",
        "colab_type": "text"
      },
      "cell_type": "markdown",
      "source": [
        "And if we want, we can do something like this:\n",
        "\n",
        "```from math import sqrt```\n",
        "\n",
        "See if you can figure out what effect that had:"
      ]
    },
    {
      "metadata": {
        "id": "4U2kyIiagSPe",
        "colab_type": "code",
        "colab": {}
      },
      "cell_type": "code",
      "source": [
        ""
      ],
      "execution_count": 0,
      "outputs": []
    },
    {
      "metadata": {
        "id": "OS0b1SGxgSPg",
        "colab_type": "text"
      },
      "cell_type": "markdown",
      "source": [
        "When might you choose\n",
        "\n",
        "```import some_library```\n",
        "\n",
        "versus\n",
        "\n",
        "```from some_library import some_function```\n",
        "\n",
        "or even\n",
        "\n",
        "```from some_library import *``` ?"
      ]
    },
    {
      "metadata": {
        "id": "RhtAYqNUgSPh",
        "colab_type": "text"
      },
      "cell_type": "markdown",
      "source": [
        "### Writing our own functions\n",
        "\n",
        "What if we want to write our own functions?\n",
        "\n",
        "Defining part of a program in Python as a function is done using the `def` keyword. For example a function that takes a temperature in degrees Fahrenheit and returns the temperature in degrees Celsius:"
      ]
    },
    {
      "metadata": {
        "id": "Kcq-2m-2gSPh",
        "colab_type": "code",
        "colab": {}
      },
      "cell_type": "code",
      "source": [
        "def fahreinheit2celsius(temp_fahr):\n",
        "    temp_celsius = (temp_fahr-32)*5/9\n",
        "    return temp_celsius"
      ],
      "execution_count": 0,
      "outputs": []
    },
    {
      "metadata": {
        "id": "rQkblghWgSPk",
        "colab_type": "text"
      },
      "cell_type": "markdown",
      "source": [
        "Now we can use it:"
      ]
    },
    {
      "metadata": {
        "id": "InE4NncPgSPl",
        "colab_type": "code",
        "colab": {}
      },
      "cell_type": "code",
      "source": [
        "c = fahreinheit2celsius(100)\n",
        "print(c)"
      ],
      "execution_count": 0,
      "outputs": []
    },
    {
      "metadata": {
        "id": "yLodrJSXgSPo",
        "colab_type": "text"
      },
      "cell_type": "markdown",
      "source": [
        "### What's variable \"scope\"?"
      ]
    },
    {
      "metadata": {
        "id": "0X1MwOTagSPo",
        "colab_type": "text"
      },
      "cell_type": "markdown",
      "source": [
        "Let's say we had defined our function like this, using a variable called `ratio` instead of `5/9`:"
      ]
    },
    {
      "metadata": {
        "id": "0rO-A2xAgSPp",
        "colab_type": "code",
        "colab": {}
      },
      "cell_type": "code",
      "source": [
        "def fahreinheit2celsius(temp_fahr):\n",
        "    ratio = 5/9\n",
        "    temp_celsius = (temp_fahr-32)*ratio\n",
        "    return temp_celsius"
      ],
      "execution_count": 0,
      "outputs": []
    },
    {
      "metadata": {
        "id": "1hd8H9plgSPt",
        "colab_type": "text"
      },
      "cell_type": "markdown",
      "source": [
        "What happens if we then try to print `ratio`?"
      ]
    },
    {
      "metadata": {
        "id": "nj5p7PHTgSPu",
        "colab_type": "code",
        "colab": {}
      },
      "cell_type": "code",
      "source": [
        "print(ratio)"
      ],
      "execution_count": 0,
      "outputs": []
    },
    {
      "metadata": {
        "id": "aqobTVWggSPw",
        "colab_type": "text"
      },
      "cell_type": "markdown",
      "source": [
        "Why did we get this error?"
      ]
    },
    {
      "metadata": {
        "id": "og0D6G5igSPx",
        "colab_type": "text"
      },
      "cell_type": "markdown",
      "source": [
        "### A bit more about passing values to functions\n",
        "\n",
        "Remember earlier how we graded test scores on a curve?  Let's make a function to do that.  We'll pass it the individual test score, and the top score that will be our new \"100%\":"
      ]
    },
    {
      "metadata": {
        "id": "t39Jf0xRgSPy",
        "colab_type": "code",
        "colab": {}
      },
      "cell_type": "code",
      "source": [
        "def curve(score, top_score):\n",
        "    return 100*score/top_score"
      ],
      "execution_count": 0,
      "outputs": []
    },
    {
      "metadata": {
        "id": "BmJ8liTxgSPz",
        "colab_type": "code",
        "colab": {}
      },
      "cell_type": "code",
      "source": [
        "curve(89, 96)"
      ],
      "execution_count": 0,
      "outputs": []
    },
    {
      "metadata": {
        "id": "BXb-ATDO0s4n",
        "colab_type": "code",
        "colab": {}
      },
      "cell_type": "code",
      "source": [
        "curve(top_score=96, score=89)"
      ],
      "execution_count": 0,
      "outputs": []
    },
    {
      "metadata": {
        "id": "12I8iJOjgSP0",
        "colab_type": "text"
      },
      "cell_type": "markdown",
      "source": [
        "Now, if we specify which parameter is which, we can pass them in any order we like!"
      ]
    },
    {
      "metadata": {
        "id": "7zvBfo-KgSP0",
        "colab_type": "code",
        "colab": {}
      },
      "cell_type": "code",
      "source": [
        "curve(top_score=96, score=89)"
      ],
      "execution_count": 0,
      "outputs": []
    },
    {
      "metadata": {
        "id": "YOc2XK3OgSP2",
        "colab_type": "text"
      },
      "cell_type": "markdown",
      "source": [
        "Key points here:\n",
        "\n",
        "- definition starts with **`def`**\n",
        "- function body is indented\n",
        "- parameters are matched \"in order\", unless we specify them by name\n",
        "- **`return`** keyword precedes returned value\n"
      ]
    },
    {
      "metadata": {
        "id": "Hm6xoxuZgSP2",
        "colab_type": "text"
      },
      "cell_type": "markdown",
      "source": [
        "### Challenge\n",
        "\n",
        "Can you create a function called `pad` that would take a list and pads it with some new item if it's less than the length you want?  You would use it like this:\n",
        "\n",
        "```\n",
        "names = ['Ali', 'Bob', 'Carla']\n",
        "names = pad(names, 5, '*')\n",
        "```\n",
        "Then `names` would evaluate to:\n",
        "```\n",
        "['Ali', 'Bob', 'Carla', '*', '*']\n",
        "```"
      ]
    },
    {
      "metadata": {
        "id": "co2PDIvq2Ao9",
        "colab_type": "code",
        "colab": {}
      },
      "cell_type": "code",
      "source": [
        "mylist = ['abc', 'def']"
      ],
      "execution_count": 0,
      "outputs": []
    },
    {
      "metadata": {
        "id": "p3cu3bLV2GQh",
        "colab_type": "code",
        "colab": {}
      },
      "cell_type": "code",
      "source": [
        "mylist * 3"
      ],
      "execution_count": 0,
      "outputs": []
    },
    {
      "metadata": {
        "id": "z-MqSSbqgSP3",
        "colab_type": "code",
        "colab": {}
      },
      "cell_type": "code",
      "source": [
        "def pad(the_list, desired_length, pad_string):\n",
        "  padding = [pad_string] * (desired_length - len(the_list))\n",
        "  result = the_list + padding\n",
        "  return result"
      ],
      "execution_count": 0,
      "outputs": []
    },
    {
      "metadata": {
        "id": "sk92TTyu3BZh",
        "colab_type": "code",
        "colab": {}
      },
      "cell_type": "code",
      "source": [
        "my_list = ['abc', 'ghi']\n",
        "pad( my_list , 10, '$$$')"
      ],
      "execution_count": 0,
      "outputs": []
    },
    {
      "metadata": {
        "id": "nRBQHzOpgSP4",
        "colab_type": "code",
        "colab": {}
      },
      "cell_type": "code",
      "source": [
        "['***'] * 7"
      ],
      "execution_count": 0,
      "outputs": []
    },
    {
      "metadata": {
        "id": "MmvtvjgSgSP6",
        "colab_type": "code",
        "colab": {}
      },
      "cell_type": "code",
      "source": [
        ""
      ],
      "execution_count": 0,
      "outputs": []
    }
  ]
}