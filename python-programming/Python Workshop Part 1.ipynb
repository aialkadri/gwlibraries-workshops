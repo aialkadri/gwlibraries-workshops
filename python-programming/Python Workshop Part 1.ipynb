{
  "nbformat": 4,
  "nbformat_minor": 0,
  "metadata": {
    "colab": {
      "name": "Python Workshop Part 1.ipynb",
      "version": "0.3.2",
      "provenance": []
    },
    "kernelspec": {
      "display_name": "Python 3",
      "language": "python",
      "name": "python3"
    }
  },
  "cells": [
    {
      "metadata": {
        "collapsed": true,
        "id": "VCn4ocPf3-9g",
        "colab_type": "text"
      },
      "cell_type": "markdown",
      "source": [
        "# Welcome to the **GW Libraries Programming with Python workshop.**\n",
        "\n",
        "### Quick tips\n",
        "\n",
        "When working in a Google Colaboratory notebook, **Shift-Return (Shift-Enter)** runs the cell you're on.  You can also run the cell using the \"Play\" button at the left edge of the cell.\n",
        "\n",
        "There are many other keyboard shortcuts.  You can access the list via the menu bar, at **Tools-->Command palette**.  In fact, you can even customize your keyboard shortcuts using **Tools-->Keyboard shortcuts**.\n",
        "\n",
        "\n",
        "> (If you're working in an Anaconda/Jupyter notebook:\n",
        "- Shift-Return (Shift-Enter) runs the cell you're on.  You can also run the cell using the \"Play\" button in the toolbar.\n",
        "- Esc, then A inserts a cell above where you are.\n",
        "- Esc, then B inserts a cell below where you are.\n",
        "- More shortcuts under Help --> Keyboard Shortcuts)\n",
        "\n",
        "\n",
        "You will probably get some errors in working through this notebook.  That's okay, you can just go back and change the cell and re-run it.\n",
        "\n",
        "The notebook auto-saves as you work, just like gmail and most Google apps.\n",
        "\n",
        "\n",
        "\n",
        "\n",
        "\n",
        "# Variables\n",
        "\n",
        "The first thing we're going to do is to learn about **variables**.  Variables are a way to store values that can be numbers, text, lists, boolean (true/false), etc.\n",
        "\n",
        "Much like in algebra, you set the value of a variable using what looks like an equation.\n",
        "\n",
        "To run this next cell, click on it and either press Shift-Enter, or press the Play (\"run cell\") button in the toolbar."
      ]
    },
    {
      "metadata": {
        "id": "Hih5T6rp3-9h",
        "colab_type": "code",
        "colab": {}
      },
      "cell_type": "code",
      "source": [
        "price = 7.99"
      ],
      "execution_count": 0,
      "outputs": []
    },
    {
      "metadata": {
        "id": "RG28W_Rp3-9l",
        "colab_type": "text"
      },
      "cell_type": "markdown",
      "source": [
        "So let's see the effect of that, by having Python **evaluate** our variable called `price`.  Again, press Shift-Enter, or press the Play (\"run cell\") button in the toolbar."
      ]
    },
    {
      "metadata": {
        "id": "escqhnnT3-9m",
        "colab_type": "code",
        "colab": {}
      },
      "cell_type": "code",
      "source": [
        "price"
      ],
      "execution_count": 0,
      "outputs": []
    },
    {
      "metadata": {
        "id": "mIfP3fMy3-9p",
        "colab_type": "text"
      },
      "cell_type": "markdown",
      "source": [
        "Next, set the value of a new variable to your name.   A couple of things you'll need to know:\n",
        "* Variable names can't contain spaces or special characters (except `_` )\n",
        "* String values (like words or text) must be contained in a pair of either matching single quotes or matching double quotes.  For example:  `'This is some text'` or `\"This is some text\"`"
      ]
    },
    {
      "metadata": {
        "id": "BG1S-FXf3-9q",
        "colab_type": "code",
        "colab": {}
      },
      "cell_type": "code",
      "source": [
        ""
      ],
      "execution_count": 0,
      "outputs": []
    },
    {
      "metadata": {
        "id": "PSv1a1_v3-9t",
        "colab_type": "code",
        "colab": {}
      },
      "cell_type": "code",
      "source": [
        ""
      ],
      "execution_count": 0,
      "outputs": []
    },
    {
      "metadata": {
        "id": "lejV-TVE3-9w",
        "colab_type": "text"
      },
      "cell_type": "markdown",
      "source": [
        "If you have another language installed on your computer (Chinese, Arabic, etc.), try using foreign characters in your string.  Python 3 handles these well.\n",
        "\n",
        "An example might be: \n",
        "\n",
        "```\n",
        "someText = 'سلام'\n",
        "```\n",
        "\n"
      ]
    },
    {
      "metadata": {
        "id": "wm-rlMl03-9x",
        "colab_type": "code",
        "colab": {}
      },
      "cell_type": "code",
      "source": [
        ""
      ],
      "execution_count": 0,
      "outputs": []
    },
    {
      "metadata": {
        "id": "KE4xtx2P3-90",
        "colab_type": "text"
      },
      "cell_type": "markdown",
      "source": [
        "What if we wanted to do some simple math using these variables?\n",
        "\n",
        "* Create a new variable called `quantity` and set it to a number.\n",
        "* Create another new variable called `extended_price` and set it to the product of price \\* quantity (use `*` for multiplying)\n"
      ]
    },
    {
      "metadata": {
        "id": "02eJwKZG3-91",
        "colab_type": "code",
        "colab": {}
      },
      "cell_type": "code",
      "source": [
        ""
      ],
      "execution_count": 0,
      "outputs": []
    },
    {
      "metadata": {
        "id": "WGwHjIGQ3-94",
        "colab_type": "text"
      },
      "cell_type": "markdown",
      "source": [
        "What happens if you try multiplying the name variable by 4?"
      ]
    },
    {
      "metadata": {
        "id": "rxnXu5X83-95",
        "colab_type": "code",
        "colab": {}
      },
      "cell_type": "code",
      "source": [
        ""
      ],
      "execution_count": 0,
      "outputs": []
    },
    {
      "metadata": {
        "id": "C7AwupUb3-98",
        "colab_type": "text"
      },
      "cell_type": "markdown",
      "source": [
        "How about if you *divide* it by 2?  Add a number to it?  Add another name to it (using `+`)?"
      ]
    },
    {
      "metadata": {
        "id": "Tzo39Wuw3-9_",
        "colab_type": "code",
        "colab": {}
      },
      "cell_type": "code",
      "source": [
        ""
      ],
      "execution_count": 0,
      "outputs": []
    },
    {
      "metadata": {
        "id": "Xm-RztaA3--C",
        "colab_type": "text"
      },
      "cell_type": "markdown",
      "source": [
        "What we're starting to see here is that Python has different **types** for numbers, text, and more.  You can find out the type of a variable by using:\n",
        "\n",
        "**`type(`**put your variable here**`)`** \n",
        "\n",
        "Try it."
      ]
    },
    {
      "metadata": {
        "id": "sYpL6SxR3--D",
        "colab_type": "code",
        "colab": {}
      },
      "cell_type": "code",
      "source": [
        ""
      ],
      "execution_count": 0,
      "outputs": []
    },
    {
      "metadata": {
        "id": "arl0WWLQ3--F",
        "colab_type": "text"
      },
      "cell_type": "markdown",
      "source": [
        "Numbers, by the way, aren't just numbers.  Look at the type of the `price` variable versus another variable set to `7`.\n",
        "\n",
        "You can even re-assign an existing variable to new type.  Try it!"
      ]
    },
    {
      "metadata": {
        "id": "xWcahPaM3--I",
        "colab_type": "code",
        "colab": {}
      },
      "cell_type": "code",
      "source": [
        ""
      ],
      "execution_count": 0,
      "outputs": []
    },
    {
      "metadata": {
        "id": "w_GGZDIm3--L",
        "colab_type": "text"
      },
      "cell_type": "markdown",
      "source": [
        "There's also another important basic variable type, called a **boolean** variable.  Booleans can have a value of **`True`** or **`False`** (capitalized, in Python)\n",
        "\n",
        "Create a variable called `gwstudent` and assign its value to `True`:"
      ]
    },
    {
      "metadata": {
        "id": "fmoWI8iJ3--L",
        "colab_type": "code",
        "colab": {}
      },
      "cell_type": "code",
      "source": [
        ""
      ],
      "execution_count": 0,
      "outputs": []
    },
    {
      "metadata": {
        "id": "ZELnzZg83--N",
        "colab_type": "text"
      },
      "cell_type": "markdown",
      "source": [
        "Now evaluate the `type()` of gwstudent."
      ]
    },
    {
      "metadata": {
        "id": "OdJNjqCq3--O",
        "colab_type": "code",
        "colab": {}
      },
      "cell_type": "code",
      "source": [
        ""
      ],
      "execution_count": 0,
      "outputs": []
    },
    {
      "metadata": {
        "id": "jpIN2CC53--P",
        "colab_type": "text"
      },
      "cell_type": "markdown",
      "source": [
        "#### Comparison operators:  <, >, ==, !=, <=, >=, and, or, not, ...\n",
        "\n",
        "Try out some comparisons, for example, whether:\n",
        "* `price` is greater than 5.99\n",
        "* `name` is equal to \"Dan\""
      ]
    },
    {
      "metadata": {
        "id": "qUm9mdD03--R",
        "colab_type": "code",
        "colab": {}
      },
      "cell_type": "code",
      "source": [
        ""
      ],
      "execution_count": 0,
      "outputs": []
    },
    {
      "metadata": {
        "id": "oe-XFxuD3--T",
        "colab_type": "text"
      },
      "cell_type": "markdown",
      "source": [
        "# Lists and Tuples"
      ]
    },
    {
      "metadata": {
        "id": "Ay50GND03--U",
        "colab_type": "text"
      },
      "cell_type": "markdown",
      "source": [
        "**Lists** in Python hold an _ordered_ sequence of elements, like this:\n",
        "\n",
        "`states = ['Virginia', 'Maryland', 'New Jersey', 'Utah', 'Rhode Island']`\n",
        "\n",
        "Try creating a list of several countries."
      ]
    },
    {
      "metadata": {
        "id": "Tj5OYx1F3--V",
        "colab_type": "code",
        "colab": {}
      },
      "cell_type": "code",
      "source": [
        ""
      ],
      "execution_count": 0,
      "outputs": []
    },
    {
      "metadata": {
        "id": "-YGuf5dq3--Y",
        "colab_type": "text"
      },
      "cell_type": "markdown",
      "source": [
        "We can access the n'th element of a list using the `mylist[n]` notation.\n",
        "\n",
        "Try retrieving the first country in the list you created above."
      ]
    },
    {
      "metadata": {
        "id": "V6YHSvmA3--Z",
        "colab_type": "code",
        "colab": {}
      },
      "cell_type": "code",
      "source": [
        ""
      ],
      "execution_count": 0,
      "outputs": []
    },
    {
      "metadata": {
        "id": "bQM_djA33--c",
        "colab_type": "text"
      },
      "cell_type": "markdown",
      "source": [
        "Notice that in Python, the first element of the list is really the \"0th\" element (this is not the case when programming in R!)\n",
        "\n",
        "You can also access parts of the list using syntax like: [0:2], [:2], [3:], [-2],[-2:].  See if you can figure out what these do."
      ]
    },
    {
      "metadata": {
        "id": "P1w-jAVt3--c",
        "colab_type": "code",
        "colab": {}
      },
      "cell_type": "code",
      "source": [
        ""
      ],
      "execution_count": 0,
      "outputs": []
    },
    {
      "metadata": {
        "id": "iKON6p_I3--e",
        "colab_type": "code",
        "colab": {}
      },
      "cell_type": "code",
      "source": [
        ""
      ],
      "execution_count": 0,
      "outputs": []
    },
    {
      "metadata": {
        "id": "-uQfEZhi3--g",
        "colab_type": "text"
      },
      "cell_type": "markdown",
      "source": [
        "Lists come with useful functions, like `len(mylist)` which returns the length of the list.  Try using `len()`"
      ]
    },
    {
      "metadata": {
        "id": "1l8dgYI-3--g",
        "colab_type": "code",
        "colab": {}
      },
      "cell_type": "code",
      "source": [
        ""
      ],
      "execution_count": 0,
      "outputs": []
    },
    {
      "metadata": {
        "id": "53lEIr323--i",
        "colab_type": "text"
      },
      "cell_type": "markdown",
      "source": [
        "What if you wanted to add an element to a list?  Or remove an element from a list?  Try using:\n",
        "\n",
        "`mylist.append(<the new element>)`\n",
        "for example, `states.append('New York')`"
      ]
    },
    {
      "metadata": {
        "id": "1zzMmhQc3--k",
        "colab_type": "code",
        "colab": {}
      },
      "cell_type": "code",
      "source": [
        ""
      ],
      "execution_count": 0,
      "outputs": []
    },
    {
      "metadata": {
        "collapsed": true,
        "id": "hzf2U3nM3--l",
        "colab_type": "text"
      },
      "cell_type": "markdown",
      "source": [
        "There are also list functions to do things like insert, remove, sort, reverse.  You can also use the `+` operator to add lists together. You can even multiply a list by a number, similar to how earlier we multiplied a string by a number!\n",
        "\n",
        "Try adding a list of two new states to your list."
      ]
    },
    {
      "metadata": {
        "id": "7Vzuhhuv3--m",
        "colab_type": "code",
        "colab": {}
      },
      "cell_type": "code",
      "source": [
        ""
      ],
      "execution_count": 0,
      "outputs": []
    },
    {
      "metadata": {
        "id": "ObNsGOTA3--o",
        "colab_type": "text"
      },
      "cell_type": "markdown",
      "source": [
        "So far, we've only created lists of strings (text).  Do you think Python will let you have a list with a mix of different types in it (numbers, strings, other lists, etc.)?  Try it."
      ]
    },
    {
      "metadata": {
        "id": "eZdwGK7B3--o",
        "colab_type": "code",
        "colab": {}
      },
      "cell_type": "code",
      "source": [
        ""
      ],
      "execution_count": 0,
      "outputs": []
    },
    {
      "metadata": {
        "id": "wPIiOpKl3--q",
        "colab_type": "text"
      },
      "cell_type": "markdown",
      "source": [
        "Strings (like your name variable) also have some list-like behaviors, because they're lists of individual charactres.  How might you get the the n'th character from a string?"
      ]
    },
    {
      "metadata": {
        "id": "B2Nmb7CJ3--q",
        "colab_type": "code",
        "colab": {}
      },
      "cell_type": "code",
      "source": [
        ""
      ],
      "execution_count": 0,
      "outputs": []
    },
    {
      "metadata": {
        "id": "AtqTtIkR3--s",
        "colab_type": "text"
      },
      "cell_type": "markdown",
      "source": [
        "### Tuples\n",
        "\n",
        "Notice that we created a list using [] square brackets.  If we use () parentheses, we create what's called a *tuple*.  A tuple might be something like this:"
      ]
    },
    {
      "metadata": {
        "id": "BpsG6_Rb3--u",
        "colab_type": "code",
        "colab": {}
      },
      "cell_type": "code",
      "source": [
        "colors = ('blue', 'green', 'red')"
      ],
      "execution_count": 0,
      "outputs": []
    },
    {
      "metadata": {
        "id": "BFQtx0XY3--v",
        "colab_type": "text"
      },
      "cell_type": "markdown",
      "source": [
        "Notice that tuples are like lists: you can access elements, etc.  But what if you try to append to a tuple?"
      ]
    },
    {
      "metadata": {
        "id": "wWgGPRMr3--x",
        "colab_type": "text"
      },
      "cell_type": "markdown",
      "source": [
        "### The \"in\" operator\n",
        "\n",
        "We can use `in` to see whether an element is found in a list.  Try running this:"
      ]
    },
    {
      "metadata": {
        "id": "KQ3CpNco3--y",
        "colab_type": "code",
        "colab": {}
      },
      "cell_type": "code",
      "source": [
        "'yellow' in colors"
      ],
      "execution_count": 0,
      "outputs": []
    },
    {
      "metadata": {
        "collapsed": true,
        "id": "yK9qVYSV3--0",
        "colab_type": "text"
      },
      "cell_type": "markdown",
      "source": [
        "# Dictionaries\n",
        "\n",
        "A **Dictionary** is a container that holds pairs of objects - keys and values.  Keys may be strings or numbers.  A value may be any type, whether an integer, string, boolean, list, etc.  It can even be another dictionary!\n",
        "\n",
        "Here's an example of a dictionary:"
      ]
    },
    {
      "metadata": {
        "id": "PYOxILdR3--0",
        "colab_type": "code",
        "colab": {}
      },
      "cell_type": "code",
      "source": [
        "workshop = {'name': 'Programming With Python',\n",
        "            'duration': 2,\n",
        "            'instructors': ['Dan', 'Laura', 'Dolsy', 'Sahiti'],\n",
        "            'awesome': True}"
      ],
      "execution_count": 0,
      "outputs": []
    },
    {
      "metadata": {
        "collapsed": true,
        "id": "gRKrDjY53--4",
        "colab_type": "text"
      },
      "cell_type": "markdown",
      "source": [
        "So dictionaries are very similar to lists, except that they're indexed with keys.\n",
        "\n",
        "Dictionaries are actually data structures that can represent objects in **JSON** (JavaScript Object Notation) format, which today is a very common way of representing data!\n",
        "\n",
        "How do you think you would access the value of `'instructors'` key from the `workshop` dictionary?"
      ]
    },
    {
      "metadata": {
        "id": "H3eEDCnw3--4",
        "colab_type": "code",
        "colab": {}
      },
      "cell_type": "code",
      "source": [
        ""
      ],
      "execution_count": 0,
      "outputs": []
    },
    {
      "metadata": {
        "id": "2VY6VvO13--6",
        "colab_type": "text"
      },
      "cell_type": "markdown",
      "source": [
        "How do you think you would ***add*** an item to the dictionary?  Try adding a 'location' item.  How about replacing an item?"
      ]
    },
    {
      "metadata": {
        "id": "19V7U78b3--7",
        "colab_type": "code",
        "colab": {}
      },
      "cell_type": "code",
      "source": [
        ""
      ],
      "execution_count": 0,
      "outputs": []
    },
    {
      "metadata": {
        "collapsed": true,
        "id": "cBRuUUgb3--9",
        "colab_type": "text"
      },
      "cell_type": "markdown",
      "source": [
        "### Challenge\n",
        "\n",
        "How might you add two more names to the list of instructors?  (Challenge:  Try to do this in one line, *without* just overriding the list of instructors)"
      ]
    },
    {
      "metadata": {
        "id": "svn_3DI83---",
        "colab_type": "code",
        "colab": {}
      },
      "cell_type": "code",
      "source": [
        ""
      ],
      "execution_count": 0,
      "outputs": []
    },
    {
      "metadata": {
        "id": "wzTveZhQ3-_C",
        "colab_type": "text"
      },
      "cell_type": "markdown",
      "source": [
        "We can also look up whether a certain key exists in a dictionary.  How might you evaluate whether or not `workshop` contains a `location` key?"
      ]
    },
    {
      "metadata": {
        "id": "KHGH6NWc3-_D",
        "colab_type": "code",
        "colab": {}
      },
      "cell_type": "code",
      "source": [
        ""
      ],
      "execution_count": 0,
      "outputs": []
    },
    {
      "metadata": {
        "id": "HLItTaYq3-_G",
        "colab_type": "text"
      },
      "cell_type": "markdown",
      "source": [
        "# Comments\n",
        "\n",
        "Comment lines start with `#`.  They don't execute any code, but it's a very good idea to comment your code so that the reader (which might be your future self) can understand anything that's not already obvious from your clear and well-written code."
      ]
    },
    {
      "metadata": {
        "id": "htTaGJwK3-_G",
        "colab_type": "code",
        "colab": {}
      },
      "cell_type": "code",
      "source": [
        "# This is a comment and is here for the reader's benefit"
      ],
      "execution_count": 0,
      "outputs": []
    },
    {
      "metadata": {
        "id": "gSIbXT1H3-_I",
        "colab_type": "text"
      },
      "cell_type": "markdown",
      "source": [
        "# Iteration (looping)\n",
        "\n",
        "Iteration allows us to repeat over a section of code, and iterate through a list (or other \"iterable\") at the same time.  **`for`** and **`while`** create iterations, like this:\n",
        "\n",
        "```\n",
        "numbers = [4, 6, 0, 5.5, 3]\n",
        "for n in numbers:\n",
        "    print(\"The next number in the list, squared is \", n**2)\n",
        "    \n",
        "print(\"We're done iterating -- notice that this line isn't indented, so it's outside the loop\")\n",
        "```    \n",
        "\n",
        "and this brings up the topic of **indentation**!  The block (i.e., lines) of code that you're iterating over needs to be indented.  In Python, you should indent by 4 spaces.\n",
        "\n",
        "Try creating a list of exam scores that we'd like to grade on a curve.  Use `max()` to find out the highest score.  Then create an iteration that prints out the score as well as the score graded on a curve (by dividing by the highest score).\n"
      ]
    },
    {
      "metadata": {
        "id": "cB9e2EI73-_J",
        "colab_type": "code",
        "colab": {}
      },
      "cell_type": "code",
      "source": [
        ""
      ],
      "execution_count": 0,
      "outputs": []
    },
    {
      "metadata": {
        "id": "4x_EHB0E3-_K",
        "colab_type": "code",
        "colab": {}
      },
      "cell_type": "code",
      "source": [
        ""
      ],
      "execution_count": 0,
      "outputs": []
    },
    {
      "metadata": {
        "id": "3Lgp854N3-_O",
        "colab_type": "code",
        "colab": {}
      },
      "cell_type": "code",
      "source": [
        ""
      ],
      "execution_count": 0,
      "outputs": []
    },
    {
      "metadata": {
        "id": "XWIo1pp63-_R",
        "colab_type": "text"
      },
      "cell_type": "markdown",
      "source": [
        "Iterating over dictionaries is slightly different:\n"
      ]
    },
    {
      "metadata": {
        "id": "ajcpjk-y3-_S",
        "colab_type": "code",
        "colab": {}
      },
      "cell_type": "code",
      "source": [
        "for key, value in workshop.items():\n",
        "    print (\"The key is \", key, \" and the value is \", value)"
      ],
      "execution_count": 0,
      "outputs": []
    },
    {
      "metadata": {
        "id": "KuMsoqE13-_V",
        "colab_type": "text"
      },
      "cell_type": "markdown",
      "source": [
        "Notice that dictionaries are unordered.  There's no guarantee about what order the iterator will yield the dictionary items to you in."
      ]
    },
    {
      "metadata": {
        "id": "1iLUd1sm3-_W",
        "colab_type": "text"
      },
      "cell_type": "markdown",
      "source": [
        "### Another way to iterate: `while`"
      ]
    },
    {
      "metadata": {
        "id": "rKM4VW1a3-_W",
        "colab_type": "text"
      },
      "cell_type": "markdown",
      "source": [
        "What if we don't have a list or other \"iterable\" for our for loop to iterate over? In that case, you can also loop using **`while`**."
      ]
    },
    {
      "metadata": {
        "id": "vP__9XLG3-_X",
        "colab_type": "text"
      },
      "cell_type": "markdown",
      "source": [
        "Let's keep adding random numbers (between 1 and 10) until the sum hits at least 50.  We can use Python's `random` library, which we first need to import:"
      ]
    },
    {
      "metadata": {
        "id": "rEL49SnT3-_Y",
        "colab_type": "code",
        "colab": {}
      },
      "cell_type": "code",
      "source": [
        "import random"
      ],
      "execution_count": 0,
      "outputs": []
    },
    {
      "metadata": {
        "id": "bzXjGNYy3-_e",
        "colab_type": "code",
        "outputId": "c3b8583c-313e-4861-d30d-b57e08ec8daf",
        "colab": {}
      },
      "cell_type": "code",
      "source": [
        "random.randint(1,10)"
      ],
      "execution_count": 0,
      "outputs": [
        {
          "output_type": "execute_result",
          "data": {
            "text/plain": [
              "4"
            ]
          },
          "metadata": {
            "tags": []
          },
          "execution_count": 18
        }
      ]
    },
    {
      "metadata": {
        "id": "ePNCscCD3-_j",
        "colab_type": "text"
      },
      "cell_type": "markdown",
      "source": [
        "Now for the `while` loop:"
      ]
    },
    {
      "metadata": {
        "id": "at-b9zWF3-_k",
        "colab_type": "raw"
      },
      "cell_type": "markdown",
      "source": [
        "sum_so_far = 0 \n",
        "while sum_so_far < 50:\n",
        "    # What would you put in here?"
      ]
    },
    {
      "metadata": {
        "id": "CjjDvjIM3-_l",
        "colab_type": "text"
      },
      "cell_type": "markdown",
      "source": [
        "### A random side note:\n",
        "    \n",
        "Try running the cell above with `random.randint(1,10)` again and again.  In a scientific setting, how might you ensure that your random sequence is \"repeatable\"?"
      ]
    },
    {
      "metadata": {
        "id": "vx4AjHrt3-_m",
        "colab_type": "text"
      },
      "cell_type": "markdown",
      "source": [
        "### Another use of while:"
      ]
    },
    {
      "metadata": {
        "id": "H3nPfMFJ3-_n",
        "colab_type": "text"
      },
      "cell_type": "markdown",
      "source": [
        "One way you might see `while` used is with **`while True`** which just continues indefinitely:"
      ]
    },
    {
      "metadata": {
        "id": "r3ZC3GJP3-_o",
        "colab_type": "code",
        "outputId": "5809fa72-8453-4e5b-f990-149ebe4cad7a",
        "colab": {}
      },
      "cell_type": "code",
      "source": [
        "lucky_number = 7\n",
        "\n",
        "while True:\n",
        "    a_number = random.randint(1,10)\n",
        "    if a_number != lucky_number:\n",
        "        print(\"Darn! Didn't get a\", lucky_number)\n",
        "    else:\n",
        "        print(\"Got a lucky\", lucky_number,\"-- Taking my winnings and quitting the while loop.\")\n",
        "        break"
      ],
      "execution_count": 0,
      "outputs": [
        {
          "output_type": "stream",
          "text": [
            "Darn! Didn't get a 7\n",
            "Darn! Didn't get a 7\n",
            "Darn! Didn't get a 7\n",
            "Got a lucky 7 -- Taking my winnings and quitting the while loop.\n"
          ],
          "name": "stdout"
        }
      ]
    },
    {
      "metadata": {
        "id": "P-XGL6w03-_u",
        "colab_type": "text"
      },
      "cell_type": "markdown",
      "source": [
        "What does the `break` statement do?"
      ]
    },
    {
      "metadata": {
        "id": "68-RHxdY3-_w",
        "colab_type": "text"
      },
      "cell_type": "markdown",
      "source": [
        "## Conditionals\n",
        "\n",
        "Notice that in the example above, we snuck in the use of **`if`** and **`else`**.  Conditional expressions, using `if`, `else`, and `elif` (a contraction of \"else if\") allow us to execute blocks of code only if the condition is true.\n",
        "\n",
        "Create some code that iterates through a list of exam scores.  If a score is 70 or above, it should print out \"Pass!\"  If it's below 70, it should print out \"Fail!\""
      ]
    },
    {
      "metadata": {
        "id": "3SXK9Mlj3-_x",
        "colab_type": "code",
        "colab": {}
      },
      "cell_type": "code",
      "source": [
        "scores = [61, 95, 70, 80, 85, 99]\n",
        "\n",
        "# for s in scores:\n",
        "    # put your code here"
      ],
      "execution_count": 0,
      "outputs": []
    },
    {
      "metadata": {
        "id": "yWD7Vgst3-_z",
        "colab_type": "text"
      },
      "cell_type": "markdown",
      "source": [
        "## Functions\n",
        "\n",
        "We've already seen some built-in functions, such as `print()`, `max()`, and `len()`.  But Python is meant to be used with more than just its built-in functions.\n",
        "\n",
        "Let's try to take the square root of a number in Python, using `sqrt()`:"
      ]
    },
    {
      "metadata": {
        "id": "myIRws_q3-_2",
        "colab_type": "code",
        "colab": {}
      },
      "cell_type": "code",
      "source": [
        ""
      ],
      "execution_count": 0,
      "outputs": []
    },
    {
      "metadata": {
        "id": "frfNuKfY3-_6",
        "colab_type": "text"
      },
      "cell_type": "markdown",
      "source": [
        "What happened?  But I googled and saw that the square root function in Python is called `sqrt()`!\n",
        "\n",
        "### Importing libraries and using their functions\n",
        "\n",
        "Libraries are sets of Python functions that you can \"import\" to make available and use with *your* code.\n",
        "\n",
        "There are libraries that are part of Python, such as `math`, and libraries that other people write, such as `numpy`.\n",
        "\n",
        "We can import the math library into our code with:\n",
        "\n",
        "```import math```\n",
        "\n",
        "Each time we call a function that's in a library, we use the syntax ***LibraryName.FunctionName***. Adding the library name with a . before the function name tells Python where to find the function.\n",
        "\n",
        "Let's try taking that square root again:"
      ]
    },
    {
      "metadata": {
        "id": "RyEU0Ta83-_7",
        "colab_type": "code",
        "colab": {}
      },
      "cell_type": "code",
      "source": [
        ""
      ],
      "execution_count": 0,
      "outputs": []
    },
    {
      "metadata": {
        "id": "EMi_z9S23-_-",
        "colab_type": "code",
        "colab": {}
      },
      "cell_type": "code",
      "source": [
        ""
      ],
      "execution_count": 0,
      "outputs": []
    },
    {
      "metadata": {
        "id": "c0VFkQQK3_AC",
        "colab_type": "text"
      },
      "cell_type": "markdown",
      "source": [
        "And if we want, we can do something like this:\n",
        "\n",
        "```from math import sqrt```\n",
        "\n",
        "See if you can figure out what effect that had:"
      ]
    },
    {
      "metadata": {
        "id": "t64EaSE23_AD",
        "colab_type": "code",
        "colab": {}
      },
      "cell_type": "code",
      "source": [
        ""
      ],
      "execution_count": 0,
      "outputs": []
    },
    {
      "metadata": {
        "id": "Nl12CtpR3_AH",
        "colab_type": "text"
      },
      "cell_type": "markdown",
      "source": [
        "When might you choose\n",
        "\n",
        "```import some_library```\n",
        "\n",
        "versus\n",
        "\n",
        "```from some_library import some_function```\n",
        "\n",
        "or even\n",
        "\n",
        "```from some_library import *``` ?"
      ]
    },
    {
      "metadata": {
        "id": "CX966Y2x3_AH",
        "colab_type": "text"
      },
      "cell_type": "markdown",
      "source": [
        "### Writing our own functions\n",
        "\n",
        "What if we want to write our own functions?\n",
        "\n",
        "Defining part of a program in Python as a function is done using the `def` keyword. For example a function that takes a temperature in degrees Fahrenheit and returns the temperature in degrees Celsius:"
      ]
    },
    {
      "metadata": {
        "id": "V5_TRo5m3_AI",
        "colab_type": "code",
        "colab": {}
      },
      "cell_type": "code",
      "source": [
        "def fahreinheit2celsius(temp_fahr):\n",
        "    temp_celsius = (temp_fahr-32)*5/9\n",
        "    return temp_celsius"
      ],
      "execution_count": 0,
      "outputs": []
    },
    {
      "metadata": {
        "id": "7vkUoEVj3_AK",
        "colab_type": "text"
      },
      "cell_type": "markdown",
      "source": [
        "Now we can use it:"
      ]
    },
    {
      "metadata": {
        "id": "9jZ9c_DV3_AM",
        "colab_type": "code",
        "colab": {}
      },
      "cell_type": "code",
      "source": [
        "c = fahreinheit2celsius(100)\n",
        "print(c)"
      ],
      "execution_count": 0,
      "outputs": []
    },
    {
      "metadata": {
        "id": "4OepVVOi3_AQ",
        "colab_type": "text"
      },
      "cell_type": "markdown",
      "source": [
        "### What's variable \"scope\"?"
      ]
    },
    {
      "metadata": {
        "id": "XdushatC3_AS",
        "colab_type": "text"
      },
      "cell_type": "markdown",
      "source": [
        "Let's say we had defined our function like this, using a variable called `ratio` instead of `5/9`:"
      ]
    },
    {
      "metadata": {
        "id": "DsarEKmX3_AU",
        "colab_type": "code",
        "colab": {}
      },
      "cell_type": "code",
      "source": [
        "def fahreinheit2celsius(temp_fahr):\n",
        "    ratio = 5/9\n",
        "    temp_celsius = (temp_fahr-32)*ratio\n",
        "    return temp_celsius"
      ],
      "execution_count": 0,
      "outputs": []
    },
    {
      "metadata": {
        "id": "yW-oe1L53_AX",
        "colab_type": "text"
      },
      "cell_type": "markdown",
      "source": [
        "What happens if we then try to print `ratio`?"
      ]
    },
    {
      "metadata": {
        "id": "j-NKGKtU3_AX",
        "colab_type": "code",
        "colab": {}
      },
      "cell_type": "code",
      "source": [
        "print(ratio)"
      ],
      "execution_count": 0,
      "outputs": []
    },
    {
      "metadata": {
        "id": "WC9o75sM3_Aa",
        "colab_type": "text"
      },
      "cell_type": "markdown",
      "source": [
        "Why did we get this error?"
      ]
    },
    {
      "metadata": {
        "id": "g9N_jn5N3_Ab",
        "colab_type": "text"
      },
      "cell_type": "markdown",
      "source": [
        "### A bit more about passing values to functions\n",
        "\n",
        "Remember earlier how we graded test scores on a curve?  Let's make a function to do that.  We'll pass it the individual test score, and the top score that will be our new \"100%\":"
      ]
    },
    {
      "metadata": {
        "id": "-GcixbEK3_Ab",
        "colab_type": "code",
        "colab": {}
      },
      "cell_type": "code",
      "source": [
        "def curve(score, top_score):\n",
        "    return 100*score/top_score"
      ],
      "execution_count": 0,
      "outputs": []
    },
    {
      "metadata": {
        "id": "P0R-7Yj23_Ae",
        "colab_type": "code",
        "colab": {}
      },
      "cell_type": "code",
      "source": [
        "curve(89, 96)"
      ],
      "execution_count": 0,
      "outputs": []
    },
    {
      "metadata": {
        "id": "NUToYKAP3_Ah",
        "colab_type": "text"
      },
      "cell_type": "markdown",
      "source": [
        "Now, if we specify which parameter is which, we can pass them in any order we like!"
      ]
    },
    {
      "metadata": {
        "id": "d7FBU31y3_Ah",
        "colab_type": "code",
        "colab": {}
      },
      "cell_type": "code",
      "source": [
        "curve(top_score=96, score=89)"
      ],
      "execution_count": 0,
      "outputs": []
    },
    {
      "metadata": {
        "id": "nxyRDcl-3_Aj",
        "colab_type": "text"
      },
      "cell_type": "markdown",
      "source": [
        "Key points here:\n",
        "\n",
        "- definition starts with **`def`**\n",
        "- function body is indented\n",
        "- parameters are matched \"in order\", unless we specify them by name\n",
        "- **`return`** keyword precedes returned value\n"
      ]
    },
    {
      "metadata": {
        "id": "oJE-7t2j3_Aj",
        "colab_type": "text"
      },
      "cell_type": "markdown",
      "source": [
        "### Challenge\n",
        "\n",
        "Can you create a function called `pad` that would take a list and pads it with some new item if it's less than the length you want?  You would use it like this:\n",
        "\n",
        "```\n",
        "names = ['Ali', 'Bob', 'Carla']\n",
        "names = pad(names, 5, '*')\n",
        "```\n",
        "Then `names` would evaluate to:\n",
        "```\n",
        "['Ali', 'Bob', 'Carla', '*', '*']\n",
        "```"
      ]
    },
    {
      "metadata": {
        "id": "IjVCOVNs3_Ak",
        "colab_type": "code",
        "colab": {}
      },
      "cell_type": "code",
      "source": [
        ""
      ],
      "execution_count": 0,
      "outputs": []
    },
    {
      "metadata": {
        "id": "tgrmuzBt3_Am",
        "colab_type": "code",
        "colab": {}
      },
      "cell_type": "code",
      "source": [
        ""
      ],
      "execution_count": 0,
      "outputs": []
    },
    {
      "metadata": {
        "id": "Ekuc46643_Ao",
        "colab_type": "code",
        "colab": {}
      },
      "cell_type": "code",
      "source": [
        ""
      ],
      "execution_count": 0,
      "outputs": []
    }
  ]
}