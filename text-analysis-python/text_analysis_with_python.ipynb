{
  "nbformat": 4,
  "nbformat_minor": 0,
  "metadata": {
    "colab": {
      "name": "text-analysis-with-python.ipynb",
      "provenance": []
    },
    "kernelspec": {
      "name": "python3",
      "display_name": "Python 3"
    }
  },
  "cells": [
    {
      "cell_type": "code",
      "metadata": {
        "id": "t8UyyfH0RsgL",
        "colab_type": "code",
        "colab": {
          "base_uri": "https://localhost:8080/",
          "height": 208
        },
        "outputId": "79347d7a-377f-4d5c-e81f-adada6ecb972"
      },
      "source": [
        "!wget 'https://raw.githubusercontent.com/gwu-libraries/gwlibraries-workshops/master/text-analysis-python/sample-text.txt'"
      ],
      "execution_count": 8,
      "outputs": [
        {
          "output_type": "stream",
          "text": [
            "--2020-02-07 15:41:43--  https://raw.githubusercontent.com/gwu-libraries/gwlibraries-workshops/master/text-analysis-python/sample-text.txt\n",
            "Resolving raw.githubusercontent.com (raw.githubusercontent.com)... 151.101.0.133, 151.101.64.133, 151.101.128.133, ...\n",
            "Connecting to raw.githubusercontent.com (raw.githubusercontent.com)|151.101.0.133|:443... connected.\n",
            "HTTP request sent, awaiting response... 200 OK\n",
            "Length: 2078 (2.0K) [text/plain]\n",
            "Saving to: ‘sample-text.txt’\n",
            "\n",
            "\rsample-text.txt       0%[                    ]       0  --.-KB/s               \rsample-text.txt     100%[===================>]   2.03K  --.-KB/s    in 0s      \n",
            "\n",
            "2020-02-07 15:41:43 (37.8 MB/s) - ‘sample-text.txt’ saved [2078/2078]\n",
            "\n"
          ],
          "name": "stdout"
        }
      ]
    }
  ]
}