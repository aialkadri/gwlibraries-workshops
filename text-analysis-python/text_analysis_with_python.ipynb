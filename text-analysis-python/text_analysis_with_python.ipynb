{
  "nbformat": 4,
  "nbformat_minor": 0,
  "metadata": {
    "colab": {
      "name": "text-analysis-with-python.ipynb",
      "provenance": []
    },
    "kernelspec": {
      "name": "python3",
      "display_name": "Python 3"
    }
  },
  "cells": [
    {
      "cell_type": "code",
      "metadata": {
        "id": "t8UyyfH0RsgL",
        "colab_type": "code",
        "colab": {}
      },
      "source": [
        "!wget 'https://raw.githubusercontent.com/gwu-libraries/gwlibraries-workshops/master/text-analysis-python/sample-text.txt'"
      ],
      "execution_count": 0,
      "outputs": []
    }
  ]
}