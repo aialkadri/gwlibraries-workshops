{
  "nbformat": 4,
  "nbformat_minor": 0,
  "metadata": {
    "colab": {
      "name": "Python_Workshop_Part_2_Spring2020 NOT filled out.ipynb",
      "provenance": []
    },
    "kernelspec": {
      "display_name": "Python 3",
      "language": "python",
      "name": "python3"
    }
  },
  "cells": [
    {
      "cell_type": "markdown",
      "metadata": {
        "id": "kj7BstLdzwUi",
        "colab_type": "text"
      },
      "source": [
        "# Data with Pandas\n",
        "\n",
        "Since Pandas is a third-party Python library (not part of the standard Python libraries), we need to **import** it.\n",
        "\n",
        "\n",
        "### <font color='red'>***You must run this next cell in order for any of the pandas steps to work!***</font>"
      ]
    },
    {
      "cell_type": "code",
      "metadata": {
        "id": "wuh70S40QTME",
        "colab_type": "code",
        "colab": {}
      },
      "source": [
        "import pandas as pd"
      ],
      "execution_count": 0,
      "outputs": []
    },
    {
      "cell_type": "markdown",
      "metadata": {
        "id": "W4eiqUQUzwU1",
        "colab_type": "text"
      },
      "source": [
        "### The data we're using today\n",
        "\n",
        "For this lesson, we will be using the Portal Teaching data (https://figshare.com/articles/Portal_Project_Teaching_Database/1314459), a subset of the data from Ernst et al Long-term monitoring and experimental manipulation of a Chihuahuan Desert ecosystem near Portal, Arizona, USA (https://doi.org/10.1890/15-2115.1)"
      ]
    },
    {
      "cell_type": "markdown",
      "metadata": {
        "id": "Xd6sXr_7zwU3",
        "colab_type": "text"
      },
      "source": [
        "This section will use a data file called **surveys.csv** which we will download from the Internet shortly.\n",
        "\n",
        "(If needed, it can also be downloaded from here:  https://ndownloader.figshare.com/files/2292172)"
      ]
    },
    {
      "cell_type": "markdown",
      "metadata": {
        "id": "YiP2m9nGzwU7",
        "colab_type": "text"
      },
      "source": [
        "Each row in the data file records the species and weight of each animal caught in plots in the study area.\n",
        "\n",
        "The columns represent:\n",
        "\n",
        "| Column \t| Description |\n",
        "| --- | --- |\n",
        "| record_id |\tUnique id for the observation|\n",
        "| month |\tmonth of observation |\n",
        "|day \t|day of observation|\n",
        "|year |\tyear of observation|\n",
        "|plot_id \t|ID of a particular plot|\n",
        "|species_id |\t2-letter code|\n",
        "|sex |\tsex of animal (\"M\", \"F\")|\n",
        "|hindfoot_length |\tlength of the hindfoot in mm|\n",
        "|weight |\tweight of the animal in grams|"
      ]
    },
    {
      "cell_type": "markdown",
      "metadata": {
        "id": "rfB9kebuzwU9",
        "colab_type": "text"
      },
      "source": [
        "Each time we call a function that's in a library, we use the syntax *`LibraryName.FunctionName`*. Adding the library name with a `.` before the function name tells Python where to find the function. In the example above, we have imported Pandas as `pd`. This means we don't have to type out `pandas` each time we call a Pandas function."
      ]
    },
    {
      "cell_type": "markdown",
      "metadata": {
        "id": "MXXLQelPzwU_",
        "colab_type": "text"
      },
      "source": [
        "Let's use panda's built-in function that reads in a CSV file:"
      ]
    },
    {
      "cell_type": "code",
      "metadata": {
        "id": "V1jdZQQszwVD",
        "colab_type": "code",
        "colab": {}
      },
      "source": [
        "# To download the file from the internet:\n",
        "pd.read_csv(\"https://raw.githubusercontent.com/gwu-libraries/gwlibraries-workshops/master/python-programming/surveys.csv\")\n",
        "\n",
        "# Or if you're able to download the file locally:\n",
        "# pd.read_csv(\"surveys.csv\")\n",
        "\n",
        "# If you're inside Google Colaboratory, you can borrow code from\n",
        "# https://colab.research.google.com/notebooks/io.ipynb?authuser=1 to load files from your computer\n",
        "# (Just paste in the code under \"Uploading files from your local file system\")"
      ],
      "execution_count": 0,
      "outputs": []
    },
    {
      "cell_type": "markdown",
      "metadata": {
        "id": "GUdzgOJ3zwVK",
        "colab_type": "text"
      },
      "source": [
        "That read our CSV file, but we'd like to store it as an **object**.  So we'll create a variable for it, called `surveys_df`.  This is just like how we used a variable above to store an integer, or a string, or a list, or a dictionary.  We're just storing a Pandas DataFrame object instead.\n",
        "\n",
        "Make sure to run the cell below:"
      ]
    },
    {
      "cell_type": "code",
      "metadata": {
        "id": "yfJiuHc2zwVO",
        "colab_type": "code",
        "colab": {}
      },
      "source": [
        "# To download the file from the internet:\n",
        "surveys_df = pd.read_csv(\"https://raw.githubusercontent.com/gwu-libraries/gwlibraries-workshops/master/python-programming/surveys.csv\")\n",
        "\n",
        "# Or if you're able to download the file locally:\n",
        "#surveys_df = pd.read_csv(\"surveys.csv\")"
      ],
      "execution_count": 0,
      "outputs": []
    },
    {
      "cell_type": "markdown",
      "metadata": {
        "id": "mFRGYUXwzwVa",
        "colab_type": "text"
      },
      "source": [
        "Try evaluating `surveys_df`:"
      ]
    },
    {
      "cell_type": "code",
      "metadata": {
        "id": "hFnmctoezwVc",
        "colab_type": "code",
        "colab": {}
      },
      "source": [
        " "
      ],
      "execution_count": 0,
      "outputs": []
    },
    {
      "cell_type": "markdown",
      "metadata": {
        "id": "d6yTR9_xzwVn",
        "colab_type": "text"
      },
      "source": [
        "How would you now check what **class** (type) of object `surveys_df` is?"
      ]
    },
    {
      "cell_type": "code",
      "metadata": {
        "id": "aLTetS-fzwVr",
        "colab_type": "code",
        "colab": {}
      },
      "source": [
        ""
      ],
      "execution_count": 0,
      "outputs": []
    },
    {
      "cell_type": "markdown",
      "metadata": {
        "id": "i-E2AfE5zwVx",
        "colab_type": "text"
      },
      "source": [
        "`surveys_df` is a Pandas **DataFrame**.   A DataFrame is a 2-dimensional structure that can store data in rows and columns - similar to a spreadsheet or a table, but with some other nice features.  (Yes, it's very similar to a `data.frame` in R.)"
      ]
    },
    {
      "cell_type": "markdown",
      "metadata": {
        "id": "npQrHQF9zwV3",
        "colab_type": "text"
      },
      "source": [
        "Just like the Pandas *library* has functions, *objects* can have **functions** (which may take arguments) and **attributes** (which don't).\n",
        "\n",
        "A Pandas DataFrame object has an attribute called `dtypes` which lists out the type of each column:"
      ]
    },
    {
      "cell_type": "code",
      "metadata": {
        "id": "O7YXJIa0zwV5",
        "colab_type": "code",
        "colab": {}
      },
      "source": [
        ""
      ],
      "execution_count": 0,
      "outputs": []
    },
    {
      "cell_type": "markdown",
      "metadata": {
        "id": "Z-JIDpMPzwWG",
        "colab_type": "text"
      },
      "source": [
        "Try these to see what they do:\n",
        "\n",
        "    surveys_df.columns\n",
        "    surveys_df.head()\n",
        "Also, what does `surveys_df.head(15)` do, versus `surveys_df.head(4)`?\n",
        "\n",
        "    surveys_df.tail()\n",
        "    surveys_df.shape\n"
      ]
    },
    {
      "cell_type": "code",
      "metadata": {
        "id": "aaedS-hktGBR",
        "colab_type": "code",
        "colab": {}
      },
      "source": [
        ""
      ],
      "execution_count": 0,
      "outputs": []
    },
    {
      "cell_type": "markdown",
      "metadata": {
        "id": "71e6tscEtQGJ",
        "colab_type": "text"
      },
      "source": [
        "Take note of the output of the shape method. What format does it return the shape of the DataFrame in?"
      ]
    },
    {
      "cell_type": "code",
      "metadata": {
        "id": "_WnKLZZvzwWM",
        "colab_type": "code",
        "colab": {}
      },
      "source": [
        ""
      ],
      "execution_count": 0,
      "outputs": []
    },
    {
      "cell_type": "markdown",
      "metadata": {
        "id": "VQH3gjPezwWT",
        "colab_type": "text"
      },
      "source": [
        "What if we want to isolate just one column?  There are (at least) two ways we can do this:\n",
        "\n",
        "- We can use bracket notation, like this:\n",
        "\n",
        "    `mydataframe['myvariable']`\n",
        "\n",
        "- We can treat the variable like an attribute, like this:\n",
        "\n",
        "    `mydataframe.myvariable`\n",
        "\n",
        "\n",
        "Try it for `surveys_df` and the `species_id` variable:"
      ]
    },
    {
      "cell_type": "code",
      "metadata": {
        "id": "kfK1tkl_zwWW",
        "colab_type": "code",
        "colab": {}
      },
      "source": [
        ""
      ],
      "execution_count": 0,
      "outputs": []
    },
    {
      "cell_type": "markdown",
      "metadata": {
        "id": "sKBvXKA2zwWe",
        "colab_type": "text"
      },
      "source": [
        "or"
      ]
    },
    {
      "cell_type": "code",
      "metadata": {
        "id": "n3z2o3U2zwWg",
        "colab_type": "code",
        "colab": {}
      },
      "source": [
        ""
      ],
      "execution_count": 0,
      "outputs": []
    },
    {
      "cell_type": "markdown",
      "metadata": {
        "id": "GdT847tOzwWq",
        "colab_type": "text"
      },
      "source": [
        "Let's see what type `surveys_df['species_id']` is, using the `type()` function that we used this morning.  Try it."
      ]
    },
    {
      "cell_type": "code",
      "metadata": {
        "id": "3GYjPQM8zwWt",
        "colab_type": "code",
        "colab": {}
      },
      "source": [
        ""
      ],
      "execution_count": 0,
      "outputs": []
    },
    {
      "cell_type": "markdown",
      "metadata": {
        "id": "hBz40eDizwW0",
        "colab_type": "text"
      },
      "source": [
        "You can think of a Pandas **Series** as a series of observations of one variable.  It behaves like a Python list."
      ]
    },
    {
      "cell_type": "code",
      "metadata": {
        "id": "XIvr4XS_tduW",
        "colab_type": "code",
        "colab": {}
      },
      "source": [
        ""
      ],
      "execution_count": 0,
      "outputs": []
    },
    {
      "cell_type": "markdown",
      "metadata": {
        "id": "52_nMSn2zwW1",
        "colab_type": "text"
      },
      "source": [
        "We can also slice and dice -- similar to how we selected parts of list objects above.  Try getting back the 3rd through 10th rows of `surveys_df` using this structure:\n",
        "\n",
        "`df[2:5]` # returns rows 2 through 4 of `df`"
      ]
    },
    {
      "cell_type": "code",
      "metadata": {
        "scrolled": true,
        "id": "7uPUAKyazwW2",
        "colab_type": "code",
        "colab": {}
      },
      "source": [
        ""
      ],
      "execution_count": 0,
      "outputs": []
    },
    {
      "cell_type": "markdown",
      "metadata": {
        "id": "HGruf3C_u76a",
        "colab_type": "text"
      },
      "source": [
        "Or, we can select just certain columns with a structure like this:\n",
        "\n",
        "df[['variableA', 'variableB']] # returns a DataFrame with `variableA` and `variableB` from `df`\n",
        "\n",
        "Use this structure to get back a `DataFrame` containg just the `species_id` and `hindfood_length` columns from `surveys_df`:"
      ]
    },
    {
      "cell_type": "code",
      "metadata": {
        "id": "GRnVvpRUuGcA",
        "colab_type": "code",
        "colab": {}
      },
      "source": [
        ""
      ],
      "execution_count": 0,
      "outputs": []
    },
    {
      "cell_type": "markdown",
      "metadata": {
        "id": "0Jw9AmFnzwXC",
        "colab_type": "text"
      },
      "source": [
        "What if we want to get a subset on both columns _and_ rows?\n",
        "\n",
        "Another way to select is with `.loc`, which selects based on *labels* (as opposed to `.iloc` which selects using *numerical indices*).  Try this:"
      ]
    },
    {
      "cell_type": "code",
      "metadata": {
        "id": "BzBJbqjfzwXF",
        "colab_type": "code",
        "colab": {}
      },
      "source": [
        ""
      ],
      "execution_count": 0,
      "outputs": []
    },
    {
      "cell_type": "markdown",
      "metadata": {
        "id": "oCUzC5WczwXM",
        "colab_type": "text"
      },
      "source": [
        "We can also use `.query` to select only rows matching certain conditions.  Note that the query expression is in single quotes."
      ]
    },
    {
      "cell_type": "code",
      "metadata": {
        "id": "QCd1TkcQzwXQ",
        "colab_type": "code",
        "colab": {}
      },
      "source": [
        ""
      ],
      "execution_count": 0,
      "outputs": []
    },
    {
      "cell_type": "markdown",
      "metadata": {
        "id": "xmukwujJzwXV",
        "colab_type": "text"
      },
      "source": [
        "There are other ways to do this.  Try this expression:"
      ]
    },
    {
      "cell_type": "code",
      "metadata": {
        "id": "26tykkKnzwXa",
        "colab_type": "code",
        "colab": {}
      },
      "source": [
        ""
      ],
      "execution_count": 0,
      "outputs": []
    },
    {
      "cell_type": "markdown",
      "metadata": {
        "id": "E57kPghXzwX4",
        "colab_type": "text"
      },
      "source": [
        "How can you use this to get back a data frame with only the rows in `surveys_df` where `hindfoot_length < 10`?"
      ]
    },
    {
      "cell_type": "code",
      "metadata": {
        "id": "Su7nRMw0zwX8",
        "colab_type": "code",
        "colab": {}
      },
      "source": [
        ""
      ],
      "execution_count": 0,
      "outputs": []
    },
    {
      "cell_type": "markdown",
      "metadata": {
        "id": "nJTAgWHMzwYF",
        "colab_type": "text"
      },
      "source": [
        "**Challenge**:  How might you query to get back only rows with `hindfoot_length < 10` **and** `weight > 10` in ONE expression?  (There is more than one way to accomplish this!)"
      ]
    },
    {
      "cell_type": "markdown",
      "metadata": {
        "id": "6Q7aYxjozwYI",
        "colab_type": "text"
      },
      "source": [
        "Pandas has a handy `unique()` function (well, it has many handy functions!) to get all the unique elements in the column:"
      ]
    },
    {
      "cell_type": "code",
      "metadata": {
        "id": "cfRCopBWzwYL",
        "colab_type": "code",
        "colab": {}
      },
      "source": [
        ""
      ],
      "execution_count": 0,
      "outputs": []
    },
    {
      "cell_type": "markdown",
      "metadata": {
        "id": "Brt8BF1xzwYQ",
        "colab_type": "text"
      },
      "source": [
        "Try evaluting the **`.size`** attribute on the above result to see how many unique species there are in the data set."
      ]
    },
    {
      "cell_type": "code",
      "metadata": {
        "id": "qaqmOyY1zwYU",
        "colab_type": "code",
        "colab": {}
      },
      "source": [
        ""
      ],
      "execution_count": 0,
      "outputs": []
    },
    {
      "cell_type": "markdown",
      "metadata": {
        "id": "z0XtY9ogzwYk",
        "colab_type": "text"
      },
      "source": [
        "We see from above that we can also isolate just the data in one column.  Let's try isolating the `weight` column, and calling the **`describe()`** function to get some statistics on it."
      ]
    },
    {
      "cell_type": "code",
      "metadata": {
        "id": "4AAtcd38zwYs",
        "colab_type": "code",
        "colab": {}
      },
      "source": [
        ""
      ],
      "execution_count": 0,
      "outputs": []
    },
    {
      "cell_type": "markdown",
      "metadata": {
        "id": "HTRl5zTzzwYw",
        "colab_type": "text"
      },
      "source": [
        "Using `corr()`, We can also get a quick pairwise correlation between every pair of numerical variables:"
      ]
    },
    {
      "cell_type": "code",
      "metadata": {
        "id": "RpO4DiNPzwY0",
        "colab_type": "code",
        "colab": {}
      },
      "source": [
        ""
      ],
      "execution_count": 0,
      "outputs": []
    },
    {
      "cell_type": "markdown",
      "metadata": {
        "id": "t8NJ3268zwY_",
        "colab_type": "text"
      },
      "source": [
        "Pandas can also sort and group data based on the values in a column:"
      ]
    },
    {
      "cell_type": "code",
      "metadata": {
        "id": "gM9BdjxHzwZE",
        "colab_type": "code",
        "colab": {}
      },
      "source": [
        ""
      ],
      "execution_count": 0,
      "outputs": []
    },
    {
      "cell_type": "markdown",
      "metadata": {
        "id": "KoDUtl7JDAEw",
        "colab_type": "text"
      },
      "source": [
        "Another handy operator is `~` (tilde), which gives us the \"opposite\" of a result.  Let's say we want to get all of the `AB` species observations, but only where the `hindfoot_length` variable has a value: "
      ]
    },
    {
      "cell_type": "code",
      "metadata": {
        "id": "5VpJHaPZ3j7M",
        "colab_type": "code",
        "colab": {}
      },
      "source": [
        ""
      ],
      "execution_count": 0,
      "outputs": []
    },
    {
      "cell_type": "markdown",
      "metadata": {
        "id": "2RDbakQKzwZI",
        "colab_type": "text"
      },
      "source": [
        "Try running **`describe()`** on `grouped_by_species`:"
      ]
    },
    {
      "cell_type": "code",
      "metadata": {
        "id": "wFTR_f8DDdZ3",
        "colab_type": "code",
        "colab": {}
      },
      "source": [
        ""
      ],
      "execution_count": 0,
      "outputs": []
    },
    {
      "cell_type": "markdown",
      "metadata": {
        "id": "bsRnnigmzwZY",
        "colab_type": "text"
      },
      "source": [
        "Now we're going to create some series with:\n",
        "\n",
        "* The number of animals observed per species\n",
        "* The mean weight of all animals observed in each species"
      ]
    },
    {
      "cell_type": "code",
      "metadata": {
        "id": "VdguX2twzwZc",
        "colab_type": "code",
        "colab": {}
      },
      "source": [
        "# a series with the number of samples by species\n",
        "\n",
        "\n",
        "# a series with the mean weight by species\n",
        "\n"
      ],
      "execution_count": 0,
      "outputs": []
    },
    {
      "cell_type": "markdown",
      "metadata": {
        "id": "ECPIasskzwZg",
        "colab_type": "text"
      },
      "source": [
        "(For future reference:  `.agg()` or `.aggregate()` can be a useful way to work with \"groupby\" objects)\n",
        "\n",
        "\n",
        "Let's look at each - notice that each is a Series:"
      ]
    },
    {
      "cell_type": "code",
      "metadata": {
        "id": "v9TacWLhzwZh",
        "colab_type": "code",
        "colab": {}
      },
      "source": [
        ""
      ],
      "execution_count": 0,
      "outputs": []
    },
    {
      "cell_type": "code",
      "metadata": {
        "id": "eAd_gG-gzwZk",
        "colab_type": "code",
        "colab": {}
      },
      "source": [
        "\n"
      ],
      "execution_count": 0,
      "outputs": []
    },
    {
      "cell_type": "markdown",
      "metadata": {
        "id": "9RzFSc7ezwZn",
        "colab_type": "text"
      },
      "source": [
        "Let's try creating some quick bar charts.  First we need to make sure figures appear inline in the notebook:"
      ]
    },
    {
      "cell_type": "code",
      "metadata": {
        "id": "jpInBlB6zwZp",
        "colab_type": "code",
        "colab": {}
      },
      "source": [
        "import matplotlib.pyplot as plt\n",
        "\n",
        "%matplotlib inline"
      ],
      "execution_count": 0,
      "outputs": []
    },
    {
      "cell_type": "markdown",
      "metadata": {
        "id": "OODo3imQzwZt",
        "colab_type": "text"
      },
      "source": [
        "And now we'll create some quick charts using `plt.scatter()` followed by `plt.show()`:"
      ]
    },
    {
      "cell_type": "code",
      "metadata": {
        "scrolled": true,
        "id": "HQeIDa-HzwZv",
        "colab_type": "code",
        "colab": {}
      },
      "source": [
        ""
      ],
      "execution_count": 0,
      "outputs": []
    },
    {
      "cell_type": "markdown",
      "metadata": {
        "id": "XGAbo-qF3eL3",
        "colab_type": "text"
      },
      "source": [
        "We can also use `plt.hist()` to create a histogram.  Create a histogram of the values of `surveys_df.hindfoot_length`.  Hint:  You will need to use `notnull()` to only consider non-null values of `hindfoot_length`."
      ]
    },
    {
      "cell_type": "code",
      "metadata": {
        "id": "mzkcTOxlzwZ2",
        "colab_type": "code",
        "colab": {}
      },
      "source": [
        ""
      ],
      "execution_count": 0,
      "outputs": []
    },
    {
      "cell_type": "markdown",
      "metadata": {
        "id": "DdVDbrmVzwZ7",
        "colab_type": "text"
      },
      "source": [
        "We can also call `.plot()` on a Series:"
      ]
    },
    {
      "cell_type": "code",
      "metadata": {
        "id": "nzCRy1omzwZ8",
        "colab_type": "code",
        "colab": {}
      },
      "source": [
        ""
      ],
      "execution_count": 0,
      "outputs": []
    },
    {
      "cell_type": "markdown",
      "metadata": {
        "id": "Xuz4ygyx4G-y",
        "colab_type": "text"
      },
      "source": [
        "And we can control the size of the figure by adding a `figsize` parameter to `plot()`.  For example, we can add `figsize=(15,5)` where 15 is the width and 5 is the height."
      ]
    },
    {
      "cell_type": "code",
      "metadata": {
        "id": "U51qqn_1zwaS",
        "colab_type": "code",
        "colab": {}
      },
      "source": [
        ""
      ],
      "execution_count": 0,
      "outputs": []
    },
    {
      "cell_type": "markdown",
      "metadata": {
        "id": "yJbruXq5zwaY",
        "colab_type": "text"
      },
      "source": [
        "And now for a scatter plot, where we specify which variables are the x and y:"
      ]
    },
    {
      "cell_type": "code",
      "metadata": {
        "id": "bI6hKyiJ5QBb",
        "colab_type": "code",
        "colab": {}
      },
      "source": [
        ""
      ],
      "execution_count": 0,
      "outputs": []
    },
    {
      "cell_type": "markdown",
      "metadata": {
        "id": "BGCcAoAn5VIR",
        "colab_type": "text"
      },
      "source": [
        "But let's look up what more we can do with this plot.  Try looking up help on `matplotlib.pyplot.scatter`"
      ]
    },
    {
      "cell_type": "code",
      "metadata": {
        "id": "eImkhlVE5gWg",
        "colab_type": "code",
        "colab": {}
      },
      "source": [
        ""
      ],
      "execution_count": 0,
      "outputs": []
    },
    {
      "cell_type": "markdown",
      "metadata": {
        "id": "cbFabWQw5hWg",
        "colab_type": "text"
      },
      "source": [
        "Let's try using a few of these parameters:"
      ]
    },
    {
      "cell_type": "code",
      "metadata": {
        "id": "quXqJ_d_zwaY",
        "colab_type": "code",
        "colab": {}
      },
      "source": [
        ""
      ],
      "execution_count": 0,
      "outputs": []
    },
    {
      "cell_type": "markdown",
      "metadata": {
        "id": "OIfC96T9zwak",
        "colab_type": "text"
      },
      "source": [
        "See if you can look up another plot type and get it to work!"
      ]
    },
    {
      "cell_type": "code",
      "metadata": {
        "id": "PHPXc2aIzwak",
        "colab_type": "code",
        "colab": {}
      },
      "source": [
        ""
      ],
      "execution_count": 0,
      "outputs": []
    },
    {
      "cell_type": "markdown",
      "metadata": {
        "id": "q1_0wpDqzwas",
        "colab_type": "text"
      },
      "source": [
        "## Nicer plotting, with `ggplot`\n",
        "\n",
        "Let's try a different plotting library, called `ggplot` (from the `plotnine` package), that thinks about plotting data in a different way, in terms of \"adding\" *data* plus *aesthetics* (colors, shapes, etc.) plus *layers* (which add to or modify the plot)\n",
        "\n",
        "In Python, the `ggplot` library is available as part of the `plotline` package."
      ]
    },
    {
      "cell_type": "code",
      "metadata": {
        "id": "mVbPI73Vzwav",
        "colab_type": "code",
        "colab": {}
      },
      "source": [
        "from plotnine import *"
      ],
      "execution_count": 0,
      "outputs": []
    },
    {
      "cell_type": "markdown",
      "metadata": {
        "id": "uV-YHg42zwaz",
        "colab_type": "text"
      },
      "source": [
        "The first thing we'll do is create a ggplot object using `ggplot()` and give it:\n",
        "- Our data frame (`surveys_df`)\n",
        "- Aesthetics information, such as which variables in our data frame will be used as the independent (x) and dependent (y) variables.  We'll add (using `+`) `aes(x, y)`"
      ]
    },
    {
      "cell_type": "code",
      "metadata": {
        "id": "pfbYSX5kzwa0",
        "colab_type": "code",
        "colab": {}
      },
      "source": [
        ""
      ],
      "execution_count": 0,
      "outputs": []
    },
    {
      "cell_type": "markdown",
      "metadata": {
        "id": "JjXQtbTzzwa4",
        "colab_type": "text"
      },
      "source": [
        "Hmmm, we get a canvas but it's mysteriously empty!   We need to add a ***layer***, using `+`.  We'll add a layer with points, using `geom_point()`"
      ]
    },
    {
      "cell_type": "code",
      "metadata": {
        "id": "GWYv4Z_Rzwa6",
        "colab_type": "code",
        "colab": {}
      },
      "source": [
        ""
      ],
      "execution_count": 0,
      "outputs": []
    },
    {
      "cell_type": "markdown",
      "metadata": {
        "id": "UmLMlsLizwa8",
        "colab_type": "text"
      },
      "source": [
        "Not bad!  Let's see if we can perhaps color-code the points based on the species_id, by adding a `color` parameter to the `aes()` component."
      ]
    },
    {
      "cell_type": "code",
      "metadata": {
        "id": "IGGiS21Kzwa9",
        "colab_type": "code",
        "colab": {}
      },
      "source": [
        ""
      ],
      "execution_count": 0,
      "outputs": []
    },
    {
      "cell_type": "markdown",
      "metadata": {
        "id": "FaWUSZXHzwbB",
        "colab_type": "text"
      },
      "source": [
        "This is great, but, perhaps with so many species_id values, it becomes hard to distinguish between the colors to have a meaningful color layer.   Let's create a subset using just the top 10 species.\n",
        "\n",
        "Remember earlier we created `species_counts`?  We'll use it and do a bit of sorting, using `sort_values()`, to get just the top ten species as as a list:"
      ]
    },
    {
      "cell_type": "code",
      "metadata": {
        "id": "7VOWaT2MzwbC",
        "colab_type": "code",
        "colab": {}
      },
      "source": [
        ""
      ],
      "execution_count": 0,
      "outputs": []
    },
    {
      "cell_type": "markdown",
      "metadata": {
        "id": "n1rig23qzwbE",
        "colab_type": "text"
      },
      "source": [
        "How would you get just the first 10 values?"
      ]
    },
    {
      "cell_type": "code",
      "metadata": {
        "id": "V9n7v622zwbM",
        "colab_type": "code",
        "colab": {}
      },
      "source": [
        ""
      ],
      "execution_count": 0,
      "outputs": []
    },
    {
      "cell_type": "markdown",
      "metadata": {
        "id": "BNfbi1CozwbO",
        "colab_type": "text"
      },
      "source": [
        "But we simply want the species ids, not any of the other stuff.  Similar to a Python dictionary, we can use `.keys()` to get that:"
      ]
    },
    {
      "cell_type": "code",
      "metadata": {
        "id": "Xs0g-1i9zwbQ",
        "colab_type": "code",
        "colab": {}
      },
      "source": [
        ""
      ],
      "execution_count": 0,
      "outputs": []
    },
    {
      "cell_type": "markdown",
      "metadata": {
        "id": "R3Nl0gQuzwbT",
        "colab_type": "text"
      },
      "source": [
        "And let's use a variable to store our index of top species so we can reuse it:"
      ]
    },
    {
      "cell_type": "code",
      "metadata": {
        "id": "1F1BZuOTzwbT",
        "colab_type": "code",
        "colab": {}
      },
      "source": [
        ""
      ],
      "execution_count": 0,
      "outputs": []
    },
    {
      "cell_type": "markdown",
      "metadata": {
        "id": "BiIGs2_XzwbZ",
        "colab_type": "text"
      },
      "source": [
        "Now that we have a simple list of the top 10 species IDs, we can use `.isin()` to create a subset data frame containing just the rows with those species_id values:"
      ]
    },
    {
      "cell_type": "markdown",
      "metadata": {
        "id": "zc0shSx9zwba",
        "colab_type": "text"
      },
      "source": [
        "Now that our new data frame has a smaller variety of species, let's try it again with species_id as the key for the color:"
      ]
    },
    {
      "cell_type": "code",
      "metadata": {
        "id": "FR55YAREzwbc",
        "colab_type": "code",
        "colab": {}
      },
      "source": [
        ""
      ],
      "execution_count": 0,
      "outputs": []
    },
    {
      "cell_type": "code",
      "metadata": {
        "id": "H5YT4Z4Rzwbg",
        "colab_type": "code",
        "colab": {}
      },
      "source": [
        ""
      ],
      "execution_count": 0,
      "outputs": []
    },
    {
      "cell_type": "markdown",
      "metadata": {
        "id": "oDffX2Qhzwbo",
        "colab_type": "text"
      },
      "source": [
        "And now to render the plot:"
      ]
    },
    {
      "cell_type": "code",
      "metadata": {
        "id": "LdoG5vUMzwbp",
        "colab_type": "code",
        "colab": {}
      },
      "source": [
        ""
      ],
      "execution_count": 0,
      "outputs": []
    },
    {
      "cell_type": "markdown",
      "metadata": {
        "id": "Tnfk_soxzwbu",
        "colab_type": "text"
      },
      "source": [
        "Here are some other layers we can try adding.  See what the `stat_smooth()` and `theme_xkcd()` layers do:"
      ]
    },
    {
      "cell_type": "code",
      "metadata": {
        "id": "9X2HAT5Wzwbu",
        "colab_type": "code",
        "colab": {}
      },
      "source": [
        ""
      ],
      "execution_count": 0,
      "outputs": []
    },
    {
      "cell_type": "markdown",
      "metadata": {
        "id": "18T9YQsk65GD",
        "colab_type": "text"
      },
      "source": [
        "We can also try `facet_wrap('~variablename')` and pass it the name of the variable we'd like to use as our facet.  Let's facet on `species_id` so we can look at the hindfoot_length vs. weight for each species separately:"
      ]
    },
    {
      "cell_type": "code",
      "metadata": {
        "id": "0vtlO-HRzwbv",
        "colab_type": "code",
        "colab": {}
      },
      "source": [
        ""
      ],
      "execution_count": 0,
      "outputs": []
    },
    {
      "cell_type": "code",
      "metadata": {
        "id": "Md3_kaoPzwb6",
        "colab_type": "code",
        "colab": {}
      },
      "source": [
        ""
      ],
      "execution_count": 0,
      "outputs": []
    }
  ]
}