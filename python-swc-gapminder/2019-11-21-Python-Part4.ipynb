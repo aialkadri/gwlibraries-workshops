{
 "cells": [
  {
   "cell_type": "markdown",
   "metadata": {},
   "source": [
    "# Python Part 4: More Python fundamentals"
   ]
  },
  {
   "cell_type": "markdown",
   "metadata": {},
   "source": [
    "Remember we talked about lists yesterday? That was useful for some of the work we did with pandas, to understand slicing, and passing lists as arguments to pandas functions. \n",
    "\n",
    "Now let's look at some of the things that are also possible once you have collections of items that you want to apply functions to. \n",
    "\n",
    "## for loops\n",
    "A _for_ loop executes commands once for each value in a collection.\n",
    "\n",
    "* Doing calculations on the values in a list one by one is as painful as working with temp_001, temp_002, etc.\n",
    "* A _for_ loop tells Python to execute some statements once for each value in a list, each item in the collection of things. \n",
    "* Think to yourself: “for each thing in this group, do these operations”\n",
    "\n",
    "Let's go back to our list of temperatures we created yesterday. We'll just start fresh with a new batch of temperatures. They're in Fahrenheit and we want to convert them to Celsius. "
   ]
  },
  {
   "cell_type": "code",
   "execution_count": 12,
   "metadata": {},
   "outputs": [],
   "source": [
    "temps = [45, 50, 38, 72]\n",
    "temps_c = []"
   ]
  },
  {
   "cell_type": "code",
   "execution_count": 15,
   "metadata": {},
   "outputs": [],
   "source": [
    "for item in temps:\n",
    "    celsius = (item - 32) * 5/9 \n",
    "    temps_c.append(celsius)\n",
    "    #alternative more concise version\n",
    "    #temps_c.append(int(celsius))"
   ]
  },
  {
   "cell_type": "markdown",
   "metadata": {},
   "source": [
    "The first line of the for loop must end with a colon, and the body must be indented.\n",
    "The colon at the end of the first line signals the start of a block of statements.\n",
    "Python uses indentation rather than {} or begin/end to show nesting.\n",
    "Any consistent indentation is legal, but almost everyone uses four spaces."
   ]
  },
  {
   "cell_type": "code",
   "execution_count": 16,
   "metadata": {},
   "outputs": [
    {
     "name": "stdout",
     "output_type": "stream",
     "text": [
      "[7.222222222222222, 10.0, 3.3333333333333335, 22.22222222222222]\n"
     ]
    }
   ],
   "source": [
    "print(temps_c)"
   ]
  },
  {
   "cell_type": "markdown",
   "metadata": {},
   "source": [
    "If we wanted these rounded, we could use the round function, or we could convert them to integers using the `int()` method (always rounds down).\n",
    "\n",
    "Loop variables can be called anything. As with all variables, loop variables are:\n",
    "* Created on demand.\n",
    "* Meaningless: their names can be anything at all."
   ]
  },
  {
   "cell_type": "code",
   "execution_count": 17,
   "metadata": {},
   "outputs": [
    {
     "name": "stdout",
     "output_type": "stream",
     "text": [
      "45\n",
      "50\n",
      "38\n",
      "72\n"
     ]
    }
   ],
   "source": [
    "for kitten in temps:\n",
    "    print(kitten)"
   ]
  },
  {
   "cell_type": "markdown",
   "metadata": {},
   "source": [
    "**Exercise:** using a for loop to capitalize words in a sentence. "
   ]
  },
  {
   "cell_type": "code",
   "execution_count": 27,
   "metadata": {},
   "outputs": [
    {
     "name": "stdout",
     "output_type": "stream",
     "text": [
      "Nomadic algorithms for machine learning in the cloud 2020\n"
     ]
    }
   ],
   "source": [
    "sentence = \"Nomadic algorithms for machine learning in the cloud 2020  \"\n",
    "sentence = sentence.strip()\n",
    "print(sentence)"
   ]
  },
  {
   "cell_type": "markdown",
   "metadata": {},
   "source": [
    "We can split a string using a string methods called `split()`. It will default to splitting a string by spaces, which is useful here. Its result is a list. "
   ]
  },
  {
   "cell_type": "code",
   "execution_count": 28,
   "metadata": {},
   "outputs": [
    {
     "name": "stdout",
     "output_type": "stream",
     "text": [
      "['Nomadic', 'algorithms', 'for', 'machine', 'learning', 'in', 'the', 'cloud', '2020']\n"
     ]
    }
   ],
   "source": [
    "words = sentence.split()\n",
    "print(words)"
   ]
  },
  {
   "cell_type": "markdown",
   "metadata": {},
   "source": [
    "**Instructions:** \n",
    "\n",
    "There's another string method called `capitalize()` and it will return a string with the first letter capitalized. \n",
    "\n",
    "Create a new, empty list called cap_words. Create a _for_ loop, capitalize each word in the sentence, and add those words to the new cap_words list. "
   ]
  },
  {
   "cell_type": "code",
   "execution_count": 29,
   "metadata": {},
   "outputs": [
    {
     "name": "stdout",
     "output_type": "stream",
     "text": [
      "['Nomadic', 'Algorithms', 'For', 'Machine', 'Learning', 'In', 'The', 'Cloud', '2020']\n"
     ]
    }
   ],
   "source": [
    "cap_words = []\n",
    "for word in words:\n",
    "    new_word = word.capitalize()\n",
    "    cap_words.append(new_word)\n",
    "\n",
    "print(cap_words)"
   ]
  },
  {
   "cell_type": "markdown",
   "metadata": {},
   "source": [
    "## Conditionals\n"
   ]
  },
  {
   "cell_type": "markdown",
   "metadata": {},
   "source": [
    "Use `if` statements to control whether or not a block of code is executed.\n",
    "\n",
    "An `if` statement (more properly called a conditional statement) controls whether some block of code is executed or not.\n",
    "\n",
    "Structure is similar to a `for` statement:\n",
    "* First line opens with if and ends with a colon\n",
    "* Body containing one or more statements is indented (usually by 4 spaces)"
   ]
  },
  {
   "cell_type": "code",
   "execution_count": 31,
   "metadata": {},
   "outputs": [
    {
     "name": "stdout",
     "output_type": "stream",
     "text": [
      "3.54 is large\n"
     ]
    }
   ],
   "source": [
    "mass = 3.54\n",
    "if mass > 3.0:\n",
    "    print(mass, 'is large')"
   ]
  },
  {
   "cell_type": "code",
   "execution_count": 33,
   "metadata": {},
   "outputs": [],
   "source": [
    "mass = 2.7\n",
    "if mass > 3.0:\n",
    "    print (mass, 'is large')"
   ]
  },
  {
   "cell_type": "markdown",
   "metadata": {},
   "source": [
    "Not much point using a conditional when we know the value (as above).\n",
    "\n",
    "More useful inside loops, to determine if certain actions should happen, on a collection of items. "
   ]
  },
  {
   "cell_type": "code",
   "execution_count": 35,
   "metadata": {},
   "outputs": [
    {
     "name": "stdout",
     "output_type": "stream",
     "text": [
      "3.5 is large\n",
      "9.2 is large\n"
     ]
    }
   ],
   "source": [
    "masses = [3.5, 2.0, 9.2, 1.8, 1.7]\n",
    "\n",
    "for m in masses:\n",
    "    if m > 3.0:\n",
    "        print(m, 'is large')"
   ]
  },
  {
   "cell_type": "markdown",
   "metadata": {},
   "source": [
    "Use `else` to execute a block of code when an if condition is not true. `else` can be used following an `if`.\n",
    "\n",
    "Allows us to specify an alternative to execute when the if branch isn’t taken."
   ]
  },
  {
   "cell_type": "code",
   "execution_count": 36,
   "metadata": {},
   "outputs": [
    {
     "name": "stdout",
     "output_type": "stream",
     "text": [
      "3.5 is large\n",
      "2.0 is small\n",
      "9.2 is large\n",
      "1.8 is small\n",
      "1.7 is small\n"
     ]
    }
   ],
   "source": [
    "for m in masses:\n",
    "    if m > 3.0:\n",
    "        print(m, 'is large')\n",
    "    else:\n",
    "        print(m, 'is small')"
   ]
  },
  {
   "cell_type": "markdown",
   "metadata": {},
   "source": [
    "Use `elif` to specify additional tests. May want to provide several alternative choices, each with its own test.\n",
    "\n",
    "Use elif (short for “else if”) and a condition to specify these.\n",
    "* Always associated with an if. A condition after an if. It's an alternative to an `if`.\n",
    "* Must come before an `else` (which is the “catch all”)."
   ]
  },
  {
   "cell_type": "code",
   "execution_count": 37,
   "metadata": {},
   "outputs": [
    {
     "name": "stdout",
     "output_type": "stream",
     "text": [
      "3.5 is large\n",
      "2.0 is small\n",
      "9.2 is huge\n",
      "1.8 is small\n",
      "1.7 is small\n"
     ]
    }
   ],
   "source": [
    "for m in masses:\n",
    "    if m > 9.0:\n",
    "        print(m, 'is huge')\n",
    "    elif m > 3.0:\n",
    "        print(m, 'is large')\n",
    "    else:\n",
    "        print(m, 'is small')"
   ]
  },
  {
   "cell_type": "markdown",
   "metadata": {},
   "source": [
    "Conditions are tested once, in order.\n",
    "Python steps through the branches of the conditional in order, testing each in turn.\n",
    "So ordering matters."
   ]
  },
  {
   "cell_type": "markdown",
   "metadata": {},
   "source": [
    "**Exercise:**\n",
    "\n",
    "Fill in the blanks so that this program creates a new list containing zeroes where the original list’s values were negative and ones where the original list’s values were positive.\n",
    "\n",
    "`original = [-1.5, 0.2, 0.4, 0.0, -1.3, 0.4]\n",
    "result = ____\n",
    "for value in original:\n",
    "    if ____:\n",
    "        result.append(0)\n",
    "    else:\n",
    "        ____\n",
    "print(result)`\n",
    "\n",
    "Figure out what goes in the blanks. If you have questions or feel stuck, turn to someone else near you and discuss the problem. "
   ]
  },
  {
   "cell_type": "code",
   "execution_count": 38,
   "metadata": {},
   "outputs": [
    {
     "name": "stdout",
     "output_type": "stream",
     "text": [
      "[0, 1, 1, 1, 0, 1]\n"
     ]
    }
   ],
   "source": [
    "#Answer:\n",
    "original = [-1.5, 0.2, 0.4, 0.0, -1.3, 0.4]\n",
    "result = []\n",
    "for value in original:\n",
    "    if value < 0.0:\n",
    "        result.append(0)\n",
    "    else:\n",
    "        result.append(1)\n",
    "print(result)"
   ]
  }
 ],
 "metadata": {
  "kernelspec": {
   "display_name": "Python 3",
   "language": "python",
   "name": "python3"
  },
  "language_info": {
   "codemirror_mode": {
    "name": "ipython",
    "version": 3
   },
   "file_extension": ".py",
   "mimetype": "text/x-python",
   "name": "python",
   "nbconvert_exporter": "python",
   "pygments_lexer": "ipython3",
   "version": "3.7.5"
  }
 },
 "nbformat": 4,
 "nbformat_minor": 2
}
