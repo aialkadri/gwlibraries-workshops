{
 "cells": [
  {
   "cell_type": "markdown",
   "metadata": {
    "collapsed": true
   },
   "source": [
    "# Welcome to the **GW Libraries Programming with Python workshop.**\n",
    "\n",
    "### Quick tips\n",
    "\n",
    "Here are some handy shortcuts when working in a Jupyter notebook:\n",
    "- Shift-Return (Shift-Enter) runs the cell you're on.  You can also run the cell using the \"Play\" button in the toolbar.\n",
    "- Esc, then A inserts a cell above where you are.\n",
    "- Esc, then B inserts a cell below where you are.\n",
    "- More shortcuts under Help --> Keyboard Shortcuts\n",
    "\n",
    "You will probably get some errors in working through this notebook.  That's okay, you can just go back and change the cell and re-run it.\n",
    "\n",
    "The notebook auto-saves as you work, just like gmail!\n",
    "\n",
    "# Variables\n",
    "\n",
    "The first thing we're going to do is to learn about **variables**.  Variables are a way to store values that can be numbers, text, lists, boolean (true/false), etc.\n",
    "\n",
    "Much like in algebra, you set the value of a variable using what looks like an equation.\n",
    "\n",
    "To run this next cell, click on it and either press Shift-Enter, or press the Play (\"run cell\") button in the toolbar."
   ]
  },
  {
   "cell_type": "code",
   "execution_count": null,
   "metadata": {},
   "outputs": [],
   "source": [
    "price = 7.99"
   ]
  },
  {
   "cell_type": "markdown",
   "metadata": {},
   "source": [
    "So let's see the effect of that, by having Python **evaluate** our variable called `price`.  Again, press Shift-Enter, or press the Play (\"run cell\") button in the toolbar."
   ]
  },
  {
   "cell_type": "code",
   "execution_count": null,
   "metadata": {},
   "outputs": [],
   "source": [
    "price"
   ]
  },
  {
   "cell_type": "markdown",
   "metadata": {},
   "source": [
    "Next, set the value of a new variable to your name.   A couple of things you'll need to know:\n",
    "* Variable names can't contain spaces or special characters (except `_` )\n",
    "* String values (like words or text) must be contained in a pair of either matching single quotes or matching double quotes.  For example:  `'This is some text'` or `\"This is some text\"`"
   ]
  },
  {
   "cell_type": "code",
   "execution_count": null,
   "metadata": {},
   "outputs": [],
   "source": []
  },
  {
   "cell_type": "code",
   "execution_count": null,
   "metadata": {},
   "outputs": [],
   "source": []
  },
  {
   "cell_type": "markdown",
   "metadata": {},
   "source": [
    "If you have another language installed on your computer (Chinese, Arabic, etc.), try using foreign characters in your string.  Python 3 handles these well."
   ]
  },
  {
   "cell_type": "code",
   "execution_count": null,
   "metadata": {},
   "outputs": [],
   "source": []
  },
  {
   "cell_type": "markdown",
   "metadata": {},
   "source": [
    "What if we wanted to do some simple math using these variables?\n",
    "\n",
    "* Create a new variable called `quantity` and set it to a number.\n",
    "* Create another new variable called `extended_price` and set it to the product of price \\* quantity (use `*` for multiplying)\n"
   ]
  },
  {
   "cell_type": "code",
   "execution_count": null,
   "metadata": {},
   "outputs": [],
   "source": []
  },
  {
   "cell_type": "markdown",
   "metadata": {},
   "source": [
    "What happens if you try multiplying the name variable by 4?"
   ]
  },
  {
   "cell_type": "code",
   "execution_count": null,
   "metadata": {},
   "outputs": [],
   "source": []
  },
  {
   "cell_type": "markdown",
   "metadata": {},
   "source": [
    "How about if you *divide* it by 2?  Add a number to it?  Add another name to it (using `+`)?"
   ]
  },
  {
   "cell_type": "code",
   "execution_count": null,
   "metadata": {},
   "outputs": [],
   "source": []
  },
  {
   "cell_type": "markdown",
   "metadata": {},
   "source": [
    "What we're starting to see here is that Python has different **types** for numbers, text, and more.  You can find out the type of a variable by using:\n",
    "\n",
    "**`type(`**put your variable here**`)`** \n",
    "\n",
    "Try it."
   ]
  },
  {
   "cell_type": "code",
   "execution_count": null,
   "metadata": {},
   "outputs": [],
   "source": []
  },
  {
   "cell_type": "markdown",
   "metadata": {},
   "source": [
    "Numbers, by the way, aren't just numbers.  Look at the type of the `price` variable versus another variable set to `7`.\n",
    "\n",
    "You can even re-assign an existing variable to new type.  Try it!"
   ]
  },
  {
   "cell_type": "code",
   "execution_count": null,
   "metadata": {},
   "outputs": [],
   "source": []
  },
  {
   "cell_type": "markdown",
   "metadata": {},
   "source": [
    "There's also another important basic variable type, called a **boolean** variable.  Booleans can have a value of **`True`** or **`False`** (capitalized, in Python)\n",
    "\n",
    "Create a variable called `gwstudent` and assign its value to `True`:"
   ]
  },
  {
   "cell_type": "code",
   "execution_count": null,
   "metadata": {},
   "outputs": [],
   "source": []
  },
  {
   "cell_type": "markdown",
   "metadata": {},
   "source": [
    "Now evaluate the `type()` of gwstudent."
   ]
  },
  {
   "cell_type": "code",
   "execution_count": null,
   "metadata": {},
   "outputs": [],
   "source": []
  },
  {
   "cell_type": "markdown",
   "metadata": {},
   "source": [
    "#### Comparison operators:  <, >, ==, !=, <=, >=, and, or, not, ...\n",
    "\n",
    "Try out some comparisons, for example, whether:\n",
    "* `price` is greater than 5.99\n",
    "* `name` is equal to \"Dan\""
   ]
  },
  {
   "cell_type": "code",
   "execution_count": null,
   "metadata": {},
   "outputs": [],
   "source": []
  },
  {
   "cell_type": "markdown",
   "metadata": {},
   "source": [
    "# Lists and Tuples"
   ]
  },
  {
   "cell_type": "markdown",
   "metadata": {},
   "source": [
    "**Lists** in Python hold an _ordered_ sequence of elements, like this:\n",
    "\n",
    "`states = ['Virginia', 'Maryland', 'New Jersey', 'Utah', 'Rhode Island']`\n",
    "\n",
    "Try creating a list of several countries."
   ]
  },
  {
   "cell_type": "code",
   "execution_count": null,
   "metadata": {},
   "outputs": [],
   "source": []
  },
  {
   "cell_type": "markdown",
   "metadata": {},
   "source": [
    "We can access the n'th element of a list using the `mylist[n]` notation.\n",
    "\n",
    "Try retrieving the first country in the list you created above."
   ]
  },
  {
   "cell_type": "code",
   "execution_count": null,
   "metadata": {},
   "outputs": [],
   "source": []
  },
  {
   "cell_type": "markdown",
   "metadata": {},
   "source": [
    "Notice that in Python, the first element of the list is really the \"0th\" element (this is not the case when programming in R!)\n",
    "\n",
    "You can also access parts of the list using syntax like: [0:2], [:2], [3:], [-2],[-2:].  See if you can figure out what these do."
   ]
  },
  {
   "cell_type": "code",
   "execution_count": null,
   "metadata": {},
   "outputs": [],
   "source": []
  },
  {
   "cell_type": "code",
   "execution_count": null,
   "metadata": {},
   "outputs": [],
   "source": []
  },
  {
   "cell_type": "markdown",
   "metadata": {},
   "source": [
    "Lists come with useful functions, like `len(mylist)` which returns the length of the list.  Try using `len()`"
   ]
  },
  {
   "cell_type": "code",
   "execution_count": null,
   "metadata": {},
   "outputs": [],
   "source": []
  },
  {
   "cell_type": "markdown",
   "metadata": {},
   "source": [
    "What if you wanted to add an element to a list?  Or remove an element from a list?  Try using:\n",
    "\n",
    "`mylist.append(<the new element>)`\n",
    "for example, `states.append('New York')`"
   ]
  },
  {
   "cell_type": "code",
   "execution_count": null,
   "metadata": {},
   "outputs": [],
   "source": []
  },
  {
   "cell_type": "markdown",
   "metadata": {
    "collapsed": true
   },
   "source": [
    "There are also list functions to do things like insert, remove, sort, reverse.  You can also use the `+` operator to add lists together. You can even multiply a list by a number, similar to how earlier we multiplied a string by a number!\n",
    "\n",
    "Try adding a list of two new states to your list."
   ]
  },
  {
   "cell_type": "code",
   "execution_count": null,
   "metadata": {},
   "outputs": [],
   "source": []
  },
  {
   "cell_type": "markdown",
   "metadata": {},
   "source": [
    "So far, we've only created lists of strings (text).  Do you think Python will let you have a list with a mix of different types in it (numbers, strings, other lists, etc.)?  Try it."
   ]
  },
  {
   "cell_type": "code",
   "execution_count": null,
   "metadata": {},
   "outputs": [],
   "source": []
  },
  {
   "cell_type": "markdown",
   "metadata": {},
   "source": [
    "Strings (like your name variable) also have some list-like behaviors, because they're lists of individual charactres.  How might you get the the n'th character from a string?"
   ]
  },
  {
   "cell_type": "code",
   "execution_count": null,
   "metadata": {},
   "outputs": [],
   "source": []
  },
  {
   "cell_type": "markdown",
   "metadata": {},
   "source": [
    "### Tuples\n",
    "\n",
    "Notice that we created a list using [] square brackets.  If we use () parentheses, we create what's called a *tuple*.  A tuple might be something like this:"
   ]
  },
  {
   "cell_type": "code",
   "execution_count": null,
   "metadata": {},
   "outputs": [],
   "source": [
    "colors = ('blue', 'green', 'red')"
   ]
  },
  {
   "cell_type": "markdown",
   "metadata": {},
   "source": [
    "Notice that tuples are like lists: you can access elements, etc.  But what if you try to append to a tuple?"
   ]
  },
  {
   "cell_type": "markdown",
   "metadata": {},
   "source": [
    "### The \"in\" operator\n",
    "\n",
    "We can use `in` to see whether an element is found in a list.  Try running this:"
   ]
  },
  {
   "cell_type": "code",
   "execution_count": null,
   "metadata": {},
   "outputs": [],
   "source": [
    "'yellow' in colors"
   ]
  },
  {
   "cell_type": "markdown",
   "metadata": {
    "collapsed": true
   },
   "source": [
    "# Dictionaries\n",
    "\n",
    "A **Dictionary** is a container that holds pairs of objects - keys and values.  Keys may be strings or numbers.  A value may be any type, whether an integer, string, boolean, list, etc.  It can even be another dictionary!\n",
    "\n",
    "Here's an example of a dictionary:"
   ]
  },
  {
   "cell_type": "code",
   "execution_count": null,
   "metadata": {},
   "outputs": [],
   "source": [
    "workshop = {'name': 'Programming With Python',\n",
    "            'duration': 2,\n",
    "            'instructors': ['Dan', 'Laura', 'Justin', 'Dominique', 'Kean'],\n",
    "            'awesome': True}"
   ]
  },
  {
   "cell_type": "markdown",
   "metadata": {
    "collapsed": true
   },
   "source": [
    "So dictionaries are very similar to lists, except that they're indexed with keys.\n",
    "\n",
    "Dictionaries are actually data structures that can represent objects in **JSON** (JavaScript Object Notation) format, which today is a very common way of representing data!\n",
    "\n",
    "How do you think you would access the value of `'instructors'` key from the `workshop` dictionary?"
   ]
  },
  {
   "cell_type": "code",
   "execution_count": null,
   "metadata": {},
   "outputs": [],
   "source": []
  },
  {
   "cell_type": "markdown",
   "metadata": {},
   "source": [
    "How do you think you would ***add*** an item to the dictionary?  Try adding a 'location' item.  How about replacing an item?"
   ]
  },
  {
   "cell_type": "code",
   "execution_count": null,
   "metadata": {},
   "outputs": [],
   "source": []
  },
  {
   "cell_type": "markdown",
   "metadata": {
    "collapsed": true
   },
   "source": [
    "### Challenge\n",
    "\n",
    "How might you add two more names to the list of instructors?  (Challenge:  Try to do this in one line, *without* just overriding the list of instructors)"
   ]
  },
  {
   "cell_type": "code",
   "execution_count": null,
   "metadata": {},
   "outputs": [],
   "source": []
  },
  {
   "cell_type": "markdown",
   "metadata": {},
   "source": [
    "We can also look up whether a certain key exists in a dictionary.  How might you evaluate whether or not `workshop` contains a `location` key?"
   ]
  },
  {
   "cell_type": "code",
   "execution_count": null,
   "metadata": {},
   "outputs": [],
   "source": []
  },
  {
   "cell_type": "markdown",
   "metadata": {},
   "source": [
    "# Comments\n",
    "\n",
    "Comment lines start with `#`.  They don't execute any code, but it's a very good idea to comment your code so that the reader (which might be your future self) can understand anything that's not already obvious from your clear and well-written code."
   ]
  },
  {
   "cell_type": "code",
   "execution_count": null,
   "metadata": {},
   "outputs": [],
   "source": [
    "# This is a comment and is here for the reader's benefit"
   ]
  },
  {
   "cell_type": "markdown",
   "metadata": {},
   "source": [
    "# Iteration (looping)\n",
    "\n",
    "Iteration allows us to repeat over a section of code, and iterate through a list (or other \"iterable\") at the same time.  **`for`** and **`while`** create iterations, like this:\n",
    "\n",
    "```\n",
    "numbers = [4, 6, 0, 5.5, 3]\n",
    "for n in numbers:\n",
    "    print(\"The next number in the list, squared is \", n**2)\n",
    "    \n",
    "print(\"We're done iterating -- notice that this line isn't indented, so it's outside the loop\")\n",
    "```    \n",
    "\n",
    "and this brings up the topic of **indentation**!  The block (i.e., lines) of code that you're iterating over needs to be indented.  In Python, you should indent by 4 spaces.\n",
    "\n",
    "Try creating a list of exam scores that we'd like to grade on a curve.  Use `max()` to find out the highest score.  Then create an iteration that prints out the score as well as the score graded on a curve (by dividing by the highest score).\n"
   ]
  },
  {
   "cell_type": "code",
   "execution_count": null,
   "metadata": {},
   "outputs": [],
   "source": []
  },
  {
   "cell_type": "code",
   "execution_count": null,
   "metadata": {},
   "outputs": [],
   "source": []
  },
  {
   "cell_type": "code",
   "execution_count": null,
   "metadata": {},
   "outputs": [],
   "source": []
  },
  {
   "cell_type": "markdown",
   "metadata": {},
   "source": [
    "Iterating over dictionaries is slightly different:\n"
   ]
  },
  {
   "cell_type": "code",
   "execution_count": null,
   "metadata": {},
   "outputs": [],
   "source": [
    "for key, value in workshop.items():\n",
    "    print (\"The key is \", key, \" and the value is \", value)"
   ]
  },
  {
   "cell_type": "markdown",
   "metadata": {},
   "source": [
    "Notice that dictionaries are unordered.  There's no guarantee about what order the iterator will yield the dictionary items to you in."
   ]
  },
  {
   "cell_type": "markdown",
   "metadata": {},
   "source": [
    "### Another way to iterate: `while`"
   ]
  },
  {
   "cell_type": "markdown",
   "metadata": {},
   "source": [
    "What if we don't have a list or other \"iterable\" for our for loop to iterate over? In that case, you can also loop using **`while`**."
   ]
  },
  {
   "cell_type": "markdown",
   "metadata": {},
   "source": [
    "Let's keep adding random numbers (between 1 and 10) until the sum hits at least 50.  We can use Python's `random` library, which we first need to import:"
   ]
  },
  {
   "cell_type": "code",
   "execution_count": 16,
   "metadata": {},
   "outputs": [],
   "source": [
    "import random"
   ]
  },
  {
   "cell_type": "code",
   "execution_count": 18,
   "metadata": {},
   "outputs": [
    {
     "data": {
      "text/plain": [
       "4"
      ]
     },
     "execution_count": 18,
     "metadata": {},
     "output_type": "execute_result"
    }
   ],
   "source": [
    "random.randint(1,10)"
   ]
  },
  {
   "cell_type": "markdown",
   "metadata": {},
   "source": [
    "Now for the `while` loop:"
   ]
  },
  {
   "cell_type": "raw",
   "metadata": {},
   "source": [
    "sum_so_far = 0 \n",
    "while sum_so_far < 50:\n",
    "    # What would you put in here?"
   ]
  },
  {
   "cell_type": "markdown",
   "metadata": {},
   "source": [
    "### A random side note:\n",
    "    \n",
    "Try running the cell above with `random.randint(1,10)` again and again.  In a scientific setting, how might you ensure that your random sequence is \"repeatable\"?"
   ]
  },
  {
   "cell_type": "markdown",
   "metadata": {},
   "source": [
    "### Another use of while:"
   ]
  },
  {
   "cell_type": "markdown",
   "metadata": {},
   "source": [
    "One way you might see `while` used is with **`while True`** which just continues indefinitely:"
   ]
  },
  {
   "cell_type": "code",
   "execution_count": 38,
   "metadata": {},
   "outputs": [
    {
     "name": "stdout",
     "output_type": "stream",
     "text": [
      "Darn! Didn't get a 7\n",
      "Darn! Didn't get a 7\n",
      "Darn! Didn't get a 7\n",
      "Got a lucky 7 -- Taking my winnings and quitting the while loop.\n"
     ]
    }
   ],
   "source": [
    "lucky_number = 7\n",
    "\n",
    "while True:\n",
    "    a_number = random.randint(1,10)\n",
    "    if a_number != lucky_number:\n",
    "        print(\"Darn! Didn't get a\", lucky_number)\n",
    "    else:\n",
    "        print(\"Got a lucky\", lucky_number,\"-- Taking my winnings and quitting the while loop.\")\n",
    "        break"
   ]
  },
  {
   "cell_type": "markdown",
   "metadata": {},
   "source": [
    "What does the `break` statement do?"
   ]
  },
  {
   "cell_type": "markdown",
   "metadata": {},
   "source": [
    "## Conditionals\n",
    "\n",
    "Notice that in the example above, we snuck in the use of **`if`** and **`else`**.  Conditional expressions, using `if`, `else`, and `elif` (a contraction of \"else if\") allow us to execute blocks of code only if the condition is true.\n",
    "\n",
    "Create some code that iterates through a list of exam scores.  If a score is 70 or above, it should print out \"Pass!\"  If it's below 70, it should print out \"Fail!\""
   ]
  },
  {
   "cell_type": "code",
   "execution_count": null,
   "metadata": {},
   "outputs": [],
   "source": [
    "scores = [61, 95, 70, 80, 85, 99]\n",
    "\n",
    "# for s in scores:\n",
    "    # put your code here"
   ]
  },
  {
   "cell_type": "markdown",
   "metadata": {},
   "source": [
    "## Functions\n",
    "\n",
    "We've already seen some built-in functions, such as `print()`, `max()`, and `len()`.  But Python is meant to be used with more than just its built-in functions.\n",
    "\n",
    "Let's try to take the square root of a number in Python, using `sqrt()`:"
   ]
  },
  {
   "cell_type": "code",
   "execution_count": null,
   "metadata": {},
   "outputs": [],
   "source": []
  },
  {
   "cell_type": "markdown",
   "metadata": {},
   "source": [
    "What happened?  But I googled and saw that the square root function in Python is called `sqrt()`!\n",
    "\n",
    "### Importing libraries and using their functions\n",
    "\n",
    "Libraries are sets of Python functions that you can \"import\" to make available and use with *your* code.\n",
    "\n",
    "There are libraries that are part of Python, such as `math`, and libraries that other people write, such as `numpy`.\n",
    "\n",
    "We can import the math library into our code with:\n",
    "\n",
    "```import math```\n",
    "\n",
    "Each time we call a function that's in a library, we use the syntax ***LibraryName.FunctionName***. Adding the library name with a . before the function name tells Python where to find the function.\n",
    "\n",
    "Let's try taking that square root again:"
   ]
  },
  {
   "cell_type": "code",
   "execution_count": null,
   "metadata": {},
   "outputs": [],
   "source": []
  },
  {
   "cell_type": "code",
   "execution_count": null,
   "metadata": {},
   "outputs": [],
   "source": []
  },
  {
   "cell_type": "markdown",
   "metadata": {},
   "source": [
    "And if we want, we can do something like this:\n",
    "\n",
    "```from math import sqrt```\n",
    "\n",
    "See if you can figure out what effect that had:"
   ]
  },
  {
   "cell_type": "code",
   "execution_count": null,
   "metadata": {},
   "outputs": [],
   "source": []
  },
  {
   "cell_type": "markdown",
   "metadata": {},
   "source": [
    "When might you choose\n",
    "\n",
    "```import some_library```\n",
    "\n",
    "versus\n",
    "\n",
    "```from some_library import some_function```\n",
    "\n",
    "or even\n",
    "\n",
    "```from some_library import *``` ?"
   ]
  },
  {
   "cell_type": "markdown",
   "metadata": {},
   "source": [
    "### Writing our own functions\n",
    "\n",
    "What if we want to write our own functions?\n",
    "\n",
    "Defining part of a program in Python as a function is done using the `def` keyword. For example a function that takes a temperature in degrees Fahrenheit and returns the temperature in degrees Celsius:"
   ]
  },
  {
   "cell_type": "code",
   "execution_count": null,
   "metadata": {},
   "outputs": [],
   "source": [
    "def fahreinheit2celsius(temp_fahr):\n",
    "    temp_celsius = (temp_fahr-32)*5/9\n",
    "    return temp_celsius"
   ]
  },
  {
   "cell_type": "markdown",
   "metadata": {},
   "source": [
    "Now we can use it:"
   ]
  },
  {
   "cell_type": "code",
   "execution_count": null,
   "metadata": {},
   "outputs": [],
   "source": [
    "c = fahreinheit2celsius(100)\n",
    "print(c)"
   ]
  },
  {
   "cell_type": "markdown",
   "metadata": {},
   "source": [
    "### What's variable \"scope\"?"
   ]
  },
  {
   "cell_type": "markdown",
   "metadata": {},
   "source": [
    "Let's say we had defined our function like this, using a variable called `ratio` instead of `5/9`:"
   ]
  },
  {
   "cell_type": "code",
   "execution_count": null,
   "metadata": {},
   "outputs": [],
   "source": [
    "def fahreinheit2celsius(temp_fahr):\n",
    "    ratio = 5/9\n",
    "    temp_celsius = (temp_fahr-32)*ratio\n",
    "    return temp_celsius"
   ]
  },
  {
   "cell_type": "markdown",
   "metadata": {},
   "source": [
    "What happens if we then try to print `ratio`?"
   ]
  },
  {
   "cell_type": "code",
   "execution_count": null,
   "metadata": {},
   "outputs": [],
   "source": [
    "print(ratio)"
   ]
  },
  {
   "cell_type": "markdown",
   "metadata": {},
   "source": [
    "Why did we get this error?"
   ]
  },
  {
   "cell_type": "markdown",
   "metadata": {},
   "source": [
    "### A bit more about passing values to functions\n",
    "\n",
    "Remember earlier how we graded test scores on a curve?  Let's make a function to do that.  We'll pass it the individual test score, and the top score that will be our new \"100%\":"
   ]
  },
  {
   "cell_type": "code",
   "execution_count": null,
   "metadata": {},
   "outputs": [],
   "source": [
    "def curve(score, top_score):\n",
    "    return 100*score/top_score"
   ]
  },
  {
   "cell_type": "code",
   "execution_count": null,
   "metadata": {},
   "outputs": [],
   "source": [
    "curve(89, 96)"
   ]
  },
  {
   "cell_type": "markdown",
   "metadata": {},
   "source": [
    "Now, if we specify which parameter is which, we can pass them in any order we like!"
   ]
  },
  {
   "cell_type": "code",
   "execution_count": null,
   "metadata": {},
   "outputs": [],
   "source": [
    "curve(top_score=96, score=89)"
   ]
  },
  {
   "cell_type": "markdown",
   "metadata": {},
   "source": [
    "Key points here:\n",
    "\n",
    "- definition starts with **`def`**\n",
    "- function body is indented\n",
    "- parameters are matched \"in order\", unless we specify them by name\n",
    "- **`return`** keyword precedes returned value\n"
   ]
  },
  {
   "cell_type": "markdown",
   "metadata": {},
   "source": [
    "### Challenge\n",
    "\n",
    "Can you create a function called `pad` that would take a list and pads it with some new item if it's less than the length you want?  You would use it like this:\n",
    "\n",
    "```\n",
    "names = ['Ali', 'Bob', 'Carla']\n",
    "names = pad(names, 5, '*')\n",
    "```\n",
    "Then `names` would evaluate to:\n",
    "```\n",
    "['Ali', 'Bob', 'Carla', '*', '*']\n",
    "```"
   ]
  },
  {
   "cell_type": "code",
   "execution_count": null,
   "metadata": {},
   "outputs": [],
   "source": []
  },
  {
   "cell_type": "code",
   "execution_count": null,
   "metadata": {},
   "outputs": [],
   "source": []
  },
  {
   "cell_type": "code",
   "execution_count": null,
   "metadata": {},
   "outputs": [],
   "source": []
  }
 ],
 "metadata": {
  "kernelspec": {
   "display_name": "Python 3",
   "language": "python",
   "name": "python3"
  },
  "language_info": {
   "codemirror_mode": {
    "name": "ipython",
    "version": 3
   },
   "file_extension": ".py",
   "mimetype": "text/x-python",
   "name": "python",
   "nbconvert_exporter": "python",
   "pygments_lexer": "ipython3",
   "version": "3.6.6"
  }
 },
 "nbformat": 4,
 "nbformat_minor": 1
}
